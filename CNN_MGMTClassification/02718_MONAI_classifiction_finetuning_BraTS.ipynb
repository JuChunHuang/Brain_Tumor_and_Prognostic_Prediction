{
  "cells": [
    {
      "cell_type": "code",
      "execution_count": 1,
      "metadata": {
        "id": "VIaL5EUqCP3Y"
      },
      "outputs": [],
      "source": [
        "!pip install -qU \"monai[ignite, nibabel, torchvision, tqdm]\""
      ]
    },
    {
      "cell_type": "code",
      "execution_count": 2,
      "metadata": {
        "colab": {
          "base_uri": "https://localhost:8080/"
        },
        "id": "c1tMd9nKCOFI",
        "outputId": "2319f2e5-2c38-4f42-b049-3eb8ca2404f5"
      },
      "outputs": [
        {
          "output_type": "stream",
          "name": "stdout",
          "text": [
            "MONAI version: 1.0.1\n",
            "Numpy version: 1.21.6\n",
            "Pytorch version: 1.13.0+cu116\n",
            "MONAI flags: HAS_EXT = False, USE_COMPILED = False, USE_META_DICT = False\n",
            "MONAI rev id: 8271a193229fe4437026185e218d5b06f7c8ce69\n",
            "MONAI __file__: /usr/local/lib/python3.8/dist-packages/monai/__init__.py\n",
            "\n",
            "Optional dependencies:\n",
            "Pytorch Ignite version: 0.4.10\n",
            "Nibabel version: 3.0.2\n",
            "scikit-image version: 0.18.3\n",
            "Pillow version: 7.1.2\n",
            "Tensorboard version: 2.9.1\n",
            "gdown version: 4.4.0\n",
            "TorchVision version: 0.14.0+cu116\n",
            "tqdm version: 4.64.1\n",
            "lmdb version: 0.99\n",
            "psutil version: 5.4.8\n",
            "pandas version: 1.3.5\n",
            "einops version: NOT INSTALLED or UNKNOWN VERSION.\n",
            "transformers version: NOT INSTALLED or UNKNOWN VERSION.\n",
            "mlflow version: NOT INSTALLED or UNKNOWN VERSION.\n",
            "pynrrd version: NOT INSTALLED or UNKNOWN VERSION.\n",
            "\n",
            "For details about installing the optional dependencies, please visit:\n",
            "    https://docs.monai.io/en/latest/installation.html#installing-the-recommended-dependencies\n",
            "\n"
          ]
        }
      ],
      "source": [
        "import os\n",
        "import shutil\n",
        "import tempfile\n",
        "import glob\n",
        "import pandas as pd\n",
        "import nibabel as nib\n",
        "from tqdm import tqdm\n",
        "\n",
        "import matplotlib.pyplot as plt\n",
        "import numpy as np\n",
        "import PIL\n",
        "\n",
        "import torch\n",
        "import monai\n",
        "\n",
        "\n",
        "from monai.apps import download_and_extract\n",
        "from monai.config import print_config\n",
        "from monai.metrics import ROCAUCMetric\n",
        "from monai.data import decollate_batch, partition_dataset_classes, NibabelReader, DataLoader, Dataset\n",
        "from monai.networks.nets import DenseNet121\n",
        "from monai.transforms import (\n",
        "    AddChannel,\n",
        "    Compose,\n",
        "    LoadImage,\n",
        "    RandFlip,\n",
        "    RandRotate,\n",
        "    RandZoom,\n",
        "    Resize,\n",
        "    ResizeWithPadOrCropd,\n",
        "    ScaleIntensity,\n",
        "    ToTensor,\n",
        "    Activations,\n",
        "    AsDiscrete,\n",
        "    EnsureType,\n",
        "    Pad,\n",
        "    SpatialCrop,\n",
        "    CenterSpatialCrop\n",
        ")\n",
        "from monai.utils import set_determinism\n",
        "\n",
        "print_config()"
      ]
    },
    {
      "cell_type": "code",
      "execution_count": 3,
      "metadata": {
        "id": "iysohXiLCOFM"
      },
      "outputs": [],
      "source": [
        "set_determinism(seed=0)"
      ]
    },
    {
      "cell_type": "code",
      "execution_count": 4,
      "metadata": {
        "colab": {
          "base_uri": "https://localhost:8080/"
        },
        "id": "NkcoXY1JCsHD",
        "outputId": "a79ce15c-202f-4f12-803e-77ecf7670b3d"
      },
      "outputs": [
        {
          "output_type": "stream",
          "name": "stdout",
          "text": [
            "Tue Dec 13 03:33:45 2022       \n",
            "+-----------------------------------------------------------------------------+\n",
            "| NVIDIA-SMI 460.32.03    Driver Version: 460.32.03    CUDA Version: 11.2     |\n",
            "|-------------------------------+----------------------+----------------------+\n",
            "| GPU  Name        Persistence-M| Bus-Id        Disp.A | Volatile Uncorr. ECC |\n",
            "| Fan  Temp  Perf  Pwr:Usage/Cap|         Memory-Usage | GPU-Util  Compute M. |\n",
            "|                               |                      |               MIG M. |\n",
            "|===============================+======================+======================|\n",
            "|   0  Tesla T4            Off  | 00000000:00:04.0 Off |                    0 |\n",
            "| N/A   75C    P0    33W /  70W |      0MiB / 15109MiB |      0%      Default |\n",
            "|                               |                      |                  N/A |\n",
            "+-------------------------------+----------------------+----------------------+\n",
            "                                                                               \n",
            "+-----------------------------------------------------------------------------+\n",
            "| Processes:                                                                  |\n",
            "|  GPU   GI   CI        PID   Type   Process name                  GPU Memory |\n",
            "|        ID   ID                                                   Usage      |\n",
            "|=============================================================================|\n",
            "|  No running processes found                                                 |\n",
            "+-----------------------------------------------------------------------------+\n"
          ]
        }
      ],
      "source": [
        "!nvidia-smi"
      ]
    },
    {
      "cell_type": "code",
      "execution_count": 5,
      "metadata": {
        "colab": {
          "base_uri": "https://localhost:8080/"
        },
        "id": "q32MJrhEF7Uj",
        "outputId": "84242f4e-a2e8-48ad-f5a4-af5d4a148389"
      },
      "outputs": [
        {
          "output_type": "stream",
          "name": "stdout",
          "text": [
            "Drive already mounted at /content/drive; to attempt to forcibly remount, call drive.mount(\"/content/drive\", force_remount=True).\n"
          ]
        }
      ],
      "source": [
        "from google.colab import drive # Link your drive if you are a colab user\n",
        "drive.mount('/content/drive') # Models in this HW take a long time to get trained and make sure to save it her"
      ]
    },
    {
      "cell_type": "code",
      "execution_count": 6,
      "metadata": {
        "colab": {
          "base_uri": "https://localhost:8080/",
          "height": 35
        },
        "id": "FgXsmiCNGBvQ",
        "outputId": "87122af0-c46c-4bad-80fd-5a05e782e7c7"
      },
      "outputs": [
        {
          "output_type": "execute_result",
          "data": {
            "text/plain": [
              "'/content'"
            ],
            "application/vnd.google.colaboratory.intrinsic+json": {
              "type": "string"
            }
          },
          "metadata": {},
          "execution_count": 6
        }
      ],
      "source": [
        "os.getcwd()"
      ]
    },
    {
      "cell_type": "code",
      "execution_count": 7,
      "metadata": {
        "id": "tzErDSzaD1LR"
      },
      "outputs": [],
      "source": [
        "data_dir = '/content/drive/MyDrive/02718 Project/Dataset/nifti'"
      ]
    },
    {
      "cell_type": "markdown",
      "metadata": {
        "id": "ATS4nA5jUA4b"
      },
      "source": [
        "# csv"
      ]
    },
    {
      "cell_type": "code",
      "execution_count": 8,
      "metadata": {
        "id": "1TsUBqJXUDlF"
      },
      "outputs": [],
      "source": [
        "mgmt_df = pd.read_csv('/content/drive/MyDrive/02718 Project/Dataset/mgmt_df_for_image_cls.csv' )"
      ]
    },
    {
      "cell_type": "code",
      "execution_count": 9,
      "metadata": {
        "colab": {
          "base_uri": "https://localhost:8080/"
        },
        "id": "DGswxJG_WJ4l",
        "outputId": "cd22f817-d809-4f80-e9cf-e44384d70429"
      },
      "outputs": [
        {
          "output_type": "execute_result",
          "data": {
            "text/plain": [
              "Index(['ID', 'Age at MRI', 'WHO CNS Grade', 'MGMT index', '1-dead 0-alive',\n",
              "       'OS', 'Sex_F', 'Final pathologic diagnosis_Astrocytoma, IDH-mutant',\n",
              "       'Final pathologic diagnosis_Astrocytoma, IDH-wildtype',\n",
              "       'Final pathologic diagnosis_Glioblastoma, IDH-wildtype',\n",
              "       'Final pathologic diagnosis_Oligodendroglioma, IDH-mutant, 1p/19q-codeleted',\n",
              "       'MGMT status_indeterminate', 'MGMT status_negative',\n",
              "       'MGMT status_positive', 'MGMT status_nan', '1p/19q_co-deletion',\n",
              "       '1p/19q_intact', '1p/19q_relative co-deletion', '1p/19q_nan',\n",
              "       'IDH_IDH1 p.Arg132His', 'IDH_IDH1 p.R132C', 'IDH_IDH1 p.R132G',\n",
              "       'IDH_IDH1 p.R132H', 'IDH_IDH1 p.R132S', 'IDH_IDH2 p.Arg172Trp',\n",
              "       'IDH_IDH2 p.R172K', 'IDH_mutated (NOS)', 'IDH_wildtype', 'EOR_GTR',\n",
              "       'EOR_STR', 'EOR_biopsy', 'EOR_nan', 'biopsy_No', 'biopsy_Yes'],\n",
              "      dtype='object')"
            ]
          },
          "metadata": {},
          "execution_count": 9
        }
      ],
      "source": [
        "mgmt_df.columns"
      ]
    },
    {
      "cell_type": "code",
      "execution_count": 10,
      "metadata": {
        "colab": {
          "base_uri": "https://localhost:8080/",
          "height": 424
        },
        "id": "Yy25sRSaNMav",
        "outputId": "672ee35d-9556-4245-aae1-b2f38e2d7046"
      },
      "outputs": [
        {
          "output_type": "execute_result",
          "data": {
            "text/plain": [
              "                ID  MGMT status_negative  MGMT status_positive\n",
              "0    UCSF-PDGM-004                     1                     0\n",
              "1    UCSF-PDGM-008                     1                     0\n",
              "2    UCSF-PDGM-009                     1                     0\n",
              "3    UCSF-PDGM-010                     0                     1\n",
              "4    UCSF-PDGM-011                     0                     1\n",
              "..             ...                   ...                   ...\n",
              "410  UCSF-PDGM-537                     0                     1\n",
              "411  UCSF-PDGM-538                     1                     0\n",
              "412  UCSF-PDGM-539                     0                     1\n",
              "413  UCSF-PDGM-540                     0                     1\n",
              "414  UCSF-PDGM-541                     1                     0\n",
              "\n",
              "[415 rows x 3 columns]"
            ],
            "text/html": [
              "\n",
              "  <div id=\"df-f146c1dc-93d6-4bfb-8749-1f931d72be2e\">\n",
              "    <div class=\"colab-df-container\">\n",
              "      <div>\n",
              "<style scoped>\n",
              "    .dataframe tbody tr th:only-of-type {\n",
              "        vertical-align: middle;\n",
              "    }\n",
              "\n",
              "    .dataframe tbody tr th {\n",
              "        vertical-align: top;\n",
              "    }\n",
              "\n",
              "    .dataframe thead th {\n",
              "        text-align: right;\n",
              "    }\n",
              "</style>\n",
              "<table border=\"1\" class=\"dataframe\">\n",
              "  <thead>\n",
              "    <tr style=\"text-align: right;\">\n",
              "      <th></th>\n",
              "      <th>ID</th>\n",
              "      <th>MGMT status_negative</th>\n",
              "      <th>MGMT status_positive</th>\n",
              "    </tr>\n",
              "  </thead>\n",
              "  <tbody>\n",
              "    <tr>\n",
              "      <th>0</th>\n",
              "      <td>UCSF-PDGM-004</td>\n",
              "      <td>1</td>\n",
              "      <td>0</td>\n",
              "    </tr>\n",
              "    <tr>\n",
              "      <th>1</th>\n",
              "      <td>UCSF-PDGM-008</td>\n",
              "      <td>1</td>\n",
              "      <td>0</td>\n",
              "    </tr>\n",
              "    <tr>\n",
              "      <th>2</th>\n",
              "      <td>UCSF-PDGM-009</td>\n",
              "      <td>1</td>\n",
              "      <td>0</td>\n",
              "    </tr>\n",
              "    <tr>\n",
              "      <th>3</th>\n",
              "      <td>UCSF-PDGM-010</td>\n",
              "      <td>0</td>\n",
              "      <td>1</td>\n",
              "    </tr>\n",
              "    <tr>\n",
              "      <th>4</th>\n",
              "      <td>UCSF-PDGM-011</td>\n",
              "      <td>0</td>\n",
              "      <td>1</td>\n",
              "    </tr>\n",
              "    <tr>\n",
              "      <th>...</th>\n",
              "      <td>...</td>\n",
              "      <td>...</td>\n",
              "      <td>...</td>\n",
              "    </tr>\n",
              "    <tr>\n",
              "      <th>410</th>\n",
              "      <td>UCSF-PDGM-537</td>\n",
              "      <td>0</td>\n",
              "      <td>1</td>\n",
              "    </tr>\n",
              "    <tr>\n",
              "      <th>411</th>\n",
              "      <td>UCSF-PDGM-538</td>\n",
              "      <td>1</td>\n",
              "      <td>0</td>\n",
              "    </tr>\n",
              "    <tr>\n",
              "      <th>412</th>\n",
              "      <td>UCSF-PDGM-539</td>\n",
              "      <td>0</td>\n",
              "      <td>1</td>\n",
              "    </tr>\n",
              "    <tr>\n",
              "      <th>413</th>\n",
              "      <td>UCSF-PDGM-540</td>\n",
              "      <td>0</td>\n",
              "      <td>1</td>\n",
              "    </tr>\n",
              "    <tr>\n",
              "      <th>414</th>\n",
              "      <td>UCSF-PDGM-541</td>\n",
              "      <td>1</td>\n",
              "      <td>0</td>\n",
              "    </tr>\n",
              "  </tbody>\n",
              "</table>\n",
              "<p>415 rows × 3 columns</p>\n",
              "</div>\n",
              "      <button class=\"colab-df-convert\" onclick=\"convertToInteractive('df-f146c1dc-93d6-4bfb-8749-1f931d72be2e')\"\n",
              "              title=\"Convert this dataframe to an interactive table.\"\n",
              "              style=\"display:none;\">\n",
              "        \n",
              "  <svg xmlns=\"http://www.w3.org/2000/svg\" height=\"24px\"viewBox=\"0 0 24 24\"\n",
              "       width=\"24px\">\n",
              "    <path d=\"M0 0h24v24H0V0z\" fill=\"none\"/>\n",
              "    <path d=\"M18.56 5.44l.94 2.06.94-2.06 2.06-.94-2.06-.94-.94-2.06-.94 2.06-2.06.94zm-11 1L8.5 8.5l.94-2.06 2.06-.94-2.06-.94L8.5 2.5l-.94 2.06-2.06.94zm10 10l.94 2.06.94-2.06 2.06-.94-2.06-.94-.94-2.06-.94 2.06-2.06.94z\"/><path d=\"M17.41 7.96l-1.37-1.37c-.4-.4-.92-.59-1.43-.59-.52 0-1.04.2-1.43.59L10.3 9.45l-7.72 7.72c-.78.78-.78 2.05 0 2.83L4 21.41c.39.39.9.59 1.41.59.51 0 1.02-.2 1.41-.59l7.78-7.78 2.81-2.81c.8-.78.8-2.07 0-2.86zM5.41 20L4 18.59l7.72-7.72 1.47 1.35L5.41 20z\"/>\n",
              "  </svg>\n",
              "      </button>\n",
              "      \n",
              "  <style>\n",
              "    .colab-df-container {\n",
              "      display:flex;\n",
              "      flex-wrap:wrap;\n",
              "      gap: 12px;\n",
              "    }\n",
              "\n",
              "    .colab-df-convert {\n",
              "      background-color: #E8F0FE;\n",
              "      border: none;\n",
              "      border-radius: 50%;\n",
              "      cursor: pointer;\n",
              "      display: none;\n",
              "      fill: #1967D2;\n",
              "      height: 32px;\n",
              "      padding: 0 0 0 0;\n",
              "      width: 32px;\n",
              "    }\n",
              "\n",
              "    .colab-df-convert:hover {\n",
              "      background-color: #E2EBFA;\n",
              "      box-shadow: 0px 1px 2px rgba(60, 64, 67, 0.3), 0px 1px 3px 1px rgba(60, 64, 67, 0.15);\n",
              "      fill: #174EA6;\n",
              "    }\n",
              "\n",
              "    [theme=dark] .colab-df-convert {\n",
              "      background-color: #3B4455;\n",
              "      fill: #D2E3FC;\n",
              "    }\n",
              "\n",
              "    [theme=dark] .colab-df-convert:hover {\n",
              "      background-color: #434B5C;\n",
              "      box-shadow: 0px 1px 3px 1px rgba(0, 0, 0, 0.15);\n",
              "      filter: drop-shadow(0px 1px 2px rgba(0, 0, 0, 0.3));\n",
              "      fill: #FFFFFF;\n",
              "    }\n",
              "  </style>\n",
              "\n",
              "      <script>\n",
              "        const buttonEl =\n",
              "          document.querySelector('#df-f146c1dc-93d6-4bfb-8749-1f931d72be2e button.colab-df-convert');\n",
              "        buttonEl.style.display =\n",
              "          google.colab.kernel.accessAllowed ? 'block' : 'none';\n",
              "\n",
              "        async function convertToInteractive(key) {\n",
              "          const element = document.querySelector('#df-f146c1dc-93d6-4bfb-8749-1f931d72be2e');\n",
              "          const dataTable =\n",
              "            await google.colab.kernel.invokeFunction('convertToInteractive',\n",
              "                                                     [key], {});\n",
              "          if (!dataTable) return;\n",
              "\n",
              "          const docLinkHtml = 'Like what you see? Visit the ' +\n",
              "            '<a target=\"_blank\" href=https://colab.research.google.com/notebooks/data_table.ipynb>data table notebook</a>'\n",
              "            + ' to learn more about interactive tables.';\n",
              "          element.innerHTML = '';\n",
              "          dataTable['output_type'] = 'display_data';\n",
              "          await google.colab.output.renderOutput(dataTable, element);\n",
              "          const docLink = document.createElement('div');\n",
              "          docLink.innerHTML = docLinkHtml;\n",
              "          element.appendChild(docLink);\n",
              "        }\n",
              "      </script>\n",
              "    </div>\n",
              "  </div>\n",
              "  "
            ]
          },
          "metadata": {},
          "execution_count": 10
        }
      ],
      "source": [
        "mgmt_df[['ID', 'MGMT status_negative',\n",
        "       'MGMT status_positive']]"
      ]
    },
    {
      "cell_type": "code",
      "execution_count": 11,
      "metadata": {
        "colab": {
          "base_uri": "https://localhost:8080/"
        },
        "id": "9Ka01w4Ab63u",
        "outputId": "0ddb23b9-f826-46f5-8d36-147be67e1e50"
      },
      "outputs": [
        {
          "output_type": "execute_result",
          "data": {
            "text/plain": [
              "0      False\n",
              "1      False\n",
              "2      False\n",
              "3       True\n",
              "4       True\n",
              "       ...  \n",
              "410     True\n",
              "411    False\n",
              "412     True\n",
              "413     True\n",
              "414    False\n",
              "Name: MGMT status_positive, Length: 415, dtype: bool"
            ]
          },
          "metadata": {},
          "execution_count": 11
        }
      ],
      "source": [
        "mgmt_df['MGMT status_positive'] == 1"
      ]
    },
    {
      "cell_type": "code",
      "execution_count": 12,
      "metadata": {
        "id": "yIPoe5ZvWsNK"
      },
      "outputs": [],
      "source": [
        "mgmt_pos_ids = mgmt_df[mgmt_df['MGMT status_positive'] == 1]['ID'].tolist()\n",
        "mgmt_neg_ids = mgmt_df[mgmt_df['MGMT status_negative'] == 1]['ID'].tolist()\n"
      ]
    },
    {
      "cell_type": "code",
      "execution_count": 13,
      "metadata": {
        "colab": {
          "base_uri": "https://localhost:8080/",
          "height": 424
        },
        "id": "0ZakAD0DWodw",
        "outputId": "6b23c69b-7190-4df5-cb7d-7e3213e85b96"
      },
      "outputs": [
        {
          "output_type": "execute_result",
          "data": {
            "text/plain": [
              "                ID  MGMT status_negative  MGMT status_positive\n",
              "0    UCSF-PDGM-004                     1                     0\n",
              "1    UCSF-PDGM-008                     1                     0\n",
              "2    UCSF-PDGM-009                     1                     0\n",
              "3    UCSF-PDGM-010                     0                     1\n",
              "4    UCSF-PDGM-011                     0                     1\n",
              "..             ...                   ...                   ...\n",
              "410  UCSF-PDGM-537                     0                     1\n",
              "411  UCSF-PDGM-538                     1                     0\n",
              "412  UCSF-PDGM-539                     0                     1\n",
              "413  UCSF-PDGM-540                     0                     1\n",
              "414  UCSF-PDGM-541                     1                     0\n",
              "\n",
              "[415 rows x 3 columns]"
            ],
            "text/html": [
              "\n",
              "  <div id=\"df-a07ee69e-d86a-4255-bd35-48356e1933d5\">\n",
              "    <div class=\"colab-df-container\">\n",
              "      <div>\n",
              "<style scoped>\n",
              "    .dataframe tbody tr th:only-of-type {\n",
              "        vertical-align: middle;\n",
              "    }\n",
              "\n",
              "    .dataframe tbody tr th {\n",
              "        vertical-align: top;\n",
              "    }\n",
              "\n",
              "    .dataframe thead th {\n",
              "        text-align: right;\n",
              "    }\n",
              "</style>\n",
              "<table border=\"1\" class=\"dataframe\">\n",
              "  <thead>\n",
              "    <tr style=\"text-align: right;\">\n",
              "      <th></th>\n",
              "      <th>ID</th>\n",
              "      <th>MGMT status_negative</th>\n",
              "      <th>MGMT status_positive</th>\n",
              "    </tr>\n",
              "  </thead>\n",
              "  <tbody>\n",
              "    <tr>\n",
              "      <th>0</th>\n",
              "      <td>UCSF-PDGM-004</td>\n",
              "      <td>1</td>\n",
              "      <td>0</td>\n",
              "    </tr>\n",
              "    <tr>\n",
              "      <th>1</th>\n",
              "      <td>UCSF-PDGM-008</td>\n",
              "      <td>1</td>\n",
              "      <td>0</td>\n",
              "    </tr>\n",
              "    <tr>\n",
              "      <th>2</th>\n",
              "      <td>UCSF-PDGM-009</td>\n",
              "      <td>1</td>\n",
              "      <td>0</td>\n",
              "    </tr>\n",
              "    <tr>\n",
              "      <th>3</th>\n",
              "      <td>UCSF-PDGM-010</td>\n",
              "      <td>0</td>\n",
              "      <td>1</td>\n",
              "    </tr>\n",
              "    <tr>\n",
              "      <th>4</th>\n",
              "      <td>UCSF-PDGM-011</td>\n",
              "      <td>0</td>\n",
              "      <td>1</td>\n",
              "    </tr>\n",
              "    <tr>\n",
              "      <th>...</th>\n",
              "      <td>...</td>\n",
              "      <td>...</td>\n",
              "      <td>...</td>\n",
              "    </tr>\n",
              "    <tr>\n",
              "      <th>410</th>\n",
              "      <td>UCSF-PDGM-537</td>\n",
              "      <td>0</td>\n",
              "      <td>1</td>\n",
              "    </tr>\n",
              "    <tr>\n",
              "      <th>411</th>\n",
              "      <td>UCSF-PDGM-538</td>\n",
              "      <td>1</td>\n",
              "      <td>0</td>\n",
              "    </tr>\n",
              "    <tr>\n",
              "      <th>412</th>\n",
              "      <td>UCSF-PDGM-539</td>\n",
              "      <td>0</td>\n",
              "      <td>1</td>\n",
              "    </tr>\n",
              "    <tr>\n",
              "      <th>413</th>\n",
              "      <td>UCSF-PDGM-540</td>\n",
              "      <td>0</td>\n",
              "      <td>1</td>\n",
              "    </tr>\n",
              "    <tr>\n",
              "      <th>414</th>\n",
              "      <td>UCSF-PDGM-541</td>\n",
              "      <td>1</td>\n",
              "      <td>0</td>\n",
              "    </tr>\n",
              "  </tbody>\n",
              "</table>\n",
              "<p>415 rows × 3 columns</p>\n",
              "</div>\n",
              "      <button class=\"colab-df-convert\" onclick=\"convertToInteractive('df-a07ee69e-d86a-4255-bd35-48356e1933d5')\"\n",
              "              title=\"Convert this dataframe to an interactive table.\"\n",
              "              style=\"display:none;\">\n",
              "        \n",
              "  <svg xmlns=\"http://www.w3.org/2000/svg\" height=\"24px\"viewBox=\"0 0 24 24\"\n",
              "       width=\"24px\">\n",
              "    <path d=\"M0 0h24v24H0V0z\" fill=\"none\"/>\n",
              "    <path d=\"M18.56 5.44l.94 2.06.94-2.06 2.06-.94-2.06-.94-.94-2.06-.94 2.06-2.06.94zm-11 1L8.5 8.5l.94-2.06 2.06-.94-2.06-.94L8.5 2.5l-.94 2.06-2.06.94zm10 10l.94 2.06.94-2.06 2.06-.94-2.06-.94-.94-2.06-.94 2.06-2.06.94z\"/><path d=\"M17.41 7.96l-1.37-1.37c-.4-.4-.92-.59-1.43-.59-.52 0-1.04.2-1.43.59L10.3 9.45l-7.72 7.72c-.78.78-.78 2.05 0 2.83L4 21.41c.39.39.9.59 1.41.59.51 0 1.02-.2 1.41-.59l7.78-7.78 2.81-2.81c.8-.78.8-2.07 0-2.86zM5.41 20L4 18.59l7.72-7.72 1.47 1.35L5.41 20z\"/>\n",
              "  </svg>\n",
              "      </button>\n",
              "      \n",
              "  <style>\n",
              "    .colab-df-container {\n",
              "      display:flex;\n",
              "      flex-wrap:wrap;\n",
              "      gap: 12px;\n",
              "    }\n",
              "\n",
              "    .colab-df-convert {\n",
              "      background-color: #E8F0FE;\n",
              "      border: none;\n",
              "      border-radius: 50%;\n",
              "      cursor: pointer;\n",
              "      display: none;\n",
              "      fill: #1967D2;\n",
              "      height: 32px;\n",
              "      padding: 0 0 0 0;\n",
              "      width: 32px;\n",
              "    }\n",
              "\n",
              "    .colab-df-convert:hover {\n",
              "      background-color: #E2EBFA;\n",
              "      box-shadow: 0px 1px 2px rgba(60, 64, 67, 0.3), 0px 1px 3px 1px rgba(60, 64, 67, 0.15);\n",
              "      fill: #174EA6;\n",
              "    }\n",
              "\n",
              "    [theme=dark] .colab-df-convert {\n",
              "      background-color: #3B4455;\n",
              "      fill: #D2E3FC;\n",
              "    }\n",
              "\n",
              "    [theme=dark] .colab-df-convert:hover {\n",
              "      background-color: #434B5C;\n",
              "      box-shadow: 0px 1px 3px 1px rgba(0, 0, 0, 0.15);\n",
              "      filter: drop-shadow(0px 1px 2px rgba(0, 0, 0, 0.3));\n",
              "      fill: #FFFFFF;\n",
              "    }\n",
              "  </style>\n",
              "\n",
              "      <script>\n",
              "        const buttonEl =\n",
              "          document.querySelector('#df-a07ee69e-d86a-4255-bd35-48356e1933d5 button.colab-df-convert');\n",
              "        buttonEl.style.display =\n",
              "          google.colab.kernel.accessAllowed ? 'block' : 'none';\n",
              "\n",
              "        async function convertToInteractive(key) {\n",
              "          const element = document.querySelector('#df-a07ee69e-d86a-4255-bd35-48356e1933d5');\n",
              "          const dataTable =\n",
              "            await google.colab.kernel.invokeFunction('convertToInteractive',\n",
              "                                                     [key], {});\n",
              "          if (!dataTable) return;\n",
              "\n",
              "          const docLinkHtml = 'Like what you see? Visit the ' +\n",
              "            '<a target=\"_blank\" href=https://colab.research.google.com/notebooks/data_table.ipynb>data table notebook</a>'\n",
              "            + ' to learn more about interactive tables.';\n",
              "          element.innerHTML = '';\n",
              "          dataTable['output_type'] = 'display_data';\n",
              "          await google.colab.output.renderOutput(dataTable, element);\n",
              "          const docLink = document.createElement('div');\n",
              "          docLink.innerHTML = docLinkHtml;\n",
              "          element.appendChild(docLink);\n",
              "        }\n",
              "      </script>\n",
              "    </div>\n",
              "  </div>\n",
              "  "
            ]
          },
          "metadata": {},
          "execution_count": 13
        }
      ],
      "source": [
        "mgmt_df[['ID', 'MGMT status_negative',\n",
        "       'MGMT status_positive']]"
      ]
    },
    {
      "cell_type": "code",
      "execution_count": 14,
      "metadata": {
        "id": "t3g2clpCMs2L"
      },
      "outputs": [],
      "source": [
        "def create_file_path(id_list, verbose = False):\n",
        "    \n",
        "    # add zero to id list\n",
        "    for i, id in enumerate(id_list):\n",
        "        id_list[i] = id[:-3] + '0' + id[-3:]\n",
        "\n",
        "    image_files_list = []\n",
        "    # add file path\n",
        "    for i in id_list:\n",
        "        file = '/' + i +'_T1c.nii.gz' #, recursive = True)\n",
        "        if verbose:\n",
        "            print(file)\n",
        "        image_files_list.append(file)\n",
        "\n",
        "    return image_files_list\n",
        "\n",
        "image_pos_file_list = create_file_path(mgmt_pos_ids)\n",
        "image_neg_file_list = create_file_path(mgmt_neg_ids)"
      ]
    },
    {
      "cell_type": "code",
      "execution_count": 15,
      "metadata": {
        "colab": {
          "base_uri": "https://localhost:8080/"
        },
        "id": "jK-MUWZqRlsI",
        "outputId": "c11f7209-782b-4bfa-b1b7-d426456843eb"
      },
      "outputs": [
        {
          "output_type": "execute_result",
          "data": {
            "text/plain": [
              "301"
            ]
          },
          "metadata": {},
          "execution_count": 15
        }
      ],
      "source": [
        "len(image_pos_file_list)"
      ]
    },
    {
      "cell_type": "code",
      "execution_count": 16,
      "metadata": {
        "colab": {
          "base_uri": "https://localhost:8080/"
        },
        "id": "hAOM7QjeIIJD",
        "outputId": "42e733a6-9ba8-4989-f0f7-1901cfc855ec"
      },
      "outputs": [
        {
          "output_type": "execute_result",
          "data": {
            "text/plain": [
              "114"
            ]
          },
          "metadata": {},
          "execution_count": 16
        }
      ],
      "source": [
        "len(image_neg_file_list)"
      ]
    },
    {
      "cell_type": "code",
      "execution_count": 17,
      "metadata": {
        "colab": {
          "base_uri": "https://localhost:8080/"
        },
        "id": "nNMcQFyZGjJQ",
        "outputId": "5d0e6f37-5901-4cf7-e964-85902dde7166"
      },
      "outputs": [
        {
          "output_type": "execute_result",
          "data": {
            "text/plain": [
              "['/UCSF-PDGM-0010_T1c.nii.gz',\n",
              " '/UCSF-PDGM-0011_T1c.nii.gz',\n",
              " '/UCSF-PDGM-0013_T1c.nii.gz',\n",
              " '/UCSF-PDGM-0014_T1c.nii.gz',\n",
              " '/UCSF-PDGM-0016_T1c.nii.gz',\n",
              " '/UCSF-PDGM-0018_T1c.nii.gz',\n",
              " '/UCSF-PDGM-0019_T1c.nii.gz',\n",
              " '/UCSF-PDGM-0021_T1c.nii.gz',\n",
              " '/UCSF-PDGM-0022_T1c.nii.gz',\n",
              " '/UCSF-PDGM-0023_T1c.nii.gz',\n",
              " '/UCSF-PDGM-0024_T1c.nii.gz',\n",
              " '/UCSF-PDGM-0025_T1c.nii.gz',\n",
              " '/UCSF-PDGM-0026_T1c.nii.gz',\n",
              " '/UCSF-PDGM-0030_T1c.nii.gz',\n",
              " '/UCSF-PDGM-0031_T1c.nii.gz',\n",
              " '/UCSF-PDGM-0033_T1c.nii.gz',\n",
              " '/UCSF-PDGM-0035_T1c.nii.gz',\n",
              " '/UCSF-PDGM-0036_T1c.nii.gz',\n",
              " '/UCSF-PDGM-0037_T1c.nii.gz',\n",
              " '/UCSF-PDGM-0038_T1c.nii.gz',\n",
              " '/UCSF-PDGM-0039_T1c.nii.gz',\n",
              " '/UCSF-PDGM-0040_T1c.nii.gz',\n",
              " '/UCSF-PDGM-0043_T1c.nii.gz',\n",
              " '/UCSF-PDGM-0044_T1c.nii.gz',\n",
              " '/UCSF-PDGM-0045_T1c.nii.gz',\n",
              " '/UCSF-PDGM-0047_T1c.nii.gz',\n",
              " '/UCSF-PDGM-0048_T1c.nii.gz',\n",
              " '/UCSF-PDGM-0049_T1c.nii.gz',\n",
              " '/UCSF-PDGM-0050_T1c.nii.gz',\n",
              " '/UCSF-PDGM-0053_T1c.nii.gz',\n",
              " '/UCSF-PDGM-0055_T1c.nii.gz',\n",
              " '/UCSF-PDGM-0056_T1c.nii.gz',\n",
              " '/UCSF-PDGM-0057_T1c.nii.gz',\n",
              " '/UCSF-PDGM-0058_T1c.nii.gz',\n",
              " '/UCSF-PDGM-0059_T1c.nii.gz',\n",
              " '/UCSF-PDGM-0061_T1c.nii.gz',\n",
              " '/UCSF-PDGM-0063_T1c.nii.gz',\n",
              " '/UCSF-PDGM-0064_T1c.nii.gz',\n",
              " '/UCSF-PDGM-0065_T1c.nii.gz',\n",
              " '/UCSF-PDGM-0067_T1c.nii.gz',\n",
              " '/UCSF-PDGM-0069_T1c.nii.gz',\n",
              " '/UCSF-PDGM-0070_T1c.nii.gz',\n",
              " '/UCSF-PDGM-0072_T1c.nii.gz',\n",
              " '/UCSF-PDGM-0073_T1c.nii.gz',\n",
              " '/UCSF-PDGM-0076_T1c.nii.gz',\n",
              " '/UCSF-PDGM-0077_T1c.nii.gz',\n",
              " '/UCSF-PDGM-0078_T1c.nii.gz',\n",
              " '/UCSF-PDGM-0079_T1c.nii.gz',\n",
              " '/UCSF-PDGM-0080_T1c.nii.gz',\n",
              " '/UCSF-PDGM-0082_T1c.nii.gz',\n",
              " '/UCSF-PDGM-0083_T1c.nii.gz',\n",
              " '/UCSF-PDGM-0086_T1c.nii.gz',\n",
              " '/UCSF-PDGM-0087_T1c.nii.gz',\n",
              " '/UCSF-PDGM-0088_T1c.nii.gz',\n",
              " '/UCSF-PDGM-0089_T1c.nii.gz',\n",
              " '/UCSF-PDGM-0090_T1c.nii.gz',\n",
              " '/UCSF-PDGM-0091_T1c.nii.gz',\n",
              " '/UCSF-PDGM-0092_T1c.nii.gz',\n",
              " '/UCSF-PDGM-0093_T1c.nii.gz',\n",
              " '/UCSF-PDGM-0094_T1c.nii.gz',\n",
              " '/UCSF-PDGM-0095_T1c.nii.gz',\n",
              " '/UCSF-PDGM-0099_T1c.nii.gz',\n",
              " '/UCSF-PDGM-0102_T1c.nii.gz',\n",
              " '/UCSF-PDGM-0103_T1c.nii.gz',\n",
              " '/UCSF-PDGM-0104_T1c.nii.gz',\n",
              " '/UCSF-PDGM-0106_T1c.nii.gz',\n",
              " '/UCSF-PDGM-0107_T1c.nii.gz',\n",
              " '/UCSF-PDGM-0108_T1c.nii.gz',\n",
              " '/UCSF-PDGM-0109_T1c.nii.gz',\n",
              " '/UCSF-PDGM-0112_T1c.nii.gz',\n",
              " '/UCSF-PDGM-0113_T1c.nii.gz',\n",
              " '/UCSF-PDGM-0114_T1c.nii.gz',\n",
              " '/UCSF-PDGM-0116_T1c.nii.gz',\n",
              " '/UCSF-PDGM-0119_T1c.nii.gz',\n",
              " '/UCSF-PDGM-0122_T1c.nii.gz',\n",
              " '/UCSF-PDGM-0126_T1c.nii.gz',\n",
              " '/UCSF-PDGM-0127_T1c.nii.gz',\n",
              " '/UCSF-PDGM-0128_T1c.nii.gz',\n",
              " '/UCSF-PDGM-0129_T1c.nii.gz',\n",
              " '/UCSF-PDGM-0130_T1c.nii.gz',\n",
              " '/UCSF-PDGM-0132_T1c.nii.gz',\n",
              " '/UCSF-PDGM-0133_T1c.nii.gz',\n",
              " '/UCSF-PDGM-0134_T1c.nii.gz',\n",
              " '/UCSF-PDGM-0135_T1c.nii.gz',\n",
              " '/UCSF-PDGM-0136_T1c.nii.gz',\n",
              " '/UCSF-PDGM-0137_T1c.nii.gz',\n",
              " '/UCSF-PDGM-0138_T1c.nii.gz',\n",
              " '/UCSF-PDGM-0139_T1c.nii.gz',\n",
              " '/UCSF-PDGM-0140_T1c.nii.gz',\n",
              " '/UCSF-PDGM-0141_T1c.nii.gz',\n",
              " '/UCSF-PDGM-0143_T1c.nii.gz',\n",
              " '/UCSF-PDGM-0144_T1c.nii.gz',\n",
              " '/UCSF-PDGM-0147_T1c.nii.gz',\n",
              " '/UCSF-PDGM-0148_T1c.nii.gz',\n",
              " '/UCSF-PDGM-0149_T1c.nii.gz',\n",
              " '/UCSF-PDGM-0150_T1c.nii.gz',\n",
              " '/UCSF-PDGM-0152_T1c.nii.gz',\n",
              " '/UCSF-PDGM-0153_T1c.nii.gz',\n",
              " '/UCSF-PDGM-0155_T1c.nii.gz',\n",
              " '/UCSF-PDGM-0156_T1c.nii.gz',\n",
              " '/UCSF-PDGM-0157_T1c.nii.gz',\n",
              " '/UCSF-PDGM-0158_T1c.nii.gz',\n",
              " '/UCSF-PDGM-0159_T1c.nii.gz',\n",
              " '/UCSF-PDGM-0160_T1c.nii.gz',\n",
              " '/UCSF-PDGM-0161_T1c.nii.gz',\n",
              " '/UCSF-PDGM-0162_T1c.nii.gz',\n",
              " '/UCSF-PDGM-0165_T1c.nii.gz',\n",
              " '/UCSF-PDGM-0166_T1c.nii.gz',\n",
              " '/UCSF-PDGM-0167_T1c.nii.gz',\n",
              " '/UCSF-PDGM-0170_T1c.nii.gz',\n",
              " '/UCSF-PDGM-0173_T1c.nii.gz',\n",
              " '/UCSF-PDGM-0174_T1c.nii.gz',\n",
              " '/UCSF-PDGM-0176_T1c.nii.gz',\n",
              " '/UCSF-PDGM-0179_T1c.nii.gz',\n",
              " '/UCSF-PDGM-0181_T1c.nii.gz',\n",
              " '/UCSF-PDGM-0183_T1c.nii.gz',\n",
              " '/UCSF-PDGM-0184_T1c.nii.gz',\n",
              " '/UCSF-PDGM-0185_T1c.nii.gz',\n",
              " '/UCSF-PDGM-0186_T1c.nii.gz',\n",
              " '/UCSF-PDGM-0187_T1c.nii.gz',\n",
              " '/UCSF-PDGM-0188_T1c.nii.gz',\n",
              " '/UCSF-PDGM-0189_T1c.nii.gz',\n",
              " '/UCSF-PDGM-0190_T1c.nii.gz',\n",
              " '/UCSF-PDGM-0191_T1c.nii.gz',\n",
              " '/UCSF-PDGM-0193_T1c.nii.gz',\n",
              " '/UCSF-PDGM-0194_T1c.nii.gz',\n",
              " '/UCSF-PDGM-0198_T1c.nii.gz',\n",
              " '/UCSF-PDGM-0200_T1c.nii.gz',\n",
              " '/UCSF-PDGM-0201_T1c.nii.gz',\n",
              " '/UCSF-PDGM-0204_T1c.nii.gz',\n",
              " '/UCSF-PDGM-0205_T1c.nii.gz',\n",
              " '/UCSF-PDGM-0206_T1c.nii.gz',\n",
              " '/UCSF-PDGM-0207_T1c.nii.gz',\n",
              " '/UCSF-PDGM-0208_T1c.nii.gz',\n",
              " '/UCSF-PDGM-0210_T1c.nii.gz',\n",
              " '/UCSF-PDGM-0213_T1c.nii.gz',\n",
              " '/UCSF-PDGM-0214_T1c.nii.gz',\n",
              " '/UCSF-PDGM-0215_T1c.nii.gz',\n",
              " '/UCSF-PDGM-0223_T1c.nii.gz',\n",
              " '/UCSF-PDGM-0225_T1c.nii.gz',\n",
              " '/UCSF-PDGM-0227_T1c.nii.gz',\n",
              " '/UCSF-PDGM-0232_T1c.nii.gz',\n",
              " '/UCSF-PDGM-0234_T1c.nii.gz',\n",
              " '/UCSF-PDGM-0249_T1c.nii.gz',\n",
              " '/UCSF-PDGM-0263_T1c.nii.gz',\n",
              " '/UCSF-PDGM-0268_T1c.nii.gz',\n",
              " '/UCSF-PDGM-0270_T1c.nii.gz',\n",
              " '/UCSF-PDGM-0273_T1c.nii.gz',\n",
              " '/UCSF-PDGM-0275_T1c.nii.gz',\n",
              " '/UCSF-PDGM-0277_T1c.nii.gz',\n",
              " '/UCSF-PDGM-0278_T1c.nii.gz',\n",
              " '/UCSF-PDGM-0279_T1c.nii.gz',\n",
              " '/UCSF-PDGM-0280_T1c.nii.gz',\n",
              " '/UCSF-PDGM-0283_T1c.nii.gz',\n",
              " '/UCSF-PDGM-0284_T1c.nii.gz',\n",
              " '/UCSF-PDGM-0287_T1c.nii.gz',\n",
              " '/UCSF-PDGM-0288_T1c.nii.gz',\n",
              " '/UCSF-PDGM-0289_T1c.nii.gz',\n",
              " '/UCSF-PDGM-0290_T1c.nii.gz',\n",
              " '/UCSF-PDGM-0291_T1c.nii.gz',\n",
              " '/UCSF-PDGM-0295_T1c.nii.gz',\n",
              " '/UCSF-PDGM-0296_T1c.nii.gz',\n",
              " '/UCSF-PDGM-0302_T1c.nii.gz',\n",
              " '/UCSF-PDGM-0303_T1c.nii.gz',\n",
              " '/UCSF-PDGM-0306_T1c.nii.gz',\n",
              " '/UCSF-PDGM-0310_T1c.nii.gz',\n",
              " '/UCSF-PDGM-0311_T1c.nii.gz',\n",
              " '/UCSF-PDGM-0313_T1c.nii.gz',\n",
              " '/UCSF-PDGM-0315_T1c.nii.gz',\n",
              " '/UCSF-PDGM-0319_T1c.nii.gz',\n",
              " '/UCSF-PDGM-0320_T1c.nii.gz',\n",
              " '/UCSF-PDGM-0321_T1c.nii.gz',\n",
              " '/UCSF-PDGM-0323_T1c.nii.gz',\n",
              " '/UCSF-PDGM-0324_T1c.nii.gz',\n",
              " '/UCSF-PDGM-0325_T1c.nii.gz',\n",
              " '/UCSF-PDGM-0326_T1c.nii.gz',\n",
              " '/UCSF-PDGM-0328_T1c.nii.gz',\n",
              " '/UCSF-PDGM-0329_T1c.nii.gz',\n",
              " '/UCSF-PDGM-0331_T1c.nii.gz',\n",
              " '/UCSF-PDGM-0332_T1c.nii.gz',\n",
              " '/UCSF-PDGM-0333_T1c.nii.gz',\n",
              " '/UCSF-PDGM-0339_T1c.nii.gz',\n",
              " '/UCSF-PDGM-0340_T1c.nii.gz',\n",
              " '/UCSF-PDGM-0341_T1c.nii.gz',\n",
              " '/UCSF-PDGM-0342_T1c.nii.gz',\n",
              " '/UCSF-PDGM-0343_T1c.nii.gz',\n",
              " '/UCSF-PDGM-0345_T1c.nii.gz',\n",
              " '/UCSF-PDGM-0346_T1c.nii.gz',\n",
              " '/UCSF-PDGM-0347_T1c.nii.gz',\n",
              " '/UCSF-PDGM-0348_T1c.nii.gz',\n",
              " '/UCSF-PDGM-0350_T1c.nii.gz',\n",
              " '/UCSF-PDGM-0351_T1c.nii.gz',\n",
              " '/UCSF-PDGM-0352_T1c.nii.gz',\n",
              " '/UCSF-PDGM-0353_T1c.nii.gz',\n",
              " '/UCSF-PDGM-0354_T1c.nii.gz',\n",
              " '/UCSF-PDGM-0356_T1c.nii.gz',\n",
              " '/UCSF-PDGM-0358_T1c.nii.gz',\n",
              " '/UCSF-PDGM-0359_T1c.nii.gz',\n",
              " '/UCSF-PDGM-0360_T1c.nii.gz',\n",
              " '/UCSF-PDGM-0365_T1c.nii.gz',\n",
              " '/UCSF-PDGM-0366_T1c.nii.gz',\n",
              " '/UCSF-PDGM-0367_T1c.nii.gz',\n",
              " '/UCSF-PDGM-0370_T1c.nii.gz',\n",
              " '/UCSF-PDGM-0371_T1c.nii.gz',\n",
              " '/UCSF-PDGM-0374_T1c.nii.gz',\n",
              " '/UCSF-PDGM-0375_T1c.nii.gz',\n",
              " '/UCSF-PDGM-0376_T1c.nii.gz',\n",
              " '/UCSF-PDGM-0377_T1c.nii.gz',\n",
              " '/UCSF-PDGM-0381_T1c.nii.gz',\n",
              " '/UCSF-PDGM-0383_T1c.nii.gz',\n",
              " '/UCSF-PDGM-0384_T1c.nii.gz',\n",
              " '/UCSF-PDGM-0385_T1c.nii.gz',\n",
              " '/UCSF-PDGM-0386_T1c.nii.gz',\n",
              " '/UCSF-PDGM-0387_T1c.nii.gz',\n",
              " '/UCSF-PDGM-0389_T1c.nii.gz',\n",
              " '/UCSF-PDGM-0391_T1c.nii.gz',\n",
              " '/UCSF-PDGM-0392_T1c.nii.gz',\n",
              " '/UCSF-PDGM-0393_T1c.nii.gz',\n",
              " '/UCSF-PDGM-0394_T1c.nii.gz',\n",
              " '/UCSF-PDGM-0397_T1c.nii.gz',\n",
              " '/UCSF-PDGM-0398_T1c.nii.gz',\n",
              " '/UCSF-PDGM-0405_T1c.nii.gz',\n",
              " '/UCSF-PDGM-0406_T1c.nii.gz',\n",
              " '/UCSF-PDGM-0407_T1c.nii.gz',\n",
              " '/UCSF-PDGM-0409_T1c.nii.gz',\n",
              " '/UCSF-PDGM-0410_T1c.nii.gz',\n",
              " '/UCSF-PDGM-0411_T1c.nii.gz',\n",
              " '/UCSF-PDGM-0413_T1c.nii.gz',\n",
              " '/UCSF-PDGM-0415_T1c.nii.gz',\n",
              " '/UCSF-PDGM-0416_T1c.nii.gz',\n",
              " '/UCSF-PDGM-0417_T1c.nii.gz',\n",
              " '/UCSF-PDGM-0418_T1c.nii.gz',\n",
              " '/UCSF-PDGM-0419_T1c.nii.gz',\n",
              " '/UCSF-PDGM-0420_T1c.nii.gz',\n",
              " '/UCSF-PDGM-0421_T1c.nii.gz',\n",
              " '/UCSF-PDGM-0422_T1c.nii.gz',\n",
              " '/UCSF-PDGM-0423_T1c.nii.gz',\n",
              " '/UCSF-PDGM-0425_T1c.nii.gz',\n",
              " '/UCSF-PDGM-0426_T1c.nii.gz',\n",
              " '/UCSF-PDGM-0427_T1c.nii.gz',\n",
              " '/UCSF-PDGM-0428_T1c.nii.gz',\n",
              " '/UCSF-PDGM-0429_T1c.nii.gz',\n",
              " '/UCSF-PDGM-0431_T1c.nii.gz',\n",
              " '/UCSF-PDGM-0432_T1c.nii.gz',\n",
              " '/UCSF-PDGM-0433_T1c.nii.gz',\n",
              " '/UCSF-PDGM-0434_T1c.nii.gz',\n",
              " '/UCSF-PDGM-0435_T1c.nii.gz',\n",
              " '/UCSF-PDGM-0436_T1c.nii.gz',\n",
              " '/UCSF-PDGM-0447_T1c.nii.gz',\n",
              " '/UCSF-PDGM-0449_T1c.nii.gz',\n",
              " '/UCSF-PDGM-0450_T1c.nii.gz',\n",
              " '/UCSF-PDGM-0452_T1c.nii.gz',\n",
              " '/UCSF-PDGM-0453_T1c.nii.gz',\n",
              " '/UCSF-PDGM-0454_T1c.nii.gz',\n",
              " '/UCSF-PDGM-0456_T1c.nii.gz',\n",
              " '/UCSF-PDGM-0457_T1c.nii.gz',\n",
              " '/UCSF-PDGM-0460_T1c.nii.gz',\n",
              " '/UCSF-PDGM-0462_T1c.nii.gz',\n",
              " '/UCSF-PDGM-0463_T1c.nii.gz',\n",
              " '/UCSF-PDGM-0464_T1c.nii.gz',\n",
              " '/UCSF-PDGM-0467_T1c.nii.gz',\n",
              " '/UCSF-PDGM-0468_T1c.nii.gz',\n",
              " '/UCSF-PDGM-0470_T1c.nii.gz',\n",
              " '/UCSF-PDGM-0471_T1c.nii.gz',\n",
              " '/UCSF-PDGM-0472_T1c.nii.gz',\n",
              " '/UCSF-PDGM-0479_T1c.nii.gz',\n",
              " '/UCSF-PDGM-0480_T1c.nii.gz',\n",
              " '/UCSF-PDGM-0483_T1c.nii.gz',\n",
              " '/UCSF-PDGM-0484_T1c.nii.gz',\n",
              " '/UCSF-PDGM-0488_T1c.nii.gz',\n",
              " '/UCSF-PDGM-0493_T1c.nii.gz',\n",
              " '/UCSF-PDGM-0494_T1c.nii.gz',\n",
              " '/UCSF-PDGM-0495_T1c.nii.gz',\n",
              " '/UCSF-PDGM-0496_T1c.nii.gz',\n",
              " '/UCSF-PDGM-0500_T1c.nii.gz',\n",
              " '/UCSF-PDGM-0501_T1c.nii.gz',\n",
              " '/UCSF-PDGM-0504_T1c.nii.gz',\n",
              " '/UCSF-PDGM-0505_T1c.nii.gz',\n",
              " '/UCSF-PDGM-0507_T1c.nii.gz',\n",
              " '/UCSF-PDGM-0509_T1c.nii.gz',\n",
              " '/UCSF-PDGM-0510_T1c.nii.gz',\n",
              " '/UCSF-PDGM-0512_T1c.nii.gz',\n",
              " '/UCSF-PDGM-0513_T1c.nii.gz',\n",
              " '/UCSF-PDGM-0516_T1c.nii.gz',\n",
              " '/UCSF-PDGM-0517_T1c.nii.gz',\n",
              " '/UCSF-PDGM-0519_T1c.nii.gz',\n",
              " '/UCSF-PDGM-0520_T1c.nii.gz',\n",
              " '/UCSF-PDGM-0522_T1c.nii.gz',\n",
              " '/UCSF-PDGM-0523_T1c.nii.gz',\n",
              " '/UCSF-PDGM-0524_T1c.nii.gz',\n",
              " '/UCSF-PDGM-0526_T1c.nii.gz',\n",
              " '/UCSF-PDGM-0527_T1c.nii.gz',\n",
              " '/UCSF-PDGM-0529_T1c.nii.gz',\n",
              " '/UCSF-PDGM-0530_T1c.nii.gz',\n",
              " '/UCSF-PDGM-0531_T1c.nii.gz',\n",
              " '/UCSF-PDGM-0533_T1c.nii.gz',\n",
              " '/UCSF-PDGM-0534_T1c.nii.gz',\n",
              " '/UCSF-PDGM-0536_T1c.nii.gz',\n",
              " '/UCSF-PDGM-0537_T1c.nii.gz',\n",
              " '/UCSF-PDGM-0539_T1c.nii.gz',\n",
              " '/UCSF-PDGM-0540_T1c.nii.gz']"
            ]
          },
          "metadata": {},
          "execution_count": 17
        }
      ],
      "source": [
        "image_pos_file_list"
      ]
    },
    {
      "cell_type": "code",
      "execution_count": 18,
      "metadata": {
        "id": "jb1a5IvGgf5c"
      },
      "outputs": [],
      "source": [
        "# create full list\n",
        "image_files_list = image_pos_file_list.copy()\n",
        "image_files_list.extend(image_neg_file_list)"
      ]
    },
    {
      "cell_type": "code",
      "execution_count": 19,
      "metadata": {
        "colab": {
          "base_uri": "https://localhost:8080/"
        },
        "id": "QFLlIgmU4ZP1",
        "outputId": "43777cec-19e4-421f-925a-1e9843afc065"
      },
      "outputs": [
        {
          "output_type": "execute_result",
          "data": {
            "text/plain": [
              "['/UCSF-PDGM-0010_T1c.nii.gz',\n",
              " '/UCSF-PDGM-0011_T1c.nii.gz',\n",
              " '/UCSF-PDGM-0013_T1c.nii.gz',\n",
              " '/UCSF-PDGM-0014_T1c.nii.gz',\n",
              " '/UCSF-PDGM-0016_T1c.nii.gz',\n",
              " '/UCSF-PDGM-0018_T1c.nii.gz',\n",
              " '/UCSF-PDGM-0019_T1c.nii.gz',\n",
              " '/UCSF-PDGM-0021_T1c.nii.gz',\n",
              " '/UCSF-PDGM-0022_T1c.nii.gz',\n",
              " '/UCSF-PDGM-0023_T1c.nii.gz',\n",
              " '/UCSF-PDGM-0024_T1c.nii.gz',\n",
              " '/UCSF-PDGM-0025_T1c.nii.gz',\n",
              " '/UCSF-PDGM-0026_T1c.nii.gz',\n",
              " '/UCSF-PDGM-0030_T1c.nii.gz',\n",
              " '/UCSF-PDGM-0031_T1c.nii.gz',\n",
              " '/UCSF-PDGM-0033_T1c.nii.gz',\n",
              " '/UCSF-PDGM-0035_T1c.nii.gz',\n",
              " '/UCSF-PDGM-0036_T1c.nii.gz',\n",
              " '/UCSF-PDGM-0037_T1c.nii.gz',\n",
              " '/UCSF-PDGM-0038_T1c.nii.gz',\n",
              " '/UCSF-PDGM-0039_T1c.nii.gz',\n",
              " '/UCSF-PDGM-0040_T1c.nii.gz',\n",
              " '/UCSF-PDGM-0043_T1c.nii.gz',\n",
              " '/UCSF-PDGM-0044_T1c.nii.gz',\n",
              " '/UCSF-PDGM-0045_T1c.nii.gz',\n",
              " '/UCSF-PDGM-0047_T1c.nii.gz',\n",
              " '/UCSF-PDGM-0048_T1c.nii.gz',\n",
              " '/UCSF-PDGM-0049_T1c.nii.gz',\n",
              " '/UCSF-PDGM-0050_T1c.nii.gz',\n",
              " '/UCSF-PDGM-0053_T1c.nii.gz',\n",
              " '/UCSF-PDGM-0055_T1c.nii.gz',\n",
              " '/UCSF-PDGM-0056_T1c.nii.gz',\n",
              " '/UCSF-PDGM-0057_T1c.nii.gz',\n",
              " '/UCSF-PDGM-0058_T1c.nii.gz',\n",
              " '/UCSF-PDGM-0059_T1c.nii.gz',\n",
              " '/UCSF-PDGM-0061_T1c.nii.gz',\n",
              " '/UCSF-PDGM-0063_T1c.nii.gz',\n",
              " '/UCSF-PDGM-0064_T1c.nii.gz',\n",
              " '/UCSF-PDGM-0065_T1c.nii.gz',\n",
              " '/UCSF-PDGM-0067_T1c.nii.gz',\n",
              " '/UCSF-PDGM-0069_T1c.nii.gz',\n",
              " '/UCSF-PDGM-0070_T1c.nii.gz',\n",
              " '/UCSF-PDGM-0072_T1c.nii.gz',\n",
              " '/UCSF-PDGM-0073_T1c.nii.gz',\n",
              " '/UCSF-PDGM-0076_T1c.nii.gz',\n",
              " '/UCSF-PDGM-0077_T1c.nii.gz',\n",
              " '/UCSF-PDGM-0078_T1c.nii.gz',\n",
              " '/UCSF-PDGM-0079_T1c.nii.gz',\n",
              " '/UCSF-PDGM-0080_T1c.nii.gz',\n",
              " '/UCSF-PDGM-0082_T1c.nii.gz',\n",
              " '/UCSF-PDGM-0083_T1c.nii.gz',\n",
              " '/UCSF-PDGM-0086_T1c.nii.gz',\n",
              " '/UCSF-PDGM-0087_T1c.nii.gz',\n",
              " '/UCSF-PDGM-0088_T1c.nii.gz',\n",
              " '/UCSF-PDGM-0089_T1c.nii.gz',\n",
              " '/UCSF-PDGM-0090_T1c.nii.gz',\n",
              " '/UCSF-PDGM-0091_T1c.nii.gz',\n",
              " '/UCSF-PDGM-0092_T1c.nii.gz',\n",
              " '/UCSF-PDGM-0093_T1c.nii.gz',\n",
              " '/UCSF-PDGM-0094_T1c.nii.gz',\n",
              " '/UCSF-PDGM-0095_T1c.nii.gz',\n",
              " '/UCSF-PDGM-0099_T1c.nii.gz',\n",
              " '/UCSF-PDGM-0102_T1c.nii.gz',\n",
              " '/UCSF-PDGM-0103_T1c.nii.gz',\n",
              " '/UCSF-PDGM-0104_T1c.nii.gz',\n",
              " '/UCSF-PDGM-0106_T1c.nii.gz',\n",
              " '/UCSF-PDGM-0107_T1c.nii.gz',\n",
              " '/UCSF-PDGM-0108_T1c.nii.gz',\n",
              " '/UCSF-PDGM-0109_T1c.nii.gz',\n",
              " '/UCSF-PDGM-0112_T1c.nii.gz',\n",
              " '/UCSF-PDGM-0113_T1c.nii.gz',\n",
              " '/UCSF-PDGM-0114_T1c.nii.gz',\n",
              " '/UCSF-PDGM-0116_T1c.nii.gz',\n",
              " '/UCSF-PDGM-0119_T1c.nii.gz',\n",
              " '/UCSF-PDGM-0122_T1c.nii.gz',\n",
              " '/UCSF-PDGM-0126_T1c.nii.gz',\n",
              " '/UCSF-PDGM-0127_T1c.nii.gz',\n",
              " '/UCSF-PDGM-0128_T1c.nii.gz',\n",
              " '/UCSF-PDGM-0129_T1c.nii.gz',\n",
              " '/UCSF-PDGM-0130_T1c.nii.gz',\n",
              " '/UCSF-PDGM-0132_T1c.nii.gz',\n",
              " '/UCSF-PDGM-0133_T1c.nii.gz',\n",
              " '/UCSF-PDGM-0134_T1c.nii.gz',\n",
              " '/UCSF-PDGM-0135_T1c.nii.gz',\n",
              " '/UCSF-PDGM-0136_T1c.nii.gz',\n",
              " '/UCSF-PDGM-0137_T1c.nii.gz',\n",
              " '/UCSF-PDGM-0138_T1c.nii.gz',\n",
              " '/UCSF-PDGM-0139_T1c.nii.gz',\n",
              " '/UCSF-PDGM-0140_T1c.nii.gz',\n",
              " '/UCSF-PDGM-0141_T1c.nii.gz',\n",
              " '/UCSF-PDGM-0143_T1c.nii.gz',\n",
              " '/UCSF-PDGM-0144_T1c.nii.gz',\n",
              " '/UCSF-PDGM-0147_T1c.nii.gz',\n",
              " '/UCSF-PDGM-0148_T1c.nii.gz',\n",
              " '/UCSF-PDGM-0149_T1c.nii.gz',\n",
              " '/UCSF-PDGM-0150_T1c.nii.gz',\n",
              " '/UCSF-PDGM-0152_T1c.nii.gz',\n",
              " '/UCSF-PDGM-0153_T1c.nii.gz',\n",
              " '/UCSF-PDGM-0155_T1c.nii.gz',\n",
              " '/UCSF-PDGM-0156_T1c.nii.gz',\n",
              " '/UCSF-PDGM-0157_T1c.nii.gz',\n",
              " '/UCSF-PDGM-0158_T1c.nii.gz',\n",
              " '/UCSF-PDGM-0159_T1c.nii.gz',\n",
              " '/UCSF-PDGM-0160_T1c.nii.gz',\n",
              " '/UCSF-PDGM-0161_T1c.nii.gz',\n",
              " '/UCSF-PDGM-0162_T1c.nii.gz',\n",
              " '/UCSF-PDGM-0165_T1c.nii.gz',\n",
              " '/UCSF-PDGM-0166_T1c.nii.gz',\n",
              " '/UCSF-PDGM-0167_T1c.nii.gz',\n",
              " '/UCSF-PDGM-0170_T1c.nii.gz',\n",
              " '/UCSF-PDGM-0173_T1c.nii.gz',\n",
              " '/UCSF-PDGM-0174_T1c.nii.gz',\n",
              " '/UCSF-PDGM-0176_T1c.nii.gz',\n",
              " '/UCSF-PDGM-0179_T1c.nii.gz',\n",
              " '/UCSF-PDGM-0181_T1c.nii.gz',\n",
              " '/UCSF-PDGM-0183_T1c.nii.gz',\n",
              " '/UCSF-PDGM-0184_T1c.nii.gz',\n",
              " '/UCSF-PDGM-0185_T1c.nii.gz',\n",
              " '/UCSF-PDGM-0186_T1c.nii.gz',\n",
              " '/UCSF-PDGM-0187_T1c.nii.gz',\n",
              " '/UCSF-PDGM-0188_T1c.nii.gz',\n",
              " '/UCSF-PDGM-0189_T1c.nii.gz',\n",
              " '/UCSF-PDGM-0190_T1c.nii.gz',\n",
              " '/UCSF-PDGM-0191_T1c.nii.gz',\n",
              " '/UCSF-PDGM-0193_T1c.nii.gz',\n",
              " '/UCSF-PDGM-0194_T1c.nii.gz',\n",
              " '/UCSF-PDGM-0198_T1c.nii.gz',\n",
              " '/UCSF-PDGM-0200_T1c.nii.gz',\n",
              " '/UCSF-PDGM-0201_T1c.nii.gz',\n",
              " '/UCSF-PDGM-0204_T1c.nii.gz',\n",
              " '/UCSF-PDGM-0205_T1c.nii.gz',\n",
              " '/UCSF-PDGM-0206_T1c.nii.gz',\n",
              " '/UCSF-PDGM-0207_T1c.nii.gz',\n",
              " '/UCSF-PDGM-0208_T1c.nii.gz',\n",
              " '/UCSF-PDGM-0210_T1c.nii.gz',\n",
              " '/UCSF-PDGM-0213_T1c.nii.gz',\n",
              " '/UCSF-PDGM-0214_T1c.nii.gz',\n",
              " '/UCSF-PDGM-0215_T1c.nii.gz',\n",
              " '/UCSF-PDGM-0223_T1c.nii.gz',\n",
              " '/UCSF-PDGM-0225_T1c.nii.gz',\n",
              " '/UCSF-PDGM-0227_T1c.nii.gz',\n",
              " '/UCSF-PDGM-0232_T1c.nii.gz',\n",
              " '/UCSF-PDGM-0234_T1c.nii.gz',\n",
              " '/UCSF-PDGM-0249_T1c.nii.gz',\n",
              " '/UCSF-PDGM-0263_T1c.nii.gz',\n",
              " '/UCSF-PDGM-0268_T1c.nii.gz',\n",
              " '/UCSF-PDGM-0270_T1c.nii.gz',\n",
              " '/UCSF-PDGM-0273_T1c.nii.gz',\n",
              " '/UCSF-PDGM-0275_T1c.nii.gz',\n",
              " '/UCSF-PDGM-0277_T1c.nii.gz',\n",
              " '/UCSF-PDGM-0278_T1c.nii.gz',\n",
              " '/UCSF-PDGM-0279_T1c.nii.gz',\n",
              " '/UCSF-PDGM-0280_T1c.nii.gz',\n",
              " '/UCSF-PDGM-0283_T1c.nii.gz',\n",
              " '/UCSF-PDGM-0284_T1c.nii.gz',\n",
              " '/UCSF-PDGM-0287_T1c.nii.gz',\n",
              " '/UCSF-PDGM-0288_T1c.nii.gz',\n",
              " '/UCSF-PDGM-0289_T1c.nii.gz',\n",
              " '/UCSF-PDGM-0290_T1c.nii.gz',\n",
              " '/UCSF-PDGM-0291_T1c.nii.gz',\n",
              " '/UCSF-PDGM-0295_T1c.nii.gz',\n",
              " '/UCSF-PDGM-0296_T1c.nii.gz',\n",
              " '/UCSF-PDGM-0302_T1c.nii.gz',\n",
              " '/UCSF-PDGM-0303_T1c.nii.gz',\n",
              " '/UCSF-PDGM-0306_T1c.nii.gz',\n",
              " '/UCSF-PDGM-0310_T1c.nii.gz',\n",
              " '/UCSF-PDGM-0311_T1c.nii.gz',\n",
              " '/UCSF-PDGM-0313_T1c.nii.gz',\n",
              " '/UCSF-PDGM-0315_T1c.nii.gz',\n",
              " '/UCSF-PDGM-0319_T1c.nii.gz',\n",
              " '/UCSF-PDGM-0320_T1c.nii.gz',\n",
              " '/UCSF-PDGM-0321_T1c.nii.gz',\n",
              " '/UCSF-PDGM-0323_T1c.nii.gz',\n",
              " '/UCSF-PDGM-0324_T1c.nii.gz',\n",
              " '/UCSF-PDGM-0325_T1c.nii.gz',\n",
              " '/UCSF-PDGM-0326_T1c.nii.gz',\n",
              " '/UCSF-PDGM-0328_T1c.nii.gz',\n",
              " '/UCSF-PDGM-0329_T1c.nii.gz',\n",
              " '/UCSF-PDGM-0331_T1c.nii.gz',\n",
              " '/UCSF-PDGM-0332_T1c.nii.gz',\n",
              " '/UCSF-PDGM-0333_T1c.nii.gz',\n",
              " '/UCSF-PDGM-0339_T1c.nii.gz',\n",
              " '/UCSF-PDGM-0340_T1c.nii.gz',\n",
              " '/UCSF-PDGM-0341_T1c.nii.gz',\n",
              " '/UCSF-PDGM-0342_T1c.nii.gz',\n",
              " '/UCSF-PDGM-0343_T1c.nii.gz',\n",
              " '/UCSF-PDGM-0345_T1c.nii.gz',\n",
              " '/UCSF-PDGM-0346_T1c.nii.gz',\n",
              " '/UCSF-PDGM-0347_T1c.nii.gz',\n",
              " '/UCSF-PDGM-0348_T1c.nii.gz',\n",
              " '/UCSF-PDGM-0350_T1c.nii.gz',\n",
              " '/UCSF-PDGM-0351_T1c.nii.gz',\n",
              " '/UCSF-PDGM-0352_T1c.nii.gz',\n",
              " '/UCSF-PDGM-0353_T1c.nii.gz',\n",
              " '/UCSF-PDGM-0354_T1c.nii.gz',\n",
              " '/UCSF-PDGM-0356_T1c.nii.gz',\n",
              " '/UCSF-PDGM-0358_T1c.nii.gz',\n",
              " '/UCSF-PDGM-0359_T1c.nii.gz',\n",
              " '/UCSF-PDGM-0360_T1c.nii.gz',\n",
              " '/UCSF-PDGM-0365_T1c.nii.gz',\n",
              " '/UCSF-PDGM-0366_T1c.nii.gz',\n",
              " '/UCSF-PDGM-0367_T1c.nii.gz',\n",
              " '/UCSF-PDGM-0370_T1c.nii.gz',\n",
              " '/UCSF-PDGM-0371_T1c.nii.gz',\n",
              " '/UCSF-PDGM-0374_T1c.nii.gz',\n",
              " '/UCSF-PDGM-0375_T1c.nii.gz',\n",
              " '/UCSF-PDGM-0376_T1c.nii.gz',\n",
              " '/UCSF-PDGM-0377_T1c.nii.gz',\n",
              " '/UCSF-PDGM-0381_T1c.nii.gz',\n",
              " '/UCSF-PDGM-0383_T1c.nii.gz',\n",
              " '/UCSF-PDGM-0384_T1c.nii.gz',\n",
              " '/UCSF-PDGM-0385_T1c.nii.gz',\n",
              " '/UCSF-PDGM-0386_T1c.nii.gz',\n",
              " '/UCSF-PDGM-0387_T1c.nii.gz',\n",
              " '/UCSF-PDGM-0389_T1c.nii.gz',\n",
              " '/UCSF-PDGM-0391_T1c.nii.gz',\n",
              " '/UCSF-PDGM-0392_T1c.nii.gz',\n",
              " '/UCSF-PDGM-0393_T1c.nii.gz',\n",
              " '/UCSF-PDGM-0394_T1c.nii.gz',\n",
              " '/UCSF-PDGM-0397_T1c.nii.gz',\n",
              " '/UCSF-PDGM-0398_T1c.nii.gz',\n",
              " '/UCSF-PDGM-0405_T1c.nii.gz',\n",
              " '/UCSF-PDGM-0406_T1c.nii.gz',\n",
              " '/UCSF-PDGM-0407_T1c.nii.gz',\n",
              " '/UCSF-PDGM-0409_T1c.nii.gz',\n",
              " '/UCSF-PDGM-0410_T1c.nii.gz',\n",
              " '/UCSF-PDGM-0411_T1c.nii.gz',\n",
              " '/UCSF-PDGM-0413_T1c.nii.gz',\n",
              " '/UCSF-PDGM-0415_T1c.nii.gz',\n",
              " '/UCSF-PDGM-0416_T1c.nii.gz',\n",
              " '/UCSF-PDGM-0417_T1c.nii.gz',\n",
              " '/UCSF-PDGM-0418_T1c.nii.gz',\n",
              " '/UCSF-PDGM-0419_T1c.nii.gz',\n",
              " '/UCSF-PDGM-0420_T1c.nii.gz',\n",
              " '/UCSF-PDGM-0421_T1c.nii.gz',\n",
              " '/UCSF-PDGM-0422_T1c.nii.gz',\n",
              " '/UCSF-PDGM-0423_T1c.nii.gz',\n",
              " '/UCSF-PDGM-0425_T1c.nii.gz',\n",
              " '/UCSF-PDGM-0426_T1c.nii.gz',\n",
              " '/UCSF-PDGM-0427_T1c.nii.gz',\n",
              " '/UCSF-PDGM-0428_T1c.nii.gz',\n",
              " '/UCSF-PDGM-0429_T1c.nii.gz',\n",
              " '/UCSF-PDGM-0431_T1c.nii.gz',\n",
              " '/UCSF-PDGM-0432_T1c.nii.gz',\n",
              " '/UCSF-PDGM-0433_T1c.nii.gz',\n",
              " '/UCSF-PDGM-0434_T1c.nii.gz',\n",
              " '/UCSF-PDGM-0435_T1c.nii.gz',\n",
              " '/UCSF-PDGM-0436_T1c.nii.gz',\n",
              " '/UCSF-PDGM-0447_T1c.nii.gz',\n",
              " '/UCSF-PDGM-0449_T1c.nii.gz',\n",
              " '/UCSF-PDGM-0450_T1c.nii.gz',\n",
              " '/UCSF-PDGM-0452_T1c.nii.gz',\n",
              " '/UCSF-PDGM-0453_T1c.nii.gz',\n",
              " '/UCSF-PDGM-0454_T1c.nii.gz',\n",
              " '/UCSF-PDGM-0456_T1c.nii.gz',\n",
              " '/UCSF-PDGM-0457_T1c.nii.gz',\n",
              " '/UCSF-PDGM-0460_T1c.nii.gz',\n",
              " '/UCSF-PDGM-0462_T1c.nii.gz',\n",
              " '/UCSF-PDGM-0463_T1c.nii.gz',\n",
              " '/UCSF-PDGM-0464_T1c.nii.gz',\n",
              " '/UCSF-PDGM-0467_T1c.nii.gz',\n",
              " '/UCSF-PDGM-0468_T1c.nii.gz',\n",
              " '/UCSF-PDGM-0470_T1c.nii.gz',\n",
              " '/UCSF-PDGM-0471_T1c.nii.gz',\n",
              " '/UCSF-PDGM-0472_T1c.nii.gz',\n",
              " '/UCSF-PDGM-0479_T1c.nii.gz',\n",
              " '/UCSF-PDGM-0480_T1c.nii.gz',\n",
              " '/UCSF-PDGM-0483_T1c.nii.gz',\n",
              " '/UCSF-PDGM-0484_T1c.nii.gz',\n",
              " '/UCSF-PDGM-0488_T1c.nii.gz',\n",
              " '/UCSF-PDGM-0493_T1c.nii.gz',\n",
              " '/UCSF-PDGM-0494_T1c.nii.gz',\n",
              " '/UCSF-PDGM-0495_T1c.nii.gz',\n",
              " '/UCSF-PDGM-0496_T1c.nii.gz',\n",
              " '/UCSF-PDGM-0500_T1c.nii.gz',\n",
              " '/UCSF-PDGM-0501_T1c.nii.gz',\n",
              " '/UCSF-PDGM-0504_T1c.nii.gz',\n",
              " '/UCSF-PDGM-0505_T1c.nii.gz',\n",
              " '/UCSF-PDGM-0507_T1c.nii.gz',\n",
              " '/UCSF-PDGM-0509_T1c.nii.gz',\n",
              " '/UCSF-PDGM-0510_T1c.nii.gz',\n",
              " '/UCSF-PDGM-0512_T1c.nii.gz',\n",
              " '/UCSF-PDGM-0513_T1c.nii.gz',\n",
              " '/UCSF-PDGM-0516_T1c.nii.gz',\n",
              " '/UCSF-PDGM-0517_T1c.nii.gz',\n",
              " '/UCSF-PDGM-0519_T1c.nii.gz',\n",
              " '/UCSF-PDGM-0520_T1c.nii.gz',\n",
              " '/UCSF-PDGM-0522_T1c.nii.gz',\n",
              " '/UCSF-PDGM-0523_T1c.nii.gz',\n",
              " '/UCSF-PDGM-0524_T1c.nii.gz',\n",
              " '/UCSF-PDGM-0526_T1c.nii.gz',\n",
              " '/UCSF-PDGM-0527_T1c.nii.gz',\n",
              " '/UCSF-PDGM-0529_T1c.nii.gz',\n",
              " '/UCSF-PDGM-0530_T1c.nii.gz',\n",
              " '/UCSF-PDGM-0531_T1c.nii.gz',\n",
              " '/UCSF-PDGM-0533_T1c.nii.gz',\n",
              " '/UCSF-PDGM-0534_T1c.nii.gz',\n",
              " '/UCSF-PDGM-0536_T1c.nii.gz',\n",
              " '/UCSF-PDGM-0537_T1c.nii.gz',\n",
              " '/UCSF-PDGM-0539_T1c.nii.gz',\n",
              " '/UCSF-PDGM-0540_T1c.nii.gz',\n",
              " '/UCSF-PDGM-0004_T1c.nii.gz',\n",
              " '/UCSF-PDGM-0008_T1c.nii.gz',\n",
              " '/UCSF-PDGM-0009_T1c.nii.gz',\n",
              " '/UCSF-PDGM-0012_T1c.nii.gz',\n",
              " '/UCSF-PDGM-0015_T1c.nii.gz',\n",
              " '/UCSF-PDGM-0017_T1c.nii.gz',\n",
              " '/UCSF-PDGM-0020_T1c.nii.gz',\n",
              " '/UCSF-PDGM-0027_T1c.nii.gz',\n",
              " '/UCSF-PDGM-0034_T1c.nii.gz',\n",
              " '/UCSF-PDGM-0041_T1c.nii.gz',\n",
              " '/UCSF-PDGM-0042_T1c.nii.gz',\n",
              " '/UCSF-PDGM-0046_T1c.nii.gz',\n",
              " '/UCSF-PDGM-0068_T1c.nii.gz',\n",
              " '/UCSF-PDGM-0071_T1c.nii.gz',\n",
              " '/UCSF-PDGM-0074_T1c.nii.gz',\n",
              " '/UCSF-PDGM-0075_T1c.nii.gz',\n",
              " '/UCSF-PDGM-0084_T1c.nii.gz',\n",
              " '/UCSF-PDGM-0085_T1c.nii.gz',\n",
              " '/UCSF-PDGM-0096_T1c.nii.gz',\n",
              " '/UCSF-PDGM-0097_T1c.nii.gz',\n",
              " '/UCSF-PDGM-0101_T1c.nii.gz',\n",
              " '/UCSF-PDGM-0105_T1c.nii.gz',\n",
              " '/UCSF-PDGM-0111_T1c.nii.gz',\n",
              " '/UCSF-PDGM-0115_T1c.nii.gz',\n",
              " '/UCSF-PDGM-0118_T1c.nii.gz',\n",
              " '/UCSF-PDGM-0121_T1c.nii.gz',\n",
              " '/UCSF-PDGM-0123_T1c.nii.gz',\n",
              " '/UCSF-PDGM-0124_T1c.nii.gz',\n",
              " '/UCSF-PDGM-0131_T1c.nii.gz',\n",
              " '/UCSF-PDGM-0142_T1c.nii.gz',\n",
              " '/UCSF-PDGM-0145_T1c.nii.gz',\n",
              " '/UCSF-PDGM-0146_T1c.nii.gz',\n",
              " '/UCSF-PDGM-0151_T1c.nii.gz',\n",
              " '/UCSF-PDGM-0154_T1c.nii.gz',\n",
              " '/UCSF-PDGM-0163_T1c.nii.gz',\n",
              " '/UCSF-PDGM-0164_T1c.nii.gz',\n",
              " '/UCSF-PDGM-0168_T1c.nii.gz',\n",
              " '/UCSF-PDGM-0172_T1c.nii.gz',\n",
              " '/UCSF-PDGM-0175_T1c.nii.gz',\n",
              " '/UCSF-PDGM-0178_T1c.nii.gz',\n",
              " '/UCSF-PDGM-0180_T1c.nii.gz',\n",
              " '/UCSF-PDGM-0182_T1c.nii.gz',\n",
              " '/UCSF-PDGM-0195_T1c.nii.gz',\n",
              " '/UCSF-PDGM-0196_T1c.nii.gz',\n",
              " '/UCSF-PDGM-0197_T1c.nii.gz',\n",
              " '/UCSF-PDGM-0202_T1c.nii.gz',\n",
              " '/UCSF-PDGM-0203_T1c.nii.gz',\n",
              " '/UCSF-PDGM-0209_T1c.nii.gz',\n",
              " '/UCSF-PDGM-0212_T1c.nii.gz',\n",
              " '/UCSF-PDGM-0228_T1c.nii.gz',\n",
              " '/UCSF-PDGM-0229_T1c.nii.gz',\n",
              " '/UCSF-PDGM-0254_T1c.nii.gz',\n",
              " '/UCSF-PDGM-0262_T1c.nii.gz',\n",
              " '/UCSF-PDGM-0272_T1c.nii.gz',\n",
              " '/UCSF-PDGM-0276_T1c.nii.gz',\n",
              " '/UCSF-PDGM-0309_T1c.nii.gz',\n",
              " '/UCSF-PDGM-0314_T1c.nii.gz',\n",
              " '/UCSF-PDGM-0316_T1c.nii.gz',\n",
              " '/UCSF-PDGM-0317_T1c.nii.gz',\n",
              " '/UCSF-PDGM-0334_T1c.nii.gz',\n",
              " '/UCSF-PDGM-0335_T1c.nii.gz',\n",
              " '/UCSF-PDGM-0338_T1c.nii.gz',\n",
              " '/UCSF-PDGM-0344_T1c.nii.gz',\n",
              " '/UCSF-PDGM-0349_T1c.nii.gz',\n",
              " '/UCSF-PDGM-0355_T1c.nii.gz',\n",
              " '/UCSF-PDGM-0357_T1c.nii.gz',\n",
              " '/UCSF-PDGM-0361_T1c.nii.gz',\n",
              " '/UCSF-PDGM-0362_T1c.nii.gz',\n",
              " '/UCSF-PDGM-0363_T1c.nii.gz',\n",
              " '/UCSF-PDGM-0364_T1c.nii.gz',\n",
              " '/UCSF-PDGM-0368_T1c.nii.gz',\n",
              " '/UCSF-PDGM-0369_T1c.nii.gz',\n",
              " '/UCSF-PDGM-0372_T1c.nii.gz',\n",
              " '/UCSF-PDGM-0378_T1c.nii.gz',\n",
              " '/UCSF-PDGM-0379_T1c.nii.gz',\n",
              " '/UCSF-PDGM-0380_T1c.nii.gz',\n",
              " '/UCSF-PDGM-0382_T1c.nii.gz',\n",
              " '/UCSF-PDGM-0388_T1c.nii.gz',\n",
              " '/UCSF-PDGM-0390_T1c.nii.gz',\n",
              " '/UCSF-PDGM-0396_T1c.nii.gz',\n",
              " '/UCSF-PDGM-0399_T1c.nii.gz',\n",
              " '/UCSF-PDGM-0400_T1c.nii.gz',\n",
              " '/UCSF-PDGM-0401_T1c.nii.gz',\n",
              " '/UCSF-PDGM-0402_T1c.nii.gz',\n",
              " '/UCSF-PDGM-0403_T1c.nii.gz',\n",
              " '/UCSF-PDGM-0404_T1c.nii.gz',\n",
              " '/UCSF-PDGM-0412_T1c.nii.gz',\n",
              " '/UCSF-PDGM-0414_T1c.nii.gz',\n",
              " '/UCSF-PDGM-0424_T1c.nii.gz',\n",
              " '/UCSF-PDGM-0430_T1c.nii.gz',\n",
              " '/UCSF-PDGM-0437_T1c.nii.gz',\n",
              " '/UCSF-PDGM-0442_T1c.nii.gz',\n",
              " '/UCSF-PDGM-0451_T1c.nii.gz',\n",
              " '/UCSF-PDGM-0455_T1c.nii.gz',\n",
              " '/UCSF-PDGM-0459_T1c.nii.gz',\n",
              " '/UCSF-PDGM-0461_T1c.nii.gz',\n",
              " '/UCSF-PDGM-0466_T1c.nii.gz',\n",
              " '/UCSF-PDGM-0481_T1c.nii.gz',\n",
              " '/UCSF-PDGM-0486_T1c.nii.gz',\n",
              " '/UCSF-PDGM-0487_T1c.nii.gz',\n",
              " '/UCSF-PDGM-0492_T1c.nii.gz',\n",
              " '/UCSF-PDGM-0497_T1c.nii.gz',\n",
              " '/UCSF-PDGM-0502_T1c.nii.gz',\n",
              " '/UCSF-PDGM-0503_T1c.nii.gz',\n",
              " '/UCSF-PDGM-0508_T1c.nii.gz',\n",
              " '/UCSF-PDGM-0511_T1c.nii.gz',\n",
              " '/UCSF-PDGM-0514_T1c.nii.gz',\n",
              " '/UCSF-PDGM-0515_T1c.nii.gz',\n",
              " '/UCSF-PDGM-0518_T1c.nii.gz',\n",
              " '/UCSF-PDGM-0525_T1c.nii.gz',\n",
              " '/UCSF-PDGM-0528_T1c.nii.gz',\n",
              " '/UCSF-PDGM-0532_T1c.nii.gz',\n",
              " '/UCSF-PDGM-0538_T1c.nii.gz',\n",
              " '/UCSF-PDGM-0541_T1c.nii.gz']"
            ]
          },
          "metadata": {},
          "execution_count": 19
        }
      ],
      "source": [
        "image_files_list\n"
      ]
    },
    {
      "cell_type": "code",
      "execution_count": 20,
      "metadata": {
        "colab": {
          "base_uri": "https://localhost:8080/"
        },
        "id": "RLEUpwARhAQR",
        "outputId": "bbadb7c2-6e7c-4377-abe0-e748e0c9d55c"
      },
      "outputs": [
        {
          "output_type": "execute_result",
          "data": {
            "text/plain": [
              "(301, 114, 415)"
            ]
          },
          "metadata": {},
          "execution_count": 20
        }
      ],
      "source": [
        "len(image_pos_file_list), len(image_neg_file_list), len(image_files_list)"
      ]
    },
    {
      "cell_type": "code",
      "execution_count": 21,
      "metadata": {
        "colab": {
          "base_uri": "https://localhost:8080/",
          "height": 35
        },
        "id": "Nw_v3O8Dhof1",
        "outputId": "dcb1c7d5-7897-4282-8b8a-30a8e5546584"
      },
      "outputs": [
        {
          "output_type": "execute_result",
          "data": {
            "text/plain": [
              "'/content/drive/MyDrive/02718 Project/Dataset/nifti'"
            ],
            "application/vnd.google.colaboratory.intrinsic+json": {
              "type": "string"
            }
          },
          "metadata": {},
          "execution_count": 21
        }
      ],
      "source": [
        "data_dir"
      ]
    },
    {
      "cell_type": "code",
      "execution_count": 22,
      "metadata": {
        "id": "zZRSGfj5iNSZ"
      },
      "outputs": [],
      "source": [
        "def create_image_class(image_pos_file_list, image_neg_file_list):\n",
        "    image_pos_class = len(image_pos_file_list) * [1]\n",
        "    image_neg_class = len(image_neg_file_list) * [0]\n",
        "    image_class = image_pos_class.copy()\n",
        "    image_class.extend(image_neg_class)\n",
        "    return image_class\n",
        "\n",
        "image_class = create_image_class(image_pos_file_list, image_neg_file_list)"
      ]
    },
    {
      "cell_type": "code",
      "execution_count": 23,
      "metadata": {
        "colab": {
          "base_uri": "https://localhost:8080/"
        },
        "id": "sHIsdaHDieGT",
        "outputId": "e349396c-3fb5-4de6-a509-6599daf3d806"
      },
      "outputs": [
        {
          "output_type": "execute_result",
          "data": {
            "text/plain": [
              "(415, 301)"
            ]
          },
          "metadata": {},
          "execution_count": 23
        }
      ],
      "source": [
        "len(image_class), sum(image_class)"
      ]
    },
    {
      "cell_type": "code",
      "execution_count": 23,
      "metadata": {
        "id": "IXA6stZPWc-o"
      },
      "outputs": [],
      "source": []
    },
    {
      "cell_type": "markdown",
      "metadata": {
        "id": "vMkrEBEPWdf8"
      },
      "source": [
        "![image.png](data:image/png;base64,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)"
      ]
    },
    {
      "cell_type": "code",
      "execution_count": 24,
      "metadata": {
        "colab": {
          "base_uri": "https://localhost:8080/"
        },
        "id": "t13sTUXjCOFN",
        "outputId": "ccaf5267-d201-4e85-b130-b62b0a09d936"
      },
      "outputs": [
        {
          "output_type": "stream",
          "name": "stdout",
          "text": [
            "Total image count: 415\n",
            "Image dimensions: 240 x 240 x 155\n",
            "Label names: ['MGMT_negative', 'MGMT_positive']\n"
          ]
        }
      ],
      "source": [
        "class_names = ['MGMT_negative', 'MGMT_positive']\n",
        "num_class = len(class_names)\n",
        "\n",
        "# all T1c file paths\n",
        "image_files_list\n",
        "    \n",
        "num_total = len(image_files_list)\n",
        "x, y, z = nib.load(data_dir + image_files_list[369]).get_fdata().shape\n",
        "\n",
        "print(f\"Total image count: {num_total}\")\n",
        "print(f\"Image dimensions: {x} x {y} x {z}\")\n",
        "print(f\"Label names: {class_names}\")\n",
        "# print(f\"Label counts: {num_each}\")"
      ]
    },
    {
      "cell_type": "code",
      "execution_count": 25,
      "metadata": {
        "id": "0pLfA2yj6xUT"
      },
      "outputs": [],
      "source": [
        "# sample_nib = nib.load(data_dir + image_files_list[369])"
      ]
    },
    {
      "cell_type": "code",
      "execution_count": 26,
      "metadata": {
        "id": "ytrrlAWM7FUy"
      },
      "outputs": [],
      "source": [
        "# type(sample_nib)"
      ]
    },
    {
      "cell_type": "code",
      "execution_count": 27,
      "metadata": {
        "id": "DzYsbxQyTMMR"
      },
      "outputs": [],
      "source": [
        "sample = nib.load(data_dir + image_files_list[369]).get_fdata()\n"
      ]
    },
    {
      "cell_type": "code",
      "execution_count": 28,
      "metadata": {
        "colab": {
          "base_uri": "https://localhost:8080/"
        },
        "id": "-_KPyvcN81Ld",
        "outputId": "d591f957-0e0d-422d-a682-383c0c110780"
      },
      "outputs": [
        {
          "output_type": "execute_result",
          "data": {
            "text/plain": [
              "(240, 240, 155)"
            ]
          },
          "metadata": {},
          "execution_count": 28
        }
      ],
      "source": [
        "sample.shape"
      ]
    },
    {
      "cell_type": "code",
      "execution_count": 29,
      "metadata": {
        "colab": {
          "base_uri": "https://localhost:8080/",
          "height": 286
        },
        "id": "F6N40J_87y6h",
        "outputId": "d5e3c378-8814-4670-d47e-b2d992c14220"
      },
      "outputs": [
        {
          "output_type": "execute_result",
          "data": {
            "text/plain": [
              "<matplotlib.image.AxesImage at 0x7fdaea7c0af0>"
            ]
          },
          "metadata": {},
          "execution_count": 29
        },
        {
          "output_type": "display_data",
          "data": {
            "text/plain": [
              "<Figure size 432x288 with 1 Axes>"
            ],
            "image/png": "[encoded data removed]"
          },
          "metadata": {
            "needs_background": "light"
          }
        }
      ],
      "source": [
        "plt.imshow(sample[:, :, 70])"
      ]
    },
    {
      "cell_type": "code",
      "execution_count": 30,
      "metadata": {
        "id": "lxB249Mk7HSH"
      },
      "outputs": [],
      "source": [
        "resize = Resize(spatial_size = (256, 256, 64), )"
      ]
    },
    {
      "cell_type": "code",
      "execution_count": 30,
      "metadata": {
        "id": "hesbOGFOEB9i"
      },
      "outputs": [],
      "source": []
    },
    {
      "cell_type": "code",
      "execution_count": 30,
      "metadata": {
        "id": "WTBAWEh--CdA"
      },
      "outputs": [],
      "source": []
    },
    {
      "cell_type": "code",
      "execution_count": 31,
      "metadata": {
        "id": "398sEYHr_j6r"
      },
      "outputs": [],
      "source": [
        "# # pad\n",
        "pad = Pad(((0,0),(8,8),(8,8),(0,0)), 'constant', constant_values=(0))\n",
        "# new_sample = pad(sample)\n",
        "# print('after pad', new_sample.shape)\n",
        "\n",
        "# # resize\n",
        "# resize = Resize(spatial_size = (-1, 64))\n",
        "# new_new_sample = resize(new_sample)\n",
        "# print('after resize', new_new_sample.shape)"
      ]
    },
    {
      "cell_type": "code",
      "execution_count": 32,
      "metadata": {
        "id": "4SGu2T6BEP3K"
      },
      "outputs": [],
      "source": [
        "# test"
      ]
    },
    {
      "cell_type": "markdown",
      "metadata": {
        "id": "ShILDaR_DYa-"
      },
      "source": [
        "# test transforms"
      ]
    },
    {
      "cell_type": "code",
      "execution_count": 33,
      "metadata": {
        "colab": {
          "base_uri": "https://localhost:8080/"
        },
        "id": "DXyvv069Y-0l",
        "outputId": "2bbe0e3a-deb5-4940-d2ff-7e4b24c8e7d1"
      },
      "outputs": [
        {
          "output_type": "stream",
          "name": "stderr",
          "text": [
            "/usr/local/lib/python3.8/dist-packages/monai/utils/deprecate_utils.py:107: FutureWarning: <class 'monai.transforms.utility.array.AddChannel'>: Class `AddChannel` has been deprecated since version 0.8. please use MetaTensor data type and monai.transforms.EnsureChannelFirst instead.\n",
            "  warn_deprecated(obj, msg, warning_category)\n"
          ]
        }
      ],
      "source": [
        "added_c_sample = AddChannel()(sample)"
      ]
    },
    {
      "cell_type": "code",
      "execution_count": 34,
      "metadata": {
        "colab": {
          "base_uri": "https://localhost:8080/"
        },
        "id": "KPkYpbOmZQ2I",
        "outputId": "224602db-5b22-48b1-85fb-6f67049893da"
      },
      "outputs": [
        {
          "output_type": "execute_result",
          "data": {
            "text/plain": [
              "(1, 240, 240, 155)"
            ]
          },
          "metadata": {},
          "execution_count": 34
        }
      ],
      "source": [
        "added_c_sample.shape"
      ]
    },
    {
      "cell_type": "code",
      "execution_count": 35,
      "metadata": {
        "id": "Zt7-1n-uaGWp"
      },
      "outputs": [],
      "source": [
        "padded_sample = pad(added_c_sample)"
      ]
    },
    {
      "cell_type": "code",
      "execution_count": 36,
      "metadata": {
        "colab": {
          "base_uri": "https://localhost:8080/"
        },
        "id": "2rnKWal1aYLq",
        "outputId": "ac802830-31b6-448f-da68-f41a3e6feb21"
      },
      "outputs": [
        {
          "output_type": "execute_result",
          "data": {
            "text/plain": [
              "(1, 256, 256, 155)"
            ]
          },
          "metadata": {},
          "execution_count": 36
        }
      ],
      "source": [
        "padded_sample.shape"
      ]
    },
    {
      "cell_type": "code",
      "execution_count": 37,
      "metadata": {
        "id": "ogOd4xb8ERwS"
      },
      "outputs": [],
      "source": [
        "resize2 = Resize(spatial_size = (256,256, 155))"
      ]
    },
    {
      "cell_type": "code",
      "execution_count": 38,
      "metadata": {
        "id": "y5TERmCD8brg"
      },
      "outputs": [],
      "source": [
        "resized_sample = resize2(added_c_sample)"
      ]
    },
    {
      "cell_type": "code",
      "execution_count": 39,
      "metadata": {
        "colab": {
          "base_uri": "https://localhost:8080/"
        },
        "id": "-DpRWi8wZXuN",
        "outputId": "a16a1025-b0c6-4925-f0ab-0eecd0ace3f8"
      },
      "outputs": [
        {
          "output_type": "execute_result",
          "data": {
            "text/plain": [
              "(1, 256, 256, 155)"
            ]
          },
          "metadata": {},
          "execution_count": 39
        }
      ],
      "source": [
        "resized_sample.shape"
      ]
    },
    {
      "cell_type": "code",
      "execution_count": 40,
      "metadata": {
        "colab": {
          "base_uri": "https://localhost:8080/",
          "height": 286
        },
        "id": "W3NFzHcU7M18",
        "outputId": "de149985-7ff1-4c13-efe3-6cad1a2c4ad6"
      },
      "outputs": [
        {
          "output_type": "execute_result",
          "data": {
            "text/plain": [
              "<matplotlib.image.AxesImage at 0x7fdaea2a2c40>"
            ]
          },
          "metadata": {},
          "execution_count": 40
        },
        {
          "output_type": "display_data",
          "data": {
            "text/plain": [
              "<Figure size 432x288 with 1 Axes>"
            ],
            "image/png": "[encoded data removed]"
          },
          "metadata": {
            "needs_background": "light"
          }
        }
      ],
      "source": [
        "plt.imshow(added_c_sample[0,115, :, : ])\n"
      ]
    },
    {
      "cell_type": "code",
      "execution_count": 41,
      "metadata": {
        "colab": {
          "base_uri": "https://localhost:8080/",
          "height": 286
        },
        "id": "pmWSinYe7NC4",
        "outputId": "3d853a16-f01c-4324-c70b-7f73ce8ece61"
      },
      "outputs": [
        {
          "output_type": "execute_result",
          "data": {
            "text/plain": [
              "<matplotlib.image.AxesImage at 0x7fdaea271eb0>"
            ]
          },
          "metadata": {},
          "execution_count": 41
        },
        {
          "output_type": "display_data",
          "data": {
            "text/plain": [
              "<Figure size 432x288 with 1 Axes>"
            ],
            "image/png": "[encoded data removed]"
          },
          "metadata": {
            "needs_background": "light"
          }
        }
      ],
      "source": [
        "plt.imshow(resized_sample[0,125, :, : ])"
      ]
    },
    {
      "cell_type": "code",
      "execution_count": 42,
      "metadata": {
        "colab": {
          "base_uri": "https://localhost:8080/",
          "height": 286
        },
        "id": "X5-6_mJb7NC4",
        "outputId": "a91af863-a53b-4ada-b66b-965e29c53546"
      },
      "outputs": [
        {
          "output_type": "execute_result",
          "data": {
            "text/plain": [
              "<matplotlib.image.AxesImage at 0x7fdaea1d87f0>"
            ]
          },
          "metadata": {},
          "execution_count": 42
        },
        {
          "output_type": "display_data",
          "data": {
            "text/plain": [
              "<Figure size 432x288 with 1 Axes>"
            ],
            "image/png": "[encoded data removed]"
          },
          "metadata": {
            "needs_background": "light"
          }
        }
      ],
      "source": [
        "plt.imshow(resized_sample[0,:, 90, : ])"
      ]
    },
    {
      "cell_type": "code",
      "execution_count": 42,
      "metadata": {
        "id": "CyIjruRF7MHR"
      },
      "outputs": [],
      "source": []
    },
    {
      "cell_type": "code",
      "execution_count": 43,
      "metadata": {
        "colab": {
          "base_uri": "https://localhost:8080/"
        },
        "id": "PXAQ_pVKbWlc",
        "outputId": "136dd257-7af2-43bf-af0c-a18a6ebdf98d"
      },
      "outputs": [
        {
          "output_type": "execute_result",
          "data": {
            "text/plain": [
              "128.0"
            ]
          },
          "metadata": {},
          "execution_count": 43
        }
      ],
      "source": [
        "256/2\n"
      ]
    },
    {
      "cell_type": "code",
      "execution_count": 44,
      "metadata": {
        "id": "1_sgoVcq28YK"
      },
      "outputs": [],
      "source": [
        "spatialcrop = SpatialCrop(roi_center = (128, 128, 77), roi_size = (256, 256, 64))"
      ]
    },
    {
      "cell_type": "code",
      "execution_count": 45,
      "metadata": {
        "id": "xHwe5shJ3T5f"
      },
      "outputs": [],
      "source": [
        "sc_sample = spatialcrop(resized_sample)"
      ]
    },
    {
      "cell_type": "code",
      "execution_count": 46,
      "metadata": {
        "colab": {
          "base_uri": "https://localhost:8080/"
        },
        "id": "aajrYvJb3lll",
        "outputId": "5d2bfe03-8727-4b8d-da8a-69199f567684"
      },
      "outputs": [
        {
          "output_type": "execute_result",
          "data": {
            "text/plain": [
              "(1, 256, 256, 64)"
            ]
          },
          "metadata": {},
          "execution_count": 46
        }
      ],
      "source": [
        "sc_sample.shape"
      ]
    },
    {
      "cell_type": "code",
      "execution_count": 47,
      "metadata": {
        "colab": {
          "base_uri": "https://localhost:8080/",
          "height": 286
        },
        "id": "cNc_raGw3Y8W",
        "outputId": "2805b079-3f46-4579-da1c-1e64f11254ce"
      },
      "outputs": [
        {
          "output_type": "execute_result",
          "data": {
            "text/plain": [
              "<matplotlib.image.AxesImage at 0x7fdaea1b1520>"
            ]
          },
          "metadata": {},
          "execution_count": 47
        },
        {
          "output_type": "display_data",
          "data": {
            "text/plain": [
              "<Figure size 432x288 with 1 Axes>"
            ],
            "image/png": "[encoded data removed]"
          },
          "metadata": {
            "needs_background": "light"
          }
        }
      ],
      "source": [
        "plt.imshow(sc_sample[0,125, :, : ])"
      ]
    },
    {
      "cell_type": "code",
      "execution_count": 48,
      "metadata": {
        "colab": {
          "base_uri": "https://localhost:8080/",
          "height": 286
        },
        "id": "HRo1P-kab4fC",
        "outputId": "5ea43d41-8907-4bb3-b67b-e54ed400116a"
      },
      "outputs": [
        {
          "output_type": "execute_result",
          "data": {
            "text/plain": [
              "<matplotlib.image.AxesImage at 0x7fdaea177ca0>"
            ]
          },
          "metadata": {},
          "execution_count": 48
        },
        {
          "output_type": "display_data",
          "data": {
            "text/plain": [
              "<Figure size 432x288 with 1 Axes>"
            ],
            "image/png": "[encoded data removed]"
          },
          "metadata": {
            "needs_background": "light"
          }
        }
      ],
      "source": [
        "plt.imshow(sc_sample[0,:, 90, : ])"
      ]
    },
    {
      "cell_type": "code",
      "execution_count": 49,
      "metadata": {
        "colab": {
          "base_uri": "https://localhost:8080/"
        },
        "id": "nW3s9xnH84su",
        "outputId": "8982eb4a-fc14-48b2-cb88-2725e3a05aca"
      },
      "outputs": [
        {
          "output_type": "stream",
          "name": "stdout",
          "text": [
            "================================\n",
            "Printing MONAI config...\n",
            "================================\n",
            "MONAI version: 1.0.1\n",
            "Numpy version: 1.21.6\n",
            "Pytorch version: 1.13.0+cu116\n",
            "MONAI flags: HAS_EXT = False, USE_COMPILED = False, USE_META_DICT = False\n",
            "MONAI rev id: 8271a193229fe4437026185e218d5b06f7c8ce69\n",
            "MONAI __file__: /usr/local/lib/python3.8/dist-packages/monai/__init__.py\n",
            "\n",
            "Optional dependencies:\n",
            "Pytorch Ignite version: 0.4.10\n",
            "Nibabel version: 3.0.2\n",
            "scikit-image version: 0.18.3\n",
            "Pillow version: 7.1.2\n",
            "Tensorboard version: 2.9.1\n",
            "gdown version: 4.4.0\n",
            "TorchVision version: 0.14.0+cu116\n",
            "tqdm version: 4.64.1\n",
            "lmdb version: 0.99\n",
            "psutil version: 5.4.8\n",
            "pandas version: 1.3.5\n",
            "einops version: NOT INSTALLED or UNKNOWN VERSION.\n",
            "transformers version: NOT INSTALLED or UNKNOWN VERSION.\n",
            "mlflow version: NOT INSTALLED or UNKNOWN VERSION.\n",
            "pynrrd version: NOT INSTALLED or UNKNOWN VERSION.\n",
            "\n",
            "For details about installing the optional dependencies, please visit:\n",
            "    https://docs.monai.io/en/latest/installation.html#installing-the-recommended-dependencies\n",
            "\n",
            "\n",
            "================================\n",
            "Printing system config...\n",
            "================================\n",
            "System: Linux\n",
            "Linux version: Ubuntu 18.04.6 LTS\n",
            "Platform: Linux-5.10.133+-x86_64-with-glibc2.27\n",
            "Processor: x86_64\n",
            "Machine: x86_64\n",
            "Python version: 3.8.16\n",
            "Process name: python3\n",
            "Command: ['/usr/bin/python3', '-m', 'ipykernel_launcher', '-f', '/root/.local/share/jupyter/runtime/kernel-fa070fe8-f0fb-4927-bc49-9335a03ebb50.json']\n",
            "Open files: [popenfile(path='/usr/local/lib/python3.8/dist-packages/matplotlib/mpl-data/fonts/ttf/DejaVuSans.ttf', fd=43, position=61440, mode='r', flags=557056), popenfile(path='/usr/local/lib/python3.8/dist-packages/matplotlib/mpl-data/fonts/ttf/DejaVuSans.ttf', fd=44, position=61440, mode='r', flags=557056)]\n",
            "Num physical CPUs: 2\n",
            "Num logical CPUs: 4\n",
            "Num usable CPUs: 4\n",
            "CPU usage (%): [21.0, 21.2, 19.2, 26.5]\n",
            "CPU freq. (MHz): UNKNOWN for given OS\n",
            "Load avg. in last 1, 5, 15 mins (%): UNKNOWN for given OS\n",
            "Disk usage (%): 14.8\n",
            "Avg. sensor temp. (Celsius): UNKNOWN for given OS\n",
            "Total physical memory (GB): 25.5\n",
            "Available memory (GB): 24.1\n",
            "Used memory (GB): 1.3\n",
            "\n",
            "================================\n",
            "Printing GPU config...\n",
            "================================\n",
            "Num GPUs: 1\n",
            "Has CUDA: True\n",
            "CUDA version: 11.6\n",
            "cuDNN enabled: True\n",
            "cuDNN version: 8302\n",
            "Current device: 0\n",
            "Library compiled for CUDA architectures: ['sm_37', 'sm_50', 'sm_60', 'sm_70', 'sm_75', 'sm_80', 'sm_86']\n",
            "GPU 0 Name: Tesla T4\n",
            "GPU 0 Is integrated: False\n",
            "GPU 0 Is multi GPU board: False\n",
            "GPU 0 Multi processor count: 40\n",
            "GPU 0 Total memory (GB): 14.8\n",
            "GPU 0 CUDA capability (maj.min): 7.5\n"
          ]
        }
      ],
      "source": [
        "monai.config.print_debug_info()\n"
      ]
    },
    {
      "cell_type": "code",
      "execution_count": 50,
      "metadata": {
        "colab": {
          "base_uri": "https://localhost:8080/",
          "height": 286
        },
        "id": "5q_iKNY7KS0t",
        "outputId": "07e061e1-10e3-4b37-d607-58ac5c7972bb"
      },
      "outputs": [
        {
          "output_type": "execute_result",
          "data": {
            "text/plain": [
              "<matplotlib.image.AxesImage at 0x7fdaea14d6a0>"
            ]
          },
          "metadata": {},
          "execution_count": 50
        },
        {
          "output_type": "display_data",
          "data": {
            "text/plain": [
              "<Figure size 432x288 with 1 Axes>"
            ],
            "image/png": "[encoded data removed]"
          },
          "metadata": {
            "needs_background": "light"
          }
        }
      ],
      "source": [
        "plt.imshow(sample[125, :, : ])"
      ]
    },
    {
      "cell_type": "code",
      "execution_count": 51,
      "metadata": {
        "colab": {
          "base_uri": "https://localhost:8080/",
          "height": 286
        },
        "id": "Ym8Cez_WKeiM",
        "outputId": "ac437194-d7b0-4922-9f8a-148d776fc829"
      },
      "outputs": [
        {
          "output_type": "execute_result",
          "data": {
            "text/plain": [
              "<matplotlib.image.AxesImage at 0x7fdae3a1a400>"
            ]
          },
          "metadata": {},
          "execution_count": 51
        },
        {
          "output_type": "display_data",
          "data": {
            "text/plain": [
              "<Figure size 432x288 with 1 Axes>"
            ],
            "image/png": "[encoded data removed]"
          },
          "metadata": {
            "needs_background": "light"
          }
        }
      ],
      "source": [
        "plt.imshow(sample[:,120, :])"
      ]
    },
    {
      "cell_type": "code",
      "execution_count": 52,
      "metadata": {
        "colab": {
          "base_uri": "https://localhost:8080/",
          "height": 286
        },
        "id": "GnZ_UgpOWwIN",
        "outputId": "d968512e-8bc7-4b1a-f37f-c876f393f1c5"
      },
      "outputs": [
        {
          "output_type": "execute_result",
          "data": {
            "text/plain": [
              "<matplotlib.image.AxesImage at 0x7fdae39e7220>"
            ]
          },
          "metadata": {},
          "execution_count": 52
        },
        {
          "output_type": "display_data",
          "data": {
            "text/plain": [
              "<Figure size 432x288 with 1 Axes>"
            ],
            "image/png": "[encoded data removed]"
          },
          "metadata": {
            "needs_background": "light"
          }
        }
      ],
      "source": [
        "plt.imshow(padded_sample[0,:,:, 70])"
      ]
    },
    {
      "cell_type": "code",
      "execution_count": 53,
      "metadata": {
        "colab": {
          "base_uri": "https://localhost:8080/",
          "height": 286
        },
        "id": "cECg_sjRW3xu",
        "outputId": "91f8bc60-4eea-4434-f4cf-fcb55991f245"
      },
      "outputs": [
        {
          "output_type": "execute_result",
          "data": {
            "text/plain": [
              "<matplotlib.image.AxesImage at 0x7fdae39bd190>"
            ]
          },
          "metadata": {},
          "execution_count": 53
        },
        {
          "output_type": "display_data",
          "data": {
            "text/plain": [
              "<Figure size 432x288 with 1 Axes>"
            ],
            "image/png": "[encoded data removed]"
          },
          "metadata": {
            "needs_background": "light"
          }
        }
      ],
      "source": [
        "# after pad + resize\n",
        "plt.imshow(added_c_sample[0,:,:,70])"
      ]
    },
    {
      "cell_type": "code",
      "execution_count": 54,
      "metadata": {
        "colab": {
          "base_uri": "https://localhost:8080/",
          "height": 286
        },
        "id": "pDPZUN-7Z6jk",
        "outputId": "b77c327e-066a-4157-8917-5f9b4866b204"
      },
      "outputs": [
        {
          "output_type": "execute_result",
          "data": {
            "text/plain": [
              "<matplotlib.image.AxesImage at 0x7fdae3989730>"
            ]
          },
          "metadata": {},
          "execution_count": 54
        },
        {
          "output_type": "display_data",
          "data": {
            "text/plain": [
              "<Figure size 432x288 with 1 Axes>"
            ],
            "image/png": "[encoded data removed]"
          },
          "metadata": {
            "needs_background": "light"
          }
        }
      ],
      "source": [
        "# after pad + resize\n",
        "plt.imshow(padded_sample[0,:,150,:])"
      ]
    },
    {
      "cell_type": "code",
      "execution_count": 55,
      "metadata": {
        "colab": {
          "base_uri": "https://localhost:8080/",
          "height": 286
        },
        "id": "OjSW_xDxW_VH",
        "outputId": "f8a823fa-6e09-4ac1-b3d8-c67ff2bf4aa9"
      },
      "outputs": [
        {
          "output_type": "execute_result",
          "data": {
            "text/plain": [
              "<matplotlib.image.AxesImage at 0x7fdae38d88e0>"
            ]
          },
          "metadata": {},
          "execution_count": 55
        },
        {
          "output_type": "display_data",
          "data": {
            "text/plain": [
              "<Figure size 432x288 with 1 Axes>"
            ],
            "image/png": "[encoded data removed]"
          },
          "metadata": {
            "needs_background": "light"
          }
        }
      ],
      "source": [
        "# after pad + resize\n",
        "plt.imshow(added_c_sample[0,:,150,:])"
      ]
    },
    {
      "cell_type": "code",
      "execution_count": 56,
      "metadata": {
        "colab": {
          "base_uri": "https://localhost:8080/",
          "height": 183
        },
        "id": "A3G2PJt1Wz6F",
        "outputId": "52a7224e-3c5a-454f-dbe4-2455278d5d42"
      },
      "outputs": [
        {
          "output_type": "error",
          "ename": "NameError",
          "evalue": "ignored",
          "traceback": [
            "\u001b[0;31m---------------------------------------------------------------------------\u001b[0m",
            "\u001b[0;31mNameError\u001b[0m                                 Traceback (most recent call last)",
            "\u001b[0;32m<ipython-input-56-ac0b89480dcd>\u001b[0m in \u001b[0;36m<module>\u001b[0;34m\u001b[0m\n\u001b[1;32m      1\u001b[0m \u001b[0;31m# after pad + resize\u001b[0m\u001b[0;34m\u001b[0m\u001b[0;34m\u001b[0m\u001b[0;34m\u001b[0m\u001b[0m\n\u001b[0;32m----> 2\u001b[0;31m \u001b[0mplt\u001b[0m\u001b[0;34m.\u001b[0m\u001b[0mimshow\u001b[0m\u001b[0;34m(\u001b[0m\u001b[0mnew_new_sample\u001b[0m\u001b[0;34m[\u001b[0m\u001b[0;36m150\u001b[0m\u001b[0;34m,\u001b[0m\u001b[0;34m:\u001b[0m\u001b[0;34m,\u001b[0m\u001b[0;34m:\u001b[0m\u001b[0;34m]\u001b[0m\u001b[0;34m)\u001b[0m\u001b[0;34m\u001b[0m\u001b[0;34m\u001b[0m\u001b[0m\n\u001b[0m",
            "\u001b[0;31mNameError\u001b[0m: name 'new_new_sample' is not defined"
          ]
        }
      ],
      "source": [
        "# after pad + resize\n",
        "plt.imshow(new_new_sample[150,:,:])"
      ]
    },
    {
      "cell_type": "code",
      "execution_count": null,
      "metadata": {
        "id": "oRrBVhLQCOFO"
      },
      "outputs": [],
      "source": []
    },
    {
      "cell_type": "markdown",
      "metadata": {
        "id": "33rwwziiW8l9"
      },
      "source": [
        "# Transform\n",
        "\n",
        "resize --> [1, 256, 256, 64]"
      ]
    },
    {
      "cell_type": "code",
      "execution_count": 57,
      "metadata": {
        "id": "uBCMr8iACOFP"
      },
      "outputs": [],
      "source": [
        "# train_transforms = Compose(\n",
        "#     [\n",
        "#         LoadImage(image_only=True),\n",
        "#         AddChannel(),\n",
        "#         ScaleIntensity(),\n",
        "#         RandRotate(range_x=15, prob=0.5, keep_size=True),\n",
        "#         RandFlip(spatial_axis=0, prob=0.5),\n",
        "#         RandZoom(min_zoom=0.9, max_zoom=1.1, prob=0.5),\n",
        "     \n",
        "#         Resize(spatial_size = (256, 256, 64))\n",
        "#         ToTensor(),\n",
        "#     ]\n",
        "# # )\n",
        "\n",
        "test_transforms = Compose([LoadImage(image_only=True), \n",
        "                           AddChannel(), \n",
        "                           Pad(to_pad= ((0,0),(8,8),(8,8),(0,0)), mode ='constant', constant_values=(0)), \n",
        "                           SpatialCrop(roi_center = (128, 128, 77), roi_size = (256, 256, 64)), \n",
        "                           ScaleIntensity(), \n",
        "                           ToTensor()])\n",
        "\n",
        "test_transforms_2 = Compose([LoadImage(image_only=True), \n",
        "                           AddChannel(), \n",
        "                           Pad(to_pad= ((0,0),(8,8),(8,8),(0,0)), mode ='constant', constant_values=(0)), \n",
        "                           SpatialCrop(roi_center = (128, 128, 77), roi_size = (256, 256, 64)), \n",
        "                        #    ScaleIntensity(), \n",
        "                           ToTensor()])\n",
        "\n",
        "\n",
        "test_transforms_3 = Compose([LoadImage(image_only=True), \n",
        "                           AddChannel(), \n",
        "                           Resize(spatial_size = (256,256, 155)), \n",
        "                           SpatialCrop(roi_center = (128, 128, 77), roi_size = (256, 256, 64)), \n",
        "                           ScaleIntensity(), \n",
        "                           ToTensor()])\n",
        "\n",
        "# act = Compose([EnsureType(), Activations(softmax=True)])\n",
        "# to_onehot = Compose([EnsureType(), AsDiscrete(to_onehot=True, n_classes=num_class)])"
      ]
    },
    {
      "cell_type": "markdown",
      "metadata": {
        "id": "AqtXV-xV1gS_"
      },
      "source": [
        "# Reference\n",
        "\n",
        "https://github.com/Project-MONAI/MONAIBootcamp2021/blob/main/day1/3.%20End-To-End%20Workflow%20with%20MONAI.ipynb "
      ]
    },
    {
      "cell_type": "code",
      "execution_count": null,
      "metadata": {
        "id": "RzJ5STDpCOFP"
      },
      "outputs": [],
      "source": []
    },
    {
      "cell_type": "markdown",
      "metadata": {
        "id": "DYwc_Sw1COFQ"
      },
      "source": [
        "# Dataset"
      ]
    },
    {
      "cell_type": "markdown",
      "metadata": {
        "id": "axuhM-wtC0No"
      },
      "source": [
        "## RNAS MICCAI"
      ]
    },
    {
      "cell_type": "code",
      "execution_count": null,
      "metadata": {
        "id": "dNqRNsYTCOFR"
      },
      "outputs": [],
      "source": [
        "# batch_size = 512\n",
        "# num_workers = 10\n",
        "\n",
        "# class Dataset(torch.utils.data.Dataset):\n",
        "#     def __init__(self, image_files, labels, transforms):\n",
        "#         self.image_files = image_files\n",
        "#         self.labels = labels\n",
        "#         self.transforms = transforms\n",
        "\n",
        "#     def __len__(self):\n",
        "#         return len(self.image_files)\n",
        "\n",
        "#     def __getitem__(self, index):\n",
        "#         return self.transforms(self.image_files[index]), self.labels[index]\n",
        "\n",
        "\n",
        "# train_ds = MedNISTDataset(train_x, train_y, train_transforms)\n",
        "# train_loader = torch.utils.data.DataLoader(train_ds, batch_size=batch_size, shuffle=True, num_workers=num_workers)\n",
        "\n",
        "# val_ds = MedNISTDataset(val_x, val_y, val_transforms)\n",
        "# val_loader = torch.utils.data.DataLoader(val_ds, batch_size=batch_size, num_workers=num_workers)\n",
        "\n",
        "# test_ds = MedNISTDataset(test_x, test_y, val_transforms)\n",
        "# test_loader = torch.utils.data.DataLoader(test_ds, batch_size=batch_size, num_workers=num_workers)"
      ]
    },
    {
      "cell_type": "markdown",
      "metadata": {
        "id": "b75_ixd5C5PK"
      },
      "source": [
        "## UCSF-PDGM"
      ]
    },
    {
      "cell_type": "code",
      "execution_count": null,
      "metadata": {
        "id": "VIgMjstjHCoR"
      },
      "outputs": [],
      "source": [
        "# image_files_list[295:300], image_class[295:300]"
      ]
    },
    {
      "cell_type": "code",
      "execution_count": null,
      "metadata": {
        "id": "RoItWnXrHPEM"
      },
      "outputs": [],
      "source": [
        "# image_files_list[410:], image_class[410:]"
      ]
    },
    {
      "cell_type": "code",
      "execution_count": null,
      "metadata": {
        "id": "_Rv4fSOSyFa5"
      },
      "outputs": [],
      "source": []
    },
    {
      "cell_type": "code",
      "execution_count": 59,
      "metadata": {
        "id": "ZJAluj3kDws6"
      },
      "outputs": [],
      "source": [
        "test_x = image_files_list\n",
        "test_y = image_class"
      ]
    },
    {
      "cell_type": "code",
      "execution_count": 60,
      "metadata": {
        "id": "2sscETvrC4ks"
      },
      "outputs": [],
      "source": [
        "# run if training \n",
        "batch_size = 1\n",
        "num_workers = 0\n",
        "\n",
        "class UCSFPDGMDataset(torch.utils.data.Dataset):\n",
        "    def __init__(self, data_dir, image_files, labels, transforms):\n",
        "        self.image_files = [data_dir + i for i in image_files]\n",
        "        self.paths = image_files\n",
        "        self.labels = labels\n",
        "        \n",
        "        self.transforms = transforms\n",
        "\n",
        "    def __len__(self):\n",
        "        return len(self.image_files)\n",
        "\n",
        "    def __getitem__(self, index):\n",
        "        return self.transforms(self.image_files[index]), self.labels[index], self.paths[index]\n",
        "        # return self.image_files[index], self.labels[index], self.paths[index]\n",
        "\n",
        "\n",
        "# train_ds = UCSFPDGMDataset(train_x, train_y, train_transforms)\n",
        "# train_loader = torch.utils.data.DataLoader(train_ds, batch_size=batch_size, shuffle=True, num_workers=num_workers)\n",
        "\n",
        "# val_ds = UCSFPDGMDataset(val_x, val_y, val_transforms)\n",
        "# val_loader = torch.utils.data.DataLoader(val_ds, batch_size=batch_size, num_workers=num_workers)\n",
        "\n",
        "test_ds = UCSFPDGMDataset(data_dir, test_x, test_y, test_transforms_3)\n",
        "test_loader = DataLoader(test_ds, num_workers=num_workers)"
      ]
    },
    {
      "cell_type": "code",
      "execution_count": null,
      "metadata": {
        "id": "h9L3qF0RY8tv"
      },
      "outputs": [],
      "source": []
    },
    {
      "cell_type": "markdown",
      "metadata": {
        "id": "rG6D0Pkx8Fpx"
      },
      "source": [
        "# Sanity Check"
      ]
    },
    {
      "cell_type": "code",
      "execution_count": null,
      "metadata": {
        "id": "wra5i6ULYfia"
      },
      "outputs": [],
      "source": [
        "for i in test_loader:\n",
        "    images, labels, paths = i\n",
        "    print(images.shape)\n",
        "    break"
      ]
    },
    {
      "cell_type": "code",
      "execution_count": null,
      "metadata": {
        "id": "G9hsx0j5c2fl"
      },
      "outputs": [],
      "source": [
        "plt.imshow(images[0, 0,:,:,30]),  "
      ]
    },
    {
      "cell_type": "code",
      "execution_count": null,
      "metadata": {
        "id": "-YTcWFV1jBJN"
      },
      "outputs": [],
      "source": [
        "plt.imshow(images[0, 0,150,:,:]),"
      ]
    },
    {
      "cell_type": "code",
      "execution_count": null,
      "metadata": {
        "id": "cLF7n46mjBrj"
      },
      "outputs": [],
      "source": [
        " plt.imshow(images[0, 0,:, 150,:])"
      ]
    },
    {
      "cell_type": "code",
      "execution_count": null,
      "metadata": {
        "id": "CLlYh6BM0dfj"
      },
      "outputs": [],
      "source": [
        "# LoadImage()(data_dir + image_files_list[369])"
      ]
    },
    {
      "cell_type": "code",
      "execution_count": 61,
      "metadata": {
        "colab": {
          "base_uri": "https://localhost:8080/"
        },
        "id": "tBs972vJ0m8O",
        "outputId": "441ce31f-f324-4c85-a209-361b0e9aae06"
      },
      "outputs": [
        {
          "output_type": "execute_result",
          "data": {
            "text/plain": [
              "207"
            ]
          },
          "metadata": {},
          "execution_count": 61
        }
      ],
      "source": [
        "import gc\n",
        "\n",
        "gc.collect()"
      ]
    },
    {
      "cell_type": "markdown",
      "metadata": {
        "id": "JwSTnvWdCOFS"
      },
      "source": [
        "# Model"
      ]
    },
    {
      "cell_type": "code",
      "execution_count": 62,
      "metadata": {
        "id": "XfWkyP9gLPLL"
      },
      "outputs": [],
      "source": [
        "weight_list = ['3d-resnet10_T1wCE_fold2_0.538.pth',\n",
        " '3d-resnet10_T1wCE_fold0_0.565.pth',\n",
        " '3d-resnet10_T1wCE_fold4_0.551.pth',\n",
        " '3d-resnet10_T1wCE_fold1_0.573.pth',\n",
        " '3d-resnet10_T1wCE_fold3_0.664.pth']"
      ]
    },
    {
      "cell_type": "code",
      "execution_count": 63,
      "metadata": {
        "id": "4Vc3pU3ca38B"
      },
      "outputs": [],
      "source": [
        "MODELPATH = '/content/drive/MyDrive/02718 Project/Model Weights/'"
      ]
    },
    {
      "cell_type": "code",
      "execution_count": 64,
      "metadata": {
        "colab": {
          "base_uri": "https://localhost:8080/"
        },
        "id": "jd8UvwK4COFT",
        "outputId": "80f6840a-c3e1-488b-b2ad-1b137ceadea9"
      },
      "outputs": [
        {
          "output_type": "stream",
          "name": "stdout",
          "text": [
            "cuda:0\n"
          ]
        },
        {
          "output_type": "execute_result",
          "data": {
            "text/plain": [
              "<All keys matched successfully>"
            ]
          },
          "metadata": {},
          "execution_count": 64
        }
      ],
      "source": [
        "learning_rate = 1e-5\n",
        "device = torch.device(\"cuda:0\" if torch.cuda.is_available() else \"cpu\")\n",
        "print(device)\n",
        "# net = monai.networks.nets.resnet10(spatial_dims=3, n_input_channels=1, n_classes=1).to(device)\n",
        "# loss_function = torch.nn.BCEWithLogitsLoss()\n",
        "# optimizer = torch.optim.Adam(net.parameters(), learning_rate)\n",
        "model = monai.networks.nets.resnet10(spatial_dims=3, n_input_channels=1, num_classes=1).to(device)\n",
        "model.load_state_dict(torch.load(MODELPATH + weight_list[0]), strict=True)\n",
        "\n"
      ]
    },
    {
      "cell_type": "code",
      "execution_count": 65,
      "metadata": {
        "id": "XamW9HdIl4sK"
      },
      "outputs": [],
      "source": [
        "root_dir = '/content/drive/MyDrive/CMU Courses/02718 Computational Medicine/'"
      ]
    },
    {
      "cell_type": "code",
      "execution_count": null,
      "metadata": {
        "id": "DqC4zaxpcW1b"
      },
      "outputs": [],
      "source": [
        "# prediction\n",
        "\n",
        "tta_true_labels = []\n",
        "tta_preds = []\n",
        "\n",
        "\n",
        "preds_f = np.zeros(len(test_y))\n",
        "for fold in range(5):\n",
        "    image_ids = []\n",
        "    labels_lst = []\n",
        "    preds = []\n",
        "\n",
        "    with torch.no_grad():\n",
        "        for  step, batch in enumerate(test_loader):\n",
        "            model.eval()\n",
        "            images, labels, paths = batch\n",
        "\n",
        "            images = images.cuda()\n",
        "            model.load_state_dict(torch.load(MODELPATH + weight_list[fold]), strict=True)\n",
        "\n",
        "            outputs = model(images)\n",
        "            preds.append(outputs.sigmoid().detach().cpu().numpy())\n",
        "            labels_lst.append(labels.detach().cpu().item())\n",
        "            image_ids.append(paths)\n",
        "    \n",
        "\n",
        "    preds_f += np.vstack(preds).T[0]/5\n",
        "\n",
        "    # ids_f = np.hstack(image_ids)"
      ]
    },
    {
      "cell_type": "code",
      "execution_count": null,
      "metadata": {
        "id": "rVBsxKeP3ejS"
      },
      "outputs": [],
      "source": [
        "preds_f"
      ]
    },
    {
      "cell_type": "code",
      "execution_count": null,
      "metadata": {
        "id": "2Wi4rH9mdwNo"
      },
      "outputs": [],
      "source": [
        "len(preds_f)"
      ]
    },
    {
      "cell_type": "code",
      "execution_count": null,
      "metadata": {
        "id": "_N6oCfj7kfHO"
      },
      "outputs": [],
      "source": [
        "np.array(labels_lst)"
      ]
    },
    {
      "cell_type": "code",
      "execution_count": null,
      "metadata": {
        "id": "lKbNzOktky9I"
      },
      "outputs": [],
      "source": []
    },
    {
      "cell_type": "code",
      "execution_count": null,
      "metadata": {
        "id": "cM66knlQGRAE"
      },
      "outputs": [],
      "source": [
        "((preds_f>0.5) == np.array(labels_lst)).sum()/415\n"
      ]
    },
    {
      "cell_type": "code",
      "execution_count": null,
      "metadata": {
        "id": "4ukLjpA9GYZ1"
      },
      "outputs": [],
      "source": [
        "image_ids"
      ]
    },
    {
      "cell_type": "code",
      "execution_count": null,
      "metadata": {
        "id": "H11eLiLnMEeZ"
      },
      "outputs": [],
      "source": [
        "# labels_lst"
      ]
    },
    {
      "cell_type": "code",
      "execution_count": 82,
      "metadata": {
        "colab": {
          "base_uri": "https://localhost:8080/",
          "height": 200
        },
        "id": "ATBC9-F4lfxr",
        "outputId": "432a1cc8-f8d8-4a07-8faa-11c06e793e21"
      },
      "outputs": [
        {
          "output_type": "error",
          "ename": "NameError",
          "evalue": "ignored",
          "traceback": [
            "\u001b[0;31m---------------------------------------------------------------------------\u001b[0m",
            "\u001b[0;31mNameError\u001b[0m                                 Traceback (most recent call last)",
            "\u001b[0;32m<ipython-input-82-d652ad40e339>\u001b[0m in \u001b[0;36m<module>\u001b[0;34m\u001b[0m\n\u001b[1;32m      1\u001b[0m \u001b[0;32mfrom\u001b[0m \u001b[0msklearn\u001b[0m\u001b[0;34m.\u001b[0m\u001b[0mmetrics\u001b[0m \u001b[0;32mimport\u001b[0m \u001b[0mconfusion_matrix\u001b[0m\u001b[0;34m,\u001b[0m \u001b[0mclassification_report\u001b[0m\u001b[0;34m\u001b[0m\u001b[0;34m\u001b[0m\u001b[0m\n\u001b[1;32m      2\u001b[0m \u001b[0;34m\u001b[0m\u001b[0m\n\u001b[0;32m----> 3\u001b[0;31m \u001b[0mprint\u001b[0m\u001b[0;34m(\u001b[0m\u001b[0mclassification_report\u001b[0m\u001b[0;34m(\u001b[0m\u001b[0mlabels_lst\u001b[0m\u001b[0;34m,\u001b[0m \u001b[0;34m(\u001b[0m\u001b[0mpreds_f\u001b[0m\u001b[0;34m>\u001b[0m\u001b[0;36m0.5\u001b[0m\u001b[0;34m)\u001b[0m\u001b[0;34m)\u001b[0m\u001b[0;34m)\u001b[0m\u001b[0;34m\u001b[0m\u001b[0;34m\u001b[0m\u001b[0m\n\u001b[0m",
            "\u001b[0;31mNameError\u001b[0m: name 'labels_lst' is not defined"
          ]
        }
      ],
      "source": [
        "from sklearn.metrics import confusion_matrix, classification_report\n",
        "\n",
        "print(classification_report(labels_lst, (preds_f>0.5)))"
      ]
    },
    {
      "cell_type": "code",
      "execution_count": null,
      "metadata": {
        "id": "B04OTcuSj6A2"
      },
      "outputs": [],
      "source": [
        "415 - sum(labels_lst)"
      ]
    },
    {
      "cell_type": "code",
      "execution_count": null,
      "metadata": {
        "id": "cygm0nPxqtWE"
      },
      "outputs": [],
      "source": [
        "os.getcwd()"
      ]
    },
    {
      "cell_type": "code",
      "execution_count": 66,
      "metadata": {
        "id": "bkAZ_PGhroWK"
      },
      "outputs": [],
      "source": [
        "model_result_save_path = '/content/drive/MyDrive/02718 Project/Model Outputs/ResNet'"
      ]
    },
    {
      "cell_type": "code",
      "execution_count": 67,
      "metadata": {
        "id": "IfO0Z0xbt8JL"
      },
      "outputs": [],
      "source": [
        "import datetime"
      ]
    },
    {
      "cell_type": "code",
      "execution_count": 68,
      "metadata": {
        "colab": {
          "base_uri": "https://localhost:8080/"
        },
        "id": "fIFpoIVNt9qw",
        "outputId": "d317673a-c820-4693-c6cd-19bf9854a3a0"
      },
      "outputs": [
        {
          "output_type": "execute_result",
          "data": {
            "text/plain": [
              "949687"
            ]
          },
          "metadata": {},
          "execution_count": 68
        }
      ],
      "source": [
        "datetime.datetime.today().microsecond"
      ]
    },
    {
      "cell_type": "code",
      "execution_count": null,
      "metadata": {
        "id": "kgyu8Pgyplv6"
      },
      "outputs": [],
      "source": [
        "import datetime \n",
        "np.save(model_result_save_path + '_preds_' + str(datetime.datetime.today().microsecond) , preds)\n"
      ]
    },
    {
      "cell_type": "code",
      "execution_count": null,
      "metadata": {
        "id": "8kMN5XbsG9Gd"
      },
      "outputs": [],
      "source": [
        "# # prediction\n",
        "\n",
        "# tta_true_labels = []\n",
        "# tta_preds = []\n",
        "\n",
        "\n",
        "# preds_f = np.zeros(len(test_y))\n",
        "# for fold in range(5):\n",
        "#     image_ids = []\n",
        "    \n",
        "#     preds = []\n",
        "\n",
        "#     with torch.no_grad():\n",
        "#         for  step, batch in enumerate(test_loader):\n",
        "#             model.eval()\n",
        "#             images, labels, paths = batch\n",
        "\n",
        "#             images = images.cuda()\n",
        "\n",
        "#             outputs = model(images)\n",
        "#             preds.append(outputs.sigmoid().detach().cpu().numpy())\n",
        "#             image_ids.append(paths)\n",
        "    \n",
        "\n",
        "#     preds_f += np.vstack(preds).T[0]/5\n",
        "\n",
        "#     # ids_f = np.hstack(image_ids)"
      ]
    },
    {
      "cell_type": "code",
      "execution_count": null,
      "metadata": {
        "id": "aySyUUv_8jAp"
      },
      "outputs": [],
      "source": []
    },
    {
      "cell_type": "markdown",
      "metadata": {
        "id": "uLPUoqToABUv"
      },
      "source": [
        "# Train test split"
      ]
    },
    {
      "cell_type": "code",
      "execution_count": 69,
      "metadata": {
        "colab": {
          "base_uri": "https://localhost:8080/"
        },
        "id": "KPQP-jrhADKa",
        "outputId": "b369562f-2e2a-4dbb-e5f9-4491acc5767e"
      },
      "outputs": [
        {
          "output_type": "stream",
          "name": "stdout",
          "text": [
            "Training count: 332, Validation count: 41, Test count: 41\n"
          ]
        }
      ],
      "source": [
        "train_inds, val_inds, test_inds = partition_dataset_classes(np.arange(len(image_files_list)),\n",
        "                                                            image_class,(8, 1, 1), shuffle=True)\n",
        "\n",
        "train_x = [image_files_list[i] for i in train_inds]\n",
        "train_y = [image_class[i] for i in train_inds]\n",
        "val_x = [image_files_list[i] for i in val_inds]\n",
        "val_y = [image_class[i] for i in val_inds]\n",
        "test_x = [image_files_list[i] for i in test_inds]\n",
        "test_y = [image_class[i] for i in test_inds]\n",
        "\n",
        "print(f\"Training count: {len(train_x)}, Validation count: {len(val_x)}, Test count: {len(test_x)}\")"
      ]
    },
    {
      "cell_type": "markdown",
      "source": [
        "## weigthrandomsampler"
      ],
      "metadata": {
        "id": "Bo_DGmGPk_9o"
      }
    },
    {
      "cell_type": "code",
      "source": [
        "import math\n",
        "\n",
        "num_ones = sum(train_y)\n",
        "num_zeros = len(train_y) - num_ones\n",
        "weight_pos = 1/math.sqrt(num_ones/len(train_y))\n",
        "weight_neg = 1/math.sqrt(num_zeros/len(train_y))\n",
        "weight_list = []\n",
        "for num in train_y:\n",
        "  if num==1:\n",
        "    weight_list.append(weight_pos)\n",
        "  else:\n",
        "    weight_list.append(weight_neg)"
      ],
      "metadata": {
        "id": "YMAOXMBGAXqe"
      },
      "execution_count": 70,
      "outputs": []
    },
    {
      "cell_type": "code",
      "source": [
        "from torch.utils.data import WeightedRandomSampler\n",
        "# from transformers import AutoModelForSequenceClassification\n",
        "# from torch.optim import AdamW\n",
        "# from torch.optim.lr_scheduler import CosineAnnealingWarmRestarts\n",
        "# from sklearn.metrics import f1_score\n",
        "# model = None\n",
        "# for outer_epoch in range(0,5):\n",
        "#   max_val_f1_score = 0\n",
        "#   device = torch.device('cuda') if torch.cuda.is_available() else torch.device('cpu')\n",
        "sampler = WeightedRandomSampler(weight_list, len(weight_list))"
      ],
      "metadata": {
        "id": "J1_RzS2iAPpF"
      },
      "execution_count": 71,
      "outputs": []
    },
    {
      "cell_type": "markdown",
      "metadata": {
        "id": "HjJVScyF8kAL"
      },
      "source": [
        "# Finetune with UCSF"
      ]
    },
    {
      "cell_type": "markdown",
      "metadata": {
        "id": "jDoUCG50ojUj"
      },
      "source": [
        "## Dataset and Data Loader"
      ]
    },
    {
      "cell_type": "code",
      "execution_count": 72,
      "metadata": {
        "id": "OD-8jblkoRaZ"
      },
      "outputs": [],
      "source": [
        "train_ds = UCSFPDGMDataset(data_dir, train_x, train_y, test_transforms_3)\n",
        "# train_loader = DataLoader(train_ds, num_workers=num_workers, sampler = sampler) # added sampler\n",
        "train_loader = DataLoader(train_ds, num_workers=num_workers, shuffle = True)\n",
        "\n",
        "val_ds = UCSFPDGMDataset(data_dir, val_x, val_y, test_transforms_3)\n",
        "val_loader = DataLoader(val_ds, num_workers=num_workers)\n",
        "\n",
        "test_ds = UCSFPDGMDataset(data_dir, test_x, test_y, test_transforms_3)\n",
        "test_loader = DataLoader(test_ds, num_workers=num_workers)"
      ]
    },
    {
      "cell_type": "markdown",
      "metadata": {
        "id": "one1HDF1orpz"
      },
      "source": [
        "## Model"
      ]
    },
    {
      "cell_type": "markdown",
      "metadata": {
        "id": "Jk0c1829o3Be"
      },
      "source": [
        "### Config\n"
      ]
    },
    {
      "cell_type": "code",
      "execution_count": 73,
      "metadata": {
        "id": "kz8BeJA0o1nZ"
      },
      "outputs": [],
      "source": [
        "config = {\n",
        "    'NUM_IMAGES_3D': 64,\n",
        "    'TRAINING_BATCH_SIZE': 1,\n",
        "    'TEST_BATCH_SIZE': 1, \n",
        "    'IMAGE_SIZE': 256,\n",
        "    'N_EPOCHS': 15,\n",
        "    'do_valid': True,\n",
        "    'n_workers': 0,\n",
        "    'lr': 5e-6\n",
        "}"
      ]
    },
    {
      "cell_type": "code",
      "execution_count": 74,
      "metadata": {
        "id": "60-8p_S2GVqn"
      },
      "outputs": [],
      "source": [
        "from sklearn.metrics import roc_auc_score"
      ]
    },
    {
      "cell_type": "code",
      "source": [
        "# learning_rate = 1e-5\n",
        "device = torch.device(\"cuda:0\" if torch.cuda.is_available() else \"cpu\")"
      ],
      "metadata": {
        "id": "F01Od_oGxxnP"
      },
      "execution_count": 75,
      "outputs": []
    },
    {
      "cell_type": "code",
      "source": [
        "MODELPATH = '/content/drive/MyDrive/02718 Project/Model Weights/'"
      ],
      "metadata": {
        "id": "NJJZMX6bxw6C"
      },
      "execution_count": 76,
      "outputs": []
    },
    {
      "cell_type": "code",
      "source": [
        "model_result_save_path = '/content/drive/MyDrive/02718 Project/Model Outputs/ResNet'"
      ],
      "metadata": {
        "id": "tUyeDfEhxYTk"
      },
      "execution_count": 77,
      "outputs": []
    },
    {
      "cell_type": "code",
      "source": [
        "weight_list = ['3d-resnet10_T1wCE_fold2_0.538.pth',\n",
        " '3d-resnet10_T1wCE_fold0_0.565.pth',\n",
        " '3d-resnet10_T1wCE_fold4_0.551.pth',\n",
        " '3d-resnet10_T1wCE_fold1_0.573.pth',\n",
        " '3d-resnet10_T1wCE_fold3_0.664.pth']"
      ],
      "metadata": {
        "id": "QYRWJObhxnwz"
      },
      "execution_count": 78,
      "outputs": []
    },
    {
      "cell_type": "code",
      "execution_count": 79,
      "metadata": {
        "colab": {
          "base_uri": "https://localhost:8080/"
        },
        "id": "S0DS9D2srWLb",
        "outputId": "3840ee4b-3c84-447b-8499-d3de623f2e9a"
      },
      "outputs": [
        {
          "output_type": "stream",
          "name": "stdout",
          "text": [
            "Adjusting learning rate of group 0 to 5.0000e-06.\n"
          ]
        }
      ],
      "source": [
        "model = monai.networks.nets.resnet10(spatial_dims=3, n_input_channels=1, num_classes=1)\n",
        "model.load_state_dict(torch.load(MODELPATH + weight_list[3]), strict=True)\n",
        "optimizer = torch.optim.Adam(model.parameters(), lr=config['lr'])\n",
        "\n",
        "scheduler = torch.optim.lr_scheduler.MultiStepLR(optimizer, milestones=[10], gamma=0.5, last_epoch=-1, verbose=True)\n"
      ]
    },
    {
      "cell_type": "code",
      "execution_count": 80,
      "metadata": {
        "colab": {
          "base_uri": "https://localhost:8080/",
          "height": 35
        },
        "id": "LBeJcq-FHPsd",
        "outputId": "0138a62d-1854-41b5-9fd2-a192547ea152"
      },
      "outputs": [
        {
          "output_type": "execute_result",
          "data": {
            "text/plain": [
              "'/content'"
            ],
            "application/vnd.google.colaboratory.intrinsic+json": {
              "type": "string"
            }
          },
          "metadata": {},
          "execution_count": 80
        }
      ],
      "source": [
        "os.getcwd()"
      ]
    },
    {
      "cell_type": "code",
      "execution_count": null,
      "metadata": {
        "colab": {
          "base_uri": "https://localhost:8080/"
        },
        "id": "s4b-w1APYFRg",
        "outputId": "61117299-f25d-4117-a134-94b1a07daecb"
      },
      "outputs": [
        {
          "output_type": "stream",
          "name": "stderr",
          "text": []
        },
        {
          "output_type": "stream",
          "name": "stdout",
          "text": [
            "Adjusting learning rate of group 0 to 5.0000e-06.\n"
          ]
        },
        {
          "output_type": "stream",
          "name": "stderr",
          "text": []
        },
        {
          "output_type": "stream",
          "name": "stdout",
          "text": [
            "EPOCH 0/15: Validation average loss: 0.5792614337874622 + AUC SCORE = 0.49999999999999994 + AUC SCORE THRESH 0.7551020408163265 = 0.55\n",
            "Saving the model...\n"
          ]
        },
        {
          "output_type": "stream",
          "name": "stderr",
          "text": []
        },
        {
          "output_type": "stream",
          "name": "stdout",
          "text": [
            "Adjusting learning rate of group 0 to 5.0000e-06.\n"
          ]
        },
        {
          "output_type": "stream",
          "name": "stderr",
          "text": []
        },
        {
          "output_type": "stream",
          "name": "stdout",
          "text": [
            "EPOCH 1/15: Validation average loss: 0.5768114782688094 + AUC SCORE = 0.4939393939393939 + AUC SCORE THRESH 0.7142857142857142 = 0.5575757575757576\n"
          ]
        },
        {
          "output_type": "stream",
          "name": "stderr",
          "text": []
        },
        {
          "output_type": "stream",
          "name": "stdout",
          "text": [
            "Adjusting learning rate of group 0 to 5.0000e-06.\n"
          ]
        },
        {
          "output_type": "stream",
          "name": "stderr",
          "text": []
        },
        {
          "output_type": "stream",
          "name": "stdout",
          "text": [
            "EPOCH 2/15: Validation average loss: 0.5764769061309535 + AUC SCORE = 0.5060606060606061 + AUC SCORE THRESH 0.7959183673469387 = 0.55\n",
            "Saving the model...\n"
          ]
        },
        {
          "output_type": "stream",
          "name": "stderr",
          "text": []
        },
        {
          "output_type": "stream",
          "name": "stdout",
          "text": [
            "Adjusting learning rate of group 0 to 5.0000e-06.\n"
          ]
        },
        {
          "output_type": "stream",
          "name": "stderr",
          "text": []
        },
        {
          "output_type": "stream",
          "name": "stdout",
          "text": [
            "EPOCH 3/15: Validation average loss: 0.5753971592682164 + AUC SCORE = 0.5151515151515151 + AUC SCORE THRESH 0.7755102040816326 = 0.55\n",
            "Saving the model...\n"
          ]
        },
        {
          "output_type": "stream",
          "name": "stderr",
          "text": []
        },
        {
          "output_type": "stream",
          "name": "stdout",
          "text": [
            "Adjusting learning rate of group 0 to 5.0000e-06.\n"
          ]
        },
        {
          "output_type": "stream",
          "name": "stderr",
          "text": []
        },
        {
          "output_type": "stream",
          "name": "stdout",
          "text": [
            "EPOCH 4/15: Validation average loss: 0.5755484921903145 + AUC SCORE = 0.5363636363636364 + AUC SCORE THRESH 0.7346938775510203 = 0.5666666666666667\n",
            "Saving the model...\n"
          ]
        },
        {
          "output_type": "stream",
          "name": "stderr",
          "text": []
        },
        {
          "output_type": "stream",
          "name": "stdout",
          "text": [
            "Adjusting learning rate of group 0 to 5.0000e-06.\n"
          ]
        },
        {
          "output_type": "stream",
          "name": "stderr",
          "text": []
        },
        {
          "output_type": "stream",
          "name": "stdout",
          "text": [
            "EPOCH 5/15: Validation average loss: 0.5762362331151962 + AUC SCORE = 0.4939393939393939 + AUC SCORE THRESH 0.7551020408163265 = 0.559090909090909\n"
          ]
        },
        {
          "output_type": "stream",
          "name": "stderr",
          "text": [
            "Train:   8%|▊         | 28/332 [00:46<08:19,  1.64s/it, batch_loss=1.35, loss=0.585]"
          ]
        }
      ],
      "source": [
        "\n",
        "model.zero_grad()\n",
        "model.to(device)\n",
        "best_loss = 9999\n",
        "best_auc = 0\n",
        "criterion = torch.nn.BCEWithLogitsLoss()\n",
        "\n",
        "for epoch in range(config['N_EPOCHS']):\n",
        "    batch_bar = tqdm(total=len(train_loader), dynamic_ncols=True, leave=False, position=0, desc='Train') \n",
        "    tr_loss = 0.0\n",
        "    for step, batch in enumerate(train_loader):\n",
        "        model.train()\n",
        "        images, targets, paths = batch\n",
        "        images, targets = images.to(device), targets.to(device)\n",
        "\n",
        "        outputs = model(images)\n",
        "        # targets = targets  # .view(-1, 1)\n",
        "        loss = criterion(outputs.squeeze(1), targets.float()) # output \n",
        "\n",
        "        loss.backward()\n",
        "        optimizer.step()\n",
        "        model.zero_grad()\n",
        "        optimizer.zero_grad()\n",
        "\n",
        "        tr_loss += loss.item()\n",
        "        batch_bar.set_postfix(\n",
        "            batch_loss=(loss.item()), loss=(tr_loss / (step + 1))\n",
        "        )\n",
        "\n",
        "        batch_bar.update()\n",
        "    scheduler.step()  # Update learning rate schedule\n",
        "\n",
        "    \n",
        "    batch_bar.close()\n",
        "\n",
        "    if config['do_valid']:\n",
        "        with torch.no_grad():\n",
        "            val_loss = 0.0\n",
        "            preds = []\n",
        "            true_labels = []\n",
        "            case_ids = []\n",
        "            image_ids = []\n",
        "            batch_bar_2 = tqdm(total=len(val_loader), dynamic_ncols=True, leave=False, position=0, desc='val') \n",
        "\n",
        "            for step, batch in enumerate(val_loader):\n",
        "                model.eval()\n",
        "                images, targets, paths = batch\n",
        "                images, targets = images.to(device), targets.to(device)\n",
        "\n",
        "                outputs = model(images)\n",
        "                # targets = targets  # .view(-1, 1)\n",
        "                loss = criterion(outputs.squeeze(1), targets.float())\n",
        "\n",
        "                val_loss += loss.item()\n",
        "\n",
        "                batch_bar_2.set_postfix(\n",
        "                    batch_loss=(loss.item()), val_loss=(val_loss / (step + 1))\n",
        "                )\n",
        "                preds.append(outputs.sigmoid().detach().cpu().numpy())\n",
        "                true_labels.append(targets.cpu().numpy())\n",
        "                image_ids.append(paths)\n",
        "\n",
        "                batch_bar_2.update()\n",
        "\n",
        "        batch_bar_2.close()\n",
        "\n",
        "        preds = np.vstack(preds).T[0].tolist()\n",
        "        true_labels = np.hstack(true_labels).tolist()\n",
        "        image_ids = np.hstack(image_ids).tolist()\n",
        "        auc_score = roc_auc_score(true_labels, preds)\n",
        "        auc_score_adj_best = 0\n",
        "\n",
        "        for thresh in np.linspace(0, 1, 50):\n",
        "            auc_score_adj = roc_auc_score(true_labels, list(np.array(preds) > thresh))\n",
        "            if auc_score_adj > auc_score_adj_best:\n",
        "                best_thresh = thresh\n",
        "                auc_score_adj_best = auc_score_adj\n",
        "\n",
        "        print(\n",
        "            f\"EPOCH {epoch}/{config['N_EPOCHS']}: Validation average loss: {val_loss/(step+1)} + AUC SCORE = {auc_score} + AUC SCORE THRESH {best_thresh} = {auc_score_adj_best}\"\n",
        "        )\n",
        "\n",
        "        if auc_score > best_auc:\n",
        "            print(\"Saving the model...\")\n",
        "\n",
        "            # all_files = os.listdir(\"./weights/\")\n",
        "\n",
        "            # for f in all_files:\n",
        "            #     if f\"{args.model_name}_{args.type}_fold{args.fold}\" in f:\n",
        "            #         os.remove(f\"./weights/{f}\")\n",
        "\n",
        "            best_auc = auc_score\n",
        "            torch.save({\n",
        "                'epoch': epoch,\n",
        "                 'model_state_dict': model.state_dict(),\n",
        "                 'optimizer_state_dict': optimizer.state_dict(),\n",
        "                 'loss': loss,\n",
        "            }, model_result_save_path + f\"/3d-resnet10_t1c_fold_wrs_{round(best_auc,3)}.pth\") # change the path\n",
        "\n",
        "print(best_auc)"
      ]
    },
    {
      "cell_type": "markdown",
      "metadata": {
        "id": "Ei_NtQjwrRHU"
      },
      "source": [
        "## Inference"
      ]
    },
    {
      "cell_type": "code",
      "source": [
        "image_ids = []\n",
        "labels_lst = []\n",
        "preds = []\n",
        "# model.load_state_dict(torch.load('/content/drive/MyDrive/02718 Project/Model Outputs/ResNet/3d-resnet10_t1c_fold_wrs_0.591.pth')['model_state_dict'], strict=True)\n",
        "with torch.no_grad():\n",
        "        for  step, batch in enumerate(test_loader):\n",
        "            model.eval()\n",
        "            images, labels, paths = batch\n",
        "\n",
        "            images = images.cuda()\n",
        "            # change the weight \n",
        "            \n",
        "\n",
        "            outputs = model(images)\n",
        "            preds.append(outputs.sigmoid().detach().cpu().item())\n",
        "            labels_lst.append(labels.detach().cpu().item())\n",
        "            image_ids.append(paths)"
      ],
      "metadata": {
        "id": "G_eVZ3GD5j8y"
      },
      "execution_count": null,
      "outputs": []
    },
    {
      "cell_type": "code",
      "source": [
        "preds[0]"
      ],
      "metadata": {
        "id": "bMH07evM6hhL"
      },
      "execution_count": null,
      "outputs": []
    },
    {
      "cell_type": "code",
      "source": [
        "roc_auc_score(labels_lst, preds)"
      ],
      "metadata": {
        "id": "fDW-8BZ26UBc"
      },
      "execution_count": null,
      "outputs": []
    },
    {
      "cell_type": "code",
      "execution_count": null,
      "metadata": {
        "id": "icPOyPWCrPtB"
      },
      "outputs": [],
      "source": [
        "# prediction\n",
        "\n",
        "tta_true_labels = []\n",
        "tta_preds = []\n",
        "\n",
        "\n",
        "preds_f = np.zeros(len(test_y))\n",
        "for fold in range(5):\n",
        "    image_ids = []\n",
        "    labels_lst = []\n",
        "    preds = []\n",
        "\n",
        "    with torch.no_grad():\n",
        "        for  step, batch in enumerate(test_loader):\n",
        "            model.eval()\n",
        "            images, labels, paths = batch\n",
        "\n",
        "            images = images.cuda()\n",
        "            # change the weight \n",
        "            model.load_state_dict(torch.load(MODELPATH + weight_list[fold]), strict=True)\n",
        "\n",
        "            outputs = model(images)\n",
        "            preds.append(outputs.sigmoid().detach().cpu().numpy())\n",
        "            labels_lst.append(labels.detach().cpu().item())\n",
        "            image_ids.append(paths)\n",
        "    \n",
        "\n",
        "    preds_f += np.vstack(preds).T[0]/5\n",
        "\n",
        "    # ids_f = np.hstack(image_ids)"
      ]
    },
    {
      "cell_type": "code",
      "source": [],
      "metadata": {
        "id": "dkDrooHAh76L"
      },
      "execution_count": null,
      "outputs": []
    },
    {
      "cell_type": "code",
      "source": [],
      "metadata": {
        "id": "WHnap9-l5QNI"
      },
      "execution_count": null,
      "outputs": []
    },
    {
      "cell_type": "code",
      "execution_count": null,
      "metadata": {
        "id": "nq4GDsB5QD_a"
      },
      "outputs": [],
      "source": [
        "preds_f"
      ]
    },
    {
      "cell_type": "code",
      "execution_count": null,
      "metadata": {
        "id": "7Ew5Bw1jQIpF"
      },
      "outputs": [],
      "source": [
        "labels_lst"
      ]
    },
    {
      "cell_type": "code",
      "execution_count": null,
      "metadata": {
        "id": "LRroJNEIXbUv"
      },
      "outputs": [],
      "source": [
        "# # training \n",
        "# epoch_num = 4\n",
        "# best_metric = -1\n",
        "# best_metric_epoch = -1\n",
        "# epoch_loss_values = list()\n",
        "# metric_values = list()\n",
        "# auc_metric = ROCAUCMetric()\n",
        "\n",
        "# for epoch in range(epoch_num):\n",
        "#     print(\"-\" * 10)\n",
        "#     print(f\"epoch {epoch + 1}/{epoch_num}\")\n",
        "\n",
        "#     epoch_loss = 0\n",
        "#     step = 1\n",
        "\n",
        "#     steps_per_epoch = len(train_ds) // train_loader.batch_size\n",
        "\n",
        "#     # put the network in train mode; this tells the network and its modules to\n",
        "#     # enable training elements such as normalisation and dropout, where applicable\n",
        "#     net.train()\n",
        "#     for batch_data in train_loader:\n",
        "\n",
        "#         # move the data to the GPU\n",
        "#         inputs, labels = batch_data[0].to(device), batch_data[1].to(device)\n",
        "\n",
        "#         # prepare the gradients for this step's back propagation\n",
        "#         optimizer.zero_grad()\n",
        "        \n",
        "#         # run the network forwards\n",
        "#         outputs = net(inputs)\n",
        "        \n",
        "#         # run the loss function on the outputs\n",
        "#         loss = loss_function(outputs, labels)\n",
        "        \n",
        "#         # compute the gradients\n",
        "#         loss.backward()\n",
        "        \n",
        "#         # tell the optimizer to update the weights according to the gradients\n",
        "#         # and its internal optimisation strategy\n",
        "#         optimizer.step()\n",
        "\n",
        "#         epoch_loss += loss.item()\n",
        "#         print(f\"{step}/{len(train_ds) // train_loader.batch_size + 1}, training_loss: {loss.item():.4f}\")\n",
        "#         step += 1\n",
        "\n",
        "#     epoch_loss /= step\n",
        "#     epoch_loss_values.append(epoch_loss)\n",
        "#     print(f\"epoch {epoch + 1} average loss: {epoch_loss:.4f}\")\n",
        "\n",
        "#     # after each epoch, run our metrics to evaluate it, and, if they are an improvement,\n",
        "#     # save the model out\n",
        "    \n",
        "#     # switch off training features of the network for this pass\n",
        "#     net.eval()\n",
        "\n",
        "#     # 'with torch.no_grad()' switches off gradient calculation for the scope of its context\n",
        "#     with torch.no_grad():\n",
        "#         # create lists to which we will concatenate the the validation results\n",
        "#         preds = list()\n",
        "#         labels = list()\n",
        "\n",
        "#         # iterate over each batch of images and run them through the network in evaluation mode\n",
        "#         for val_data in val_loader:\n",
        "#             val_images, val_labels = val_data[0].to(device), val_data[1].to(device)\n",
        "\n",
        "#             # run the network\n",
        "#             val_pred = net(val_images)\n",
        "\n",
        "#             preds.append(val_pred)\n",
        "#             labels.append(val_labels)\n",
        "\n",
        "#         # concatenate the predicted labels with each other and the actual labels with each other\n",
        "#         y_pred = torch.cat(preds)\n",
        "#         y = torch.cat(labels)\n",
        "\n",
        "#         # we are using the area under the receiver operating characteristic (ROC) curve to determine\n",
        "#         # whether this epoch has improved the best performance of the network so far, in which case\n",
        "#         # we save the network in this state\n",
        "#         y_onehot = [to_onehot(i) for i in decollate_batch(y)]        \n",
        "#         y_pred_act = [act(i) for i in decollate_batch(y_pred)]\n",
        "        \n",
        "#         auc_metric(y_pred_act, y_onehot)\n",
        "#         auc_value = auc_metric.aggregate()\n",
        "#         auc_metric.reset()\n",
        "#         metric_values.append(auc_value)\n",
        "        \n",
        "#         acc_value = torch.eq(y_pred.argmax(dim=1), y)\n",
        "#         acc_metric = acc_value.sum().item() / len(acc_value)\n",
        "        \n",
        "#         if auc_value > best_metric:\n",
        "#             best_metric = auc_value\n",
        "#             best_metric_epoch = epoch + 1\n",
        "#             torch.save(net.state_dict(), os.path.join(roota_dir, \"best_metric_model.pth\"))\n",
        "#             print(\"saved new best metric network\")\n",
        "            \n",
        "#         print(\n",
        "#             f\"current epoch: {epoch + 1} current AUC: {auc_value:.4f} /\"\n",
        "#             f\" current accuracy: {acc_metric:.4f} best AUC: {best_metric:.4f} /\"\n",
        "#             f\" at epoch: {best_metric_epoch}\"\n",
        "#         )\n",
        "\n",
        "# print(f\"train completed, best_metric: {best_metric:.4f} at epoch: {best_metric_epoch}\")"
      ]
    },
    {
      "cell_type": "code",
      "execution_count": null,
      "metadata": {
        "id": "qckPBMAxQ1pf"
      },
      "outputs": [],
      "source": [
        "df = pd.DataFrame({'predicted': preds_f, 'labels': labels_lst})"
      ]
    },
    {
      "cell_type": "code",
      "execution_count": null,
      "metadata": {
        "id": "_bUexN7JRWgH"
      },
      "outputs": [],
      "source": [
        "df"
      ]
    },
    {
      "cell_type": "code",
      "execution_count": null,
      "metadata": {
        "id": "JcDnfE8PWVeI"
      },
      "outputs": [],
      "source": [
        "df.to_csv('df_pred.csv', index=False)"
      ]
    }
  ],
  "metadata": {
    "accelerator": "GPU",
    "colab": {
      "collapsed_sections": [
        "axuhM-wtC0No"
      ],
      "machine_shape": "hm",
      "provenance": []
    },
    "gpuClass": "standard",
    "kernelspec": {
      "display_name": "Python 3.9.7 ('base')",
      "language": "python",
      "name": "python3"
    },
    "language_info": {
      "name": "python",
      "version": "3.9.7"
    },
    "vscode": {
      "interpreter": {
        "hash": "ca9c90c9b299e3c35d28bc96236d8f2c0bd3d51256cb5ad616950692d4a1a879"
      }
    }
  },
  "nbformat": 4,
  "nbformat_minor": 0
}