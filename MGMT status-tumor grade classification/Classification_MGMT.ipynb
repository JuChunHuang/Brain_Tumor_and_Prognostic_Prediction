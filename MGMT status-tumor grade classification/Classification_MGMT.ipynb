{
 "cells": [
  {
   "cell_type": "code",
   "execution_count": 1,
   "metadata": {},
   "outputs": [],
   "source": [
    "import pandas as pd\n",
    "import numpy as np\n",
    "from sklearn.preprocessing import StandardScaler\n",
    "from imblearn.over_sampling import SMOTE\n",
    "from sklearn.model_selection import train_test_split\n",
    "from sklearn.model_selection import cross_val_score\n",
    "from sklearn.tree import DecisionTreeClassifier\n",
    "from sklearn.neighbors import KNeighborsClassifier\n",
    "from sklearn.ensemble import RandomForestClassifier, AdaBoostClassifier\n",
    "from sklearn.linear_model import LogisticRegression"
   ]
  },
  {
   "cell_type": "code",
   "execution_count": 2,
   "metadata": {},
   "outputs": [],
   "source": [
    "data = pd.read_csv('meta_tumor_data.csv', index_col=0)"
   ]
  },
  {
   "cell_type": "markdown",
   "metadata": {},
   "source": [
    "---\n",
    "### preprocessing\n",
    "- remove rows which MGMT status are indeterminate or nan\n",
    "- remove rows which 1p/19q are nan"
   ]
  },
  {
   "cell_type": "code",
   "execution_count": 3,
   "metadata": {},
   "outputs": [
    {
     "data": {
      "text/html": [
       "<div>\n",
       "<style scoped>\n",
       "    .dataframe tbody tr th:only-of-type {\n",
       "        vertical-align: middle;\n",
       "    }\n",
       "\n",
       "    .dataframe tbody tr th {\n",
       "        vertical-align: top;\n",
       "    }\n",
       "\n",
       "    .dataframe thead th {\n",
       "        text-align: right;\n",
       "    }\n",
       "</style>\n",
       "<table border=\"1\" class=\"dataframe\">\n",
       "  <thead>\n",
       "    <tr style=\"text-align: right;\">\n",
       "      <th></th>\n",
       "      <th>ID</th>\n",
       "      <th>Grade</th>\n",
       "      <th>Age at MRI</th>\n",
       "      <th>MGMT index</th>\n",
       "      <th>1-dead 0-alive</th>\n",
       "      <th>OS</th>\n",
       "      <th>Sex_F</th>\n",
       "      <th>grade_2</th>\n",
       "      <th>grade_3</th>\n",
       "      <th>grade_4</th>\n",
       "      <th>...</th>\n",
       "      <th>tumor_2</th>\n",
       "      <th>tumor_4</th>\n",
       "      <th>brain</th>\n",
       "      <th>right_percentage</th>\n",
       "      <th>front_percentage</th>\n",
       "      <th>up_percentage</th>\n",
       "      <th>tumor_1_percent</th>\n",
       "      <th>tumor_2_percent</th>\n",
       "      <th>tumor_4_percent</th>\n",
       "      <th>tumor_size</th>\n",
       "    </tr>\n",
       "  </thead>\n",
       "  <tbody>\n",
       "    <tr>\n",
       "      <th>0</th>\n",
       "      <td>UCSF-PDGM-004</td>\n",
       "      <td>4</td>\n",
       "      <td>66</td>\n",
       "      <td>0.0</td>\n",
       "      <td>1</td>\n",
       "      <td>1303.0</td>\n",
       "      <td>0</td>\n",
       "      <td>0</td>\n",
       "      <td>0</td>\n",
       "      <td>1</td>\n",
       "      <td>...</td>\n",
       "      <td>18654</td>\n",
       "      <td>15672</td>\n",
       "      <td>1432027</td>\n",
       "      <td>0.000000</td>\n",
       "      <td>0.000000</td>\n",
       "      <td>0.521935</td>\n",
       "      <td>0.005302</td>\n",
       "      <td>0.013026</td>\n",
       "      <td>0.010944</td>\n",
       "      <td>0.029272</td>\n",
       "    </tr>\n",
       "    <tr>\n",
       "      <th>3</th>\n",
       "      <td>UCSF-PDGM-008</td>\n",
       "      <td>4</td>\n",
       "      <td>70</td>\n",
       "      <td>0.0</td>\n",
       "      <td>1</td>\n",
       "      <td>185.0</td>\n",
       "      <td>0</td>\n",
       "      <td>0</td>\n",
       "      <td>0</td>\n",
       "      <td>1</td>\n",
       "      <td>...</td>\n",
       "      <td>83082</td>\n",
       "      <td>42573</td>\n",
       "      <td>1390174</td>\n",
       "      <td>0.999176</td>\n",
       "      <td>0.182699</td>\n",
       "      <td>0.667969</td>\n",
       "      <td>0.030900</td>\n",
       "      <td>0.059764</td>\n",
       "      <td>0.030624</td>\n",
       "      <td>0.121288</td>\n",
       "    </tr>\n",
       "    <tr>\n",
       "      <th>4</th>\n",
       "      <td>UCSF-PDGM-009</td>\n",
       "      <td>4</td>\n",
       "      <td>68</td>\n",
       "      <td>0.0</td>\n",
       "      <td>1</td>\n",
       "      <td>389.0</td>\n",
       "      <td>1</td>\n",
       "      <td>0</td>\n",
       "      <td>0</td>\n",
       "      <td>1</td>\n",
       "      <td>...</td>\n",
       "      <td>98689</td>\n",
       "      <td>15417</td>\n",
       "      <td>1393310</td>\n",
       "      <td>0.001574</td>\n",
       "      <td>0.852107</td>\n",
       "      <td>0.880543</td>\n",
       "      <td>0.003817</td>\n",
       "      <td>0.070831</td>\n",
       "      <td>0.011065</td>\n",
       "      <td>0.085712</td>\n",
       "    </tr>\n",
       "  </tbody>\n",
       "</table>\n",
       "<p>3 rows × 42 columns</p>\n",
       "</div>"
      ],
      "text/plain": [
       "              ID  Grade  Age at MRI  MGMT index  1-dead 0-alive      OS  \\\n",
       "0  UCSF-PDGM-004      4          66         0.0               1  1303.0   \n",
       "3  UCSF-PDGM-008      4          70         0.0               1   185.0   \n",
       "4  UCSF-PDGM-009      4          68         0.0               1   389.0   \n",
       "\n",
       "   Sex_F  grade_2  grade_3  grade_4  ...  tumor_2  tumor_4    brain  \\\n",
       "0      0        0        0        1  ...    18654    15672  1432027   \n",
       "3      0        0        0        1  ...    83082    42573  1390174   \n",
       "4      1        0        0        1  ...    98689    15417  1393310   \n",
       "\n",
       "   right_percentage  front_percentage  up_percentage  tumor_1_percent  \\\n",
       "0          0.000000          0.000000       0.521935         0.005302   \n",
       "3          0.999176          0.182699       0.667969         0.030900   \n",
       "4          0.001574          0.852107       0.880543         0.003817   \n",
       "\n",
       "   tumor_2_percent  tumor_4_percent  tumor_size  \n",
       "0         0.013026         0.010944    0.029272  \n",
       "3         0.059764         0.030624    0.121288  \n",
       "4         0.070831         0.011065    0.085712  \n",
       "\n",
       "[3 rows x 42 columns]"
      ]
     },
     "execution_count": 3,
     "metadata": {},
     "output_type": "execute_result"
    }
   ],
   "source": [
    "df = data[data['MGMT status_indeterminate'] == 0]\n",
    "df = df[df['MGMT status_nan'] == 0]\n",
    "df = df[df['1p/19q_nan'] == 1]\n",
    "\n",
    "df.head(3)"
   ]
  },
  {
   "cell_type": "code",
   "execution_count": 4,
   "metadata": {},
   "outputs": [
    {
     "data": {
      "text/html": [
       "<div>\n",
       "<style scoped>\n",
       "    .dataframe tbody tr th:only-of-type {\n",
       "        vertical-align: middle;\n",
       "    }\n",
       "\n",
       "    .dataframe tbody tr th {\n",
       "        vertical-align: top;\n",
       "    }\n",
       "\n",
       "    .dataframe thead th {\n",
       "        text-align: right;\n",
       "    }\n",
       "</style>\n",
       "<table border=\"1\" class=\"dataframe\">\n",
       "  <thead>\n",
       "    <tr style=\"text-align: right;\">\n",
       "      <th></th>\n",
       "      <th>ID</th>\n",
       "      <th>Grade</th>\n",
       "      <th>Age at MRI</th>\n",
       "      <th>MGMT index</th>\n",
       "      <th>1-dead 0-alive</th>\n",
       "      <th>OS</th>\n",
       "      <th>Sex_F</th>\n",
       "      <th>grade_2</th>\n",
       "      <th>grade_3</th>\n",
       "      <th>grade_4</th>\n",
       "      <th>...</th>\n",
       "      <th>tumor_4</th>\n",
       "      <th>brain</th>\n",
       "      <th>right_percentage</th>\n",
       "      <th>front_percentage</th>\n",
       "      <th>up_percentage</th>\n",
       "      <th>tumor_1_percent</th>\n",
       "      <th>tumor_2_percent</th>\n",
       "      <th>tumor_4_percent</th>\n",
       "      <th>tumor_size</th>\n",
       "      <th>age</th>\n",
       "    </tr>\n",
       "  </thead>\n",
       "  <tbody>\n",
       "    <tr>\n",
       "      <th>0</th>\n",
       "      <td>UCSF-PDGM-004</td>\n",
       "      <td>4</td>\n",
       "      <td>66</td>\n",
       "      <td>0.0</td>\n",
       "      <td>1</td>\n",
       "      <td>1303.0</td>\n",
       "      <td>0</td>\n",
       "      <td>0</td>\n",
       "      <td>0</td>\n",
       "      <td>1</td>\n",
       "      <td>...</td>\n",
       "      <td>15672</td>\n",
       "      <td>1432027</td>\n",
       "      <td>0.000000</td>\n",
       "      <td>0.000000</td>\n",
       "      <td>0.521935</td>\n",
       "      <td>0.005302</td>\n",
       "      <td>0.013026</td>\n",
       "      <td>0.010944</td>\n",
       "      <td>0.029272</td>\n",
       "      <td>0.417058</td>\n",
       "    </tr>\n",
       "    <tr>\n",
       "      <th>3</th>\n",
       "      <td>UCSF-PDGM-008</td>\n",
       "      <td>4</td>\n",
       "      <td>70</td>\n",
       "      <td>0.0</td>\n",
       "      <td>1</td>\n",
       "      <td>185.0</td>\n",
       "      <td>0</td>\n",
       "      <td>0</td>\n",
       "      <td>0</td>\n",
       "      <td>1</td>\n",
       "      <td>...</td>\n",
       "      <td>42573</td>\n",
       "      <td>1390174</td>\n",
       "      <td>0.999176</td>\n",
       "      <td>0.182699</td>\n",
       "      <td>0.667969</td>\n",
       "      <td>0.030900</td>\n",
       "      <td>0.059764</td>\n",
       "      <td>0.030624</td>\n",
       "      <td>0.121288</td>\n",
       "      <td>0.753049</td>\n",
       "    </tr>\n",
       "    <tr>\n",
       "      <th>4</th>\n",
       "      <td>UCSF-PDGM-009</td>\n",
       "      <td>4</td>\n",
       "      <td>68</td>\n",
       "      <td>0.0</td>\n",
       "      <td>1</td>\n",
       "      <td>389.0</td>\n",
       "      <td>1</td>\n",
       "      <td>0</td>\n",
       "      <td>0</td>\n",
       "      <td>1</td>\n",
       "      <td>...</td>\n",
       "      <td>15417</td>\n",
       "      <td>1393310</td>\n",
       "      <td>0.001574</td>\n",
       "      <td>0.852107</td>\n",
       "      <td>0.880543</td>\n",
       "      <td>0.003817</td>\n",
       "      <td>0.070831</td>\n",
       "      <td>0.011065</td>\n",
       "      <td>0.085712</td>\n",
       "      <td>0.585053</td>\n",
       "    </tr>\n",
       "  </tbody>\n",
       "</table>\n",
       "<p>3 rows × 43 columns</p>\n",
       "</div>"
      ],
      "text/plain": [
       "              ID  Grade  Age at MRI  MGMT index  1-dead 0-alive      OS  \\\n",
       "0  UCSF-PDGM-004      4          66         0.0               1  1303.0   \n",
       "3  UCSF-PDGM-008      4          70         0.0               1   185.0   \n",
       "4  UCSF-PDGM-009      4          68         0.0               1   389.0   \n",
       "\n",
       "   Sex_F  grade_2  grade_3  grade_4  ...  tumor_4    brain  right_percentage  \\\n",
       "0      0        0        0        1  ...    15672  1432027          0.000000   \n",
       "3      0        0        0        1  ...    42573  1390174          0.999176   \n",
       "4      1        0        0        1  ...    15417  1393310          0.001574   \n",
       "\n",
       "   front_percentage  up_percentage  tumor_1_percent  tumor_2_percent  \\\n",
       "0          0.000000       0.521935         0.005302         0.013026   \n",
       "3          0.182699       0.667969         0.030900         0.059764   \n",
       "4          0.852107       0.880543         0.003817         0.070831   \n",
       "\n",
       "   tumor_4_percent  tumor_size       age  \n",
       "0         0.010944    0.029272  0.417058  \n",
       "3         0.030624    0.121288  0.753049  \n",
       "4         0.011065    0.085712  0.585053  \n",
       "\n",
       "[3 rows x 43 columns]"
      ]
     },
     "execution_count": 4,
     "metadata": {},
     "output_type": "execute_result"
    }
   ],
   "source": [
    "age = np.array(df['Age at MRI']).reshape(-1,1)\n",
    "scaler = StandardScaler()\n",
    "standardized_age = scaler.fit_transform(age)\n",
    "df['age'] = standardized_age\n",
    "df.head(3)"
   ]
  },
  {
   "cell_type": "code",
   "execution_count": 5,
   "metadata": {},
   "outputs": [
    {
     "data": {
      "text/plain": [
       "Index(['ID', 'Grade', 'Age at MRI', 'MGMT index', '1-dead 0-alive', 'OS',\n",
       "       'Sex_F', 'grade_2', 'grade_3', 'grade_4',\n",
       "       'pathologic diagnosis_Astrocytoma', 'pathologic diagnosis_Glioblastoma',\n",
       "       'pathologic diagnosis_Oligodendroglioma', 'MGMT status_indeterminate',\n",
       "       'MGMT status_negative', 'MGMT status_positive', 'MGMT status_nan',\n",
       "       '1p/19q_co-deletion', '1p/19q_intact', '1p/19q_relative co-deletion',\n",
       "       '1p/19q_nan', 'IDH_IDH1 p.Arg132His', 'IDH_IDH1 p.R132C',\n",
       "       'IDH_IDH1 p.R132G', 'IDH_IDH1 p.R132H', 'IDH_IDH1 p.R132S',\n",
       "       'IDH_IDH2 p.Arg172Trp', 'IDH_IDH2 p.R172K', 'IDH_mutated (NOS)',\n",
       "       'IDH_wildtype', 'id', 'tumor_1', 'tumor_2', 'tumor_4', 'brain',\n",
       "       'right_percentage', 'front_percentage', 'up_percentage',\n",
       "       'tumor_1_percent', 'tumor_2_percent', 'tumor_4_percent', 'tumor_size',\n",
       "       'age'],\n",
       "      dtype='object')"
      ]
     },
     "execution_count": 5,
     "metadata": {},
     "output_type": "execute_result"
    }
   ],
   "source": [
    "df.columns"
   ]
  },
  {
   "cell_type": "code",
   "execution_count": 6,
   "metadata": {},
   "outputs": [],
   "source": [
    "X = df[['age', 'Sex_F', 'grade_3', 'grade_4',\n",
    "       'pathologic diagnosis_Astrocytoma', 'pathologic diagnosis_Glioblastoma',\n",
    "       '1p/19q_co-deletion', '1p/19q_relative co-deletion', 'IDH_IDH1 p.Arg132His', \n",
    "       'IDH_IDH1 p.R132C','IDH_IDH1 p.R132G', 'IDH_IDH1 p.R132H', 'IDH_IDH1 p.R132S',\n",
    "       'IDH_IDH2 p.Arg172Trp', 'IDH_IDH2 p.R172K', 'IDH_mutated (NOS)']]\n",
    "y = df['MGMT status_positive']\n",
    "\n",
    "# reference level: male, grade_2, 'pathologic diagnosis_Oligodendroglioma', IDH_wildtype, '1p/19q_intact'"
   ]
  },
  {
   "cell_type": "code",
   "execution_count": 7,
   "metadata": {},
   "outputs": [
    {
     "data": {
      "text/plain": [
       "Counter({0: 24, 1: 62})"
      ]
     },
     "execution_count": 7,
     "metadata": {},
     "output_type": "execute_result"
    }
   ],
   "source": [
    "from collections import Counter\n",
    "Counter(y)"
   ]
  },
  {
   "cell_type": "markdown",
   "metadata": {},
   "source": [
    "#### SMOTE for oversampling"
   ]
  },
  {
   "cell_type": "code",
   "execution_count": 8,
   "metadata": {},
   "outputs": [],
   "source": [
    "oversample = SMOTE(random_state=0)\n",
    "X, y = oversample.fit_resample(X,y)"
   ]
  },
  {
   "cell_type": "code",
   "execution_count": 9,
   "metadata": {},
   "outputs": [
    {
     "data": {
      "text/plain": [
       "Counter({0: 62, 1: 62})"
      ]
     },
     "execution_count": 9,
     "metadata": {},
     "output_type": "execute_result"
    }
   ],
   "source": [
    "Counter(y)"
   ]
  },
  {
   "cell_type": "code",
   "execution_count": 10,
   "metadata": {},
   "outputs": [],
   "source": [
    "X_train, X_test, y_train, y_test = train_test_split(X, y, test_size=0.2, random_state=569)"
   ]
  },
  {
   "cell_type": "markdown",
   "metadata": {},
   "source": [
    "---\n",
    "#### Logistic"
   ]
  },
  {
   "cell_type": "code",
   "execution_count": 11,
   "metadata": {},
   "outputs": [
    {
     "name": "stdout",
     "output_type": "stream",
     "text": [
      "Training score: 0.5959595959595959\n",
      "Testing score: 0.8\n"
     ]
    }
   ],
   "source": [
    "log = LogisticRegression(random_state=0)\n",
    "log.fit(X_train, y_train)\n",
    "print('Training score:',log.score(X_train, y_train))\n",
    "print('Testing score:', log.score(X_test, y_test))"
   ]
  },
  {
   "cell_type": "markdown",
   "metadata": {},
   "source": [
    "---\n",
    "#### KNN"
   ]
  },
  {
   "cell_type": "code",
   "execution_count": 12,
   "metadata": {},
   "outputs": [
    {
     "data": {
      "text/plain": [
       "2"
      ]
     },
     "execution_count": 12,
     "metadata": {},
     "output_type": "execute_result"
    }
   ],
   "source": [
    "neighbors = range(2,20,1)\n",
    "avg_score = []\n",
    "for n in neighbors:\n",
    "    knn = KNeighborsClassifier(n_neighbors=n)\n",
    "    score = cross_val_score(knn, X_train, y_train, cv=5)\n",
    "    avg_score.append(score.mean())\n",
    "\n",
    "max_index = np.argmax(avg_score)\n",
    "neighbors[max_index]"
   ]
  },
  {
   "cell_type": "code",
   "execution_count": 13,
   "metadata": {},
   "outputs": [
    {
     "name": "stdout",
     "output_type": "stream",
     "text": [
      "Training score: 0.8888888888888888\n",
      "Testing score: 0.64\n"
     ]
    }
   ],
   "source": [
    "knn = KNeighborsClassifier(n_neighbors=neighbors[max_index])\n",
    "knn.fit(X_train, y_train)\n",
    "print('Training score:',knn.score(X_train, y_train))\n",
    "print('Testing score:', knn.score(X_test, y_test))"
   ]
  },
  {
   "cell_type": "markdown",
   "metadata": {},
   "source": [
    "---\n",
    "#### Decision Tree"
   ]
  },
  {
   "cell_type": "code",
   "execution_count": 14,
   "metadata": {},
   "outputs": [
    {
     "data": {
      "text/plain": [
       "9"
      ]
     },
     "execution_count": 14,
     "metadata": {},
     "output_type": "execute_result"
    }
   ],
   "source": [
    "depth = range(1,21)\n",
    "avg_score = []\n",
    "for d in depth:\n",
    "    tree = DecisionTreeClassifier(max_depth = d, random_state=0)\n",
    "    score = cross_val_score(tree, X_train, y_train, cv=5)\n",
    "    avg_score.append(score.mean())\n",
    "\n",
    "max_index = np.argmax(avg_score)\n",
    "depth[max_index]"
   ]
  },
  {
   "cell_type": "code",
   "execution_count": 15,
   "metadata": {},
   "outputs": [
    {
     "name": "stdout",
     "output_type": "stream",
     "text": [
      "Training score: 0.8585858585858586\n",
      "Testing score: 0.48\n"
     ]
    }
   ],
   "source": [
    "tree = DecisionTreeClassifier(max_depth=depth[max_index], random_state=0)\n",
    "tree.fit(X_train, y_train)\n",
    "print('Training score:',tree.score(X_train, y_train))\n",
    "print('Testing score:', tree.score(X_test, y_test))"
   ]
  },
  {
   "cell_type": "code",
   "execution_count": 16,
   "metadata": {},
   "outputs": [
    {
     "data": {
      "image/png": "[encoded data removed]",
      "text/plain": [
       "<Figure size 432x288 with 1 Axes>"
      ]
     },
     "metadata": {
      "needs_background": "light"
     },
     "output_type": "display_data"
    }
   ],
   "source": [
    "tree_importance = tree.feature_importances_\n",
    "tree_importances = pd.Series(tree_importance, index=X.columns)\n",
    "\n",
    "from matplotlib import pyplot as plt\n",
    "fig, ax = plt.subplots()\n",
    "tree_importances.plot.barh(ax=ax)\n",
    "ax.set_title(\"Feature importances\")\n",
    "ax.set_ylabel(\"Mean decrease in impurity\")\n",
    "fig.tight_layout()"
   ]
  },
  {
   "cell_type": "markdown",
   "metadata": {},
   "source": [
    "---\n",
    "#### Random Forest"
   ]
  },
  {
   "cell_type": "code",
   "execution_count": 17,
   "metadata": {},
   "outputs": [],
   "source": [
    "estimators = range(10,200,10)\n",
    "avg_score = []\n",
    "for n in estimators:\n",
    "    rf = RandomForestClassifier(n_estimators = n, random_state=0)\n",
    "    score = cross_val_score(rf, X_train, y_train, cv=5)\n",
    "    avg_score.append(score.mean())\n",
    "\n",
    "max_index = np.argmax(avg_score)"
   ]
  },
  {
   "cell_type": "code",
   "execution_count": 18,
   "metadata": {},
   "outputs": [
    {
     "data": {
      "text/plain": [
       "40"
      ]
     },
     "execution_count": 18,
     "metadata": {},
     "output_type": "execute_result"
    }
   ],
   "source": [
    "estimators[max_index]"
   ]
  },
  {
   "cell_type": "code",
   "execution_count": 19,
   "metadata": {},
   "outputs": [
    {
     "name": "stdout",
     "output_type": "stream",
     "text": [
      "Training score: 0.9393939393939394\n",
      "Testing score: 0.48\n"
     ]
    }
   ],
   "source": [
    "rf = RandomForestClassifier(n_estimators=estimators[max_index], random_state=0)\n",
    "rf.fit(X_train, y_train)\n",
    "print('Training score:',rf.score(X_train, y_train))\n",
    "print('Testing score:', rf.score(X_test, y_test))"
   ]
  },
  {
   "cell_type": "code",
   "execution_count": 20,
   "metadata": {},
   "outputs": [
    {
     "data": {
      "image/png": "[encoded data removed]",
      "text/plain": [
       "<Figure size 432x288 with 1 Axes>"
      ]
     },
     "metadata": {
      "needs_background": "light"
     },
     "output_type": "display_data"
    }
   ],
   "source": [
    "forest_importance = rf.feature_importances_\n",
    "forest_importances = pd.Series(forest_importance, index=X.columns)\n",
    "\n",
    "fig, ax = plt.subplots()\n",
    "forest_importances.plot.barh(ax=ax)\n",
    "ax.set_title(\"Feature importances\")\n",
    "ax.set_ylabel(\"Mean decrease in impurity\")\n",
    "fig.tight_layout()"
   ]
  },
  {
   "cell_type": "markdown",
   "metadata": {},
   "source": [
    "---\n",
    "#### Adaboost"
   ]
  },
  {
   "cell_type": "code",
   "execution_count": 21,
   "metadata": {},
   "outputs": [],
   "source": [
    "estimators = range(10,100,10)\n",
    "avg_score = []\n",
    "for n in estimators:\n",
    "    ada = AdaBoostClassifier(n_estimators = n, random_state=0)\n",
    "    score = cross_val_score(ada, X_train, y_train, cv=5)\n",
    "    avg_score.append(score.mean())\n",
    "\n",
    "max_index = np.argmax(avg_score)"
   ]
  },
  {
   "cell_type": "code",
   "execution_count": 22,
   "metadata": {},
   "outputs": [
    {
     "name": "stdout",
     "output_type": "stream",
     "text": [
      "Training score: 0.8383838383838383\n",
      "Testing score: 0.48\n"
     ]
    }
   ],
   "source": [
    "ada = AdaBoostClassifier(n_estimators=estimators[max_index], random_state=0)\n",
    "ada.fit(X_train, y_train)\n",
    "print('Training score:',ada.score(X_train, y_train))\n",
    "print('Testing score:', ada.score(X_test, y_test))"
   ]
  },
  {
   "cell_type": "code",
   "execution_count": 23,
   "metadata": {},
   "outputs": [
    {
     "data": {
      "image/png": "[encoded data removed]",
      "text/plain": [
       "<Figure size 432x288 with 1 Axes>"
      ]
     },
     "metadata": {
      "needs_background": "light"
     },
     "output_type": "display_data"
    }
   ],
   "source": [
    "ada_importance = ada.feature_importances_\n",
    "ada_importances = pd.Series(ada_importance, index=X.columns)\n",
    "\n",
    "fig, ax = plt.subplots()\n",
    "ada_importances.plot.barh(ax=ax)\n",
    "ax.set_title(\"Feature importances\")\n",
    "ax.set_ylabel(\"Mean decrease in impurity\")\n",
    "fig.tight_layout()"
   ]
  },
  {
   "cell_type": "markdown",
   "metadata": {},
   "source": [
    "---\n",
    "## with tumor size and location data"
   ]
  },
  {
   "cell_type": "code",
   "execution_count": 24,
   "metadata": {},
   "outputs": [],
   "source": [
    "tumor_df = df[['right_percentage', 'front_percentage', 'up_percentage',\n",
    "       'tumor_1_percent', 'tumor_2_percent', 'tumor_4_percent', 'tumor_size']]\n",
    "scaler = StandardScaler()\n",
    "standardized_tumor = scaler.fit_transform(tumor_df)"
   ]
  },
  {
   "cell_type": "code",
   "execution_count": 25,
   "metadata": {},
   "outputs": [],
   "source": [
    "df['standardized_right_percentage'] = standardized_tumor[:,0]\n",
    "df['standardized_front_percentage'] = standardized_tumor[:,1]\n",
    "df['standardized_up_percentage'] = standardized_tumor[:,2]\n",
    "df['standardized_1_percentage'] = standardized_tumor[:,3]\n",
    "df['standardized_2_percentage'] = standardized_tumor[:,4]\n",
    "df['standardized_4_percentage'] = standardized_tumor[:,5]\n",
    "df['standardized_tumor_percentage'] = standardized_tumor[:,6]"
   ]
  },
  {
   "cell_type": "code",
   "execution_count": 26,
   "metadata": {},
   "outputs": [],
   "source": [
    "X = df[['age', 'Sex_F', 'grade_3', 'grade_4',\n",
    "       'pathologic diagnosis_Astrocytoma', 'pathologic diagnosis_Glioblastoma',\n",
    "       '1p/19q_co-deletion', '1p/19q_relative co-deletion', 'IDH_IDH1 p.Arg132His', \n",
    "       'IDH_IDH1 p.R132C','IDH_IDH1 p.R132G', 'IDH_IDH1 p.R132H', 'IDH_IDH1 p.R132S',\n",
    "       'IDH_IDH2 p.Arg172Trp', 'IDH_IDH2 p.R172K', 'IDH_mutated (NOS)',\n",
    "       'standardized_right_percentage', 'standardized_front_percentage','standardized_up_percentage', \n",
    "       'standardized_1_percentage', 'standardized_2_percentage', 'standardized_4_percentage', 'standardized_tumor_percentage']]\n",
    "y = df['MGMT status_positive']\n",
    "\n",
    "\n",
    "# reference level: male, grade_2, 'pathologic diagnosis_Oligodendroglioma', IDH_wildtype, '1p/19q_intact'"
   ]
  },
  {
   "cell_type": "markdown",
   "metadata": {},
   "source": [
    "---\n",
    "#### SMOTE for oversampling"
   ]
  },
  {
   "cell_type": "code",
   "execution_count": 27,
   "metadata": {},
   "outputs": [],
   "source": [
    "oversample = SMOTE(random_state=0)\n",
    "X, y = oversample.fit_resample(X,y)"
   ]
  },
  {
   "cell_type": "code",
   "execution_count": 28,
   "metadata": {},
   "outputs": [],
   "source": [
    "X_train, X_test, y_train, y_test = train_test_split(X, y, test_size=0.2, random_state=569)"
   ]
  },
  {
   "cell_type": "markdown",
   "metadata": {},
   "source": [
    "---\n",
    "#### logistic"
   ]
  },
  {
   "cell_type": "code",
   "execution_count": 29,
   "metadata": {},
   "outputs": [
    {
     "name": "stdout",
     "output_type": "stream",
     "text": [
      "Training score: 0.6868686868686869\n",
      "Testing score: 0.84\n"
     ]
    }
   ],
   "source": [
    "log = LogisticRegression(random_state=0)\n",
    "log.fit(X_train, y_train)\n",
    "print('Training score:',log.score(X_train, y_train))\n",
    "print('Testing score:', log.score(X_test, y_test))"
   ]
  },
  {
   "cell_type": "markdown",
   "metadata": {},
   "source": [
    "---\n",
    "#### KNN"
   ]
  },
  {
   "cell_type": "code",
   "execution_count": 30,
   "metadata": {},
   "outputs": [
    {
     "data": {
      "text/plain": [
       "3"
      ]
     },
     "execution_count": 30,
     "metadata": {},
     "output_type": "execute_result"
    }
   ],
   "source": [
    "neighbors = range(2,20,1)\n",
    "avg_score = []\n",
    "for n in neighbors:\n",
    "    knn = KNeighborsClassifier(n_neighbors=n)\n",
    "    score = cross_val_score(knn, X_train, y_train, cv=5)\n",
    "    avg_score.append(score.mean())\n",
    "\n",
    "max_index = np.argmax(avg_score)\n",
    "neighbors[max_index]"
   ]
  },
  {
   "cell_type": "code",
   "execution_count": 31,
   "metadata": {},
   "outputs": [
    {
     "name": "stdout",
     "output_type": "stream",
     "text": [
      "Training score: 0.8686868686868687\n",
      "Testing score: 0.76\n"
     ]
    }
   ],
   "source": [
    "knn = KNeighborsClassifier(n_neighbors=neighbors[max_index])\n",
    "knn.fit(X_train, y_train)\n",
    "print('Training score:',knn.score(X_train, y_train))\n",
    "print('Testing score:', knn.score(X_test, y_test))"
   ]
  },
  {
   "cell_type": "markdown",
   "metadata": {},
   "source": [
    "---\n",
    "#### Decision Tree"
   ]
  },
  {
   "cell_type": "code",
   "execution_count": 32,
   "metadata": {},
   "outputs": [
    {
     "data": {
      "text/plain": [
       "8"
      ]
     },
     "execution_count": 32,
     "metadata": {},
     "output_type": "execute_result"
    }
   ],
   "source": [
    "depth = range(1,21)\n",
    "avg_score = []\n",
    "for d in depth:\n",
    "    tree = DecisionTreeClassifier(max_depth = d, random_state=0)\n",
    "    score = cross_val_score(tree, X_train, y_train, cv=5)\n",
    "    avg_score.append(score.mean())\n",
    "\n",
    "max_index = np.argmax(avg_score)\n",
    "depth[max_index]"
   ]
  },
  {
   "cell_type": "code",
   "execution_count": 33,
   "metadata": {},
   "outputs": [
    {
     "name": "stdout",
     "output_type": "stream",
     "text": [
      "Training score: 0.9191919191919192\n",
      "Testing score: 0.52\n"
     ]
    }
   ],
   "source": [
    "tree = DecisionTreeClassifier(max_depth=depth[max_index], random_state=0)\n",
    "tree.fit(X_train, y_train)\n",
    "print('Training score:',tree.score(X_train, y_train))\n",
    "print('Testing score:', tree.score(X_test, y_test))"
   ]
  },
  {
   "cell_type": "code",
   "execution_count": 34,
   "metadata": {},
   "outputs": [
    {
     "data": {
      "image/png": "[encoded data removed]",
      "text/plain": [
       "<Figure size 432x288 with 1 Axes>"
      ]
     },
     "metadata": {
      "needs_background": "light"
     },
     "output_type": "display_data"
    }
   ],
   "source": [
    "tree_importance = tree.feature_importances_\n",
    "tree_importances = pd.Series(tree_importance, index=X.columns)\n",
    "\n",
    "from matplotlib import pyplot as plt\n",
    "fig, ax = plt.subplots()\n",
    "tree_importances.plot.barh(ax=ax)\n",
    "ax.set_title(\"Feature importances\")\n",
    "ax.set_ylabel(\"Mean decrease in impurity\")\n",
    "fig.tight_layout()"
   ]
  },
  {
   "cell_type": "markdown",
   "metadata": {},
   "source": [
    "with or without tumor data"
   ]
  },
  {
   "cell_type": "markdown",
   "metadata": {},
   "source": [
    "---\n",
    "#### Random Forest"
   ]
  },
  {
   "cell_type": "code",
   "execution_count": 35,
   "metadata": {},
   "outputs": [],
   "source": [
    "estimators = range(10,100,10)\n",
    "avg_score = []\n",
    "for n in estimators:\n",
    "    rf = RandomForestClassifier(n_estimators = n, random_state=0)\n",
    "    score = cross_val_score(rf, X_train, y_train, cv=5)\n",
    "    avg_score.append(score.mean())\n",
    "\n",
    "max_index = np.argmax(avg_score)"
   ]
  },
  {
   "cell_type": "code",
   "execution_count": 36,
   "metadata": {},
   "outputs": [
    {
     "data": {
      "text/plain": [
       "50"
      ]
     },
     "execution_count": 36,
     "metadata": {},
     "output_type": "execute_result"
    }
   ],
   "source": [
    "estimators[max_index]"
   ]
  },
  {
   "cell_type": "code",
   "execution_count": 37,
   "metadata": {},
   "outputs": [
    {
     "name": "stdout",
     "output_type": "stream",
     "text": [
      "Training score: 1.0\n",
      "Testing score: 0.8\n"
     ]
    }
   ],
   "source": [
    "rf = RandomForestClassifier(n_estimators=estimators[max_index], random_state=0)\n",
    "rf.fit(X_train, y_train)\n",
    "print('Training score:',rf.score(X_train, y_train))\n",
    "print('Testing score:', rf.score(X_test, y_test))"
   ]
  },
  {
   "cell_type": "code",
   "execution_count": 38,
   "metadata": {},
   "outputs": [
    {
     "data": {
      "image/png": "[encoded data removed]",
      "text/plain": [
       "<Figure size 432x288 with 1 Axes>"
      ]
     },
     "metadata": {
      "needs_background": "light"
     },
     "output_type": "display_data"
    }
   ],
   "source": [
    "forest_importance = rf.feature_importances_\n",
    "forest_importances = pd.Series(forest_importance, index=X.columns)\n",
    "\n",
    "fig, ax = plt.subplots()\n",
    "forest_importances.plot.barh(ax=ax)\n",
    "ax.set_title(\"Feature importances\")\n",
    "ax.set_ylabel(\"Mean decrease in impurity\")\n",
    "fig.tight_layout()"
   ]
  },
  {
   "cell_type": "markdown",
   "metadata": {},
   "source": [
    "---\n",
    "#### Adaboost"
   ]
  },
  {
   "cell_type": "code",
   "execution_count": 39,
   "metadata": {},
   "outputs": [],
   "source": [
    "estimators = range(10,100,10)\n",
    "avg_score = []\n",
    "for n in estimators:\n",
    "    ada = AdaBoostClassifier(n_estimators = n, random_state=0)\n",
    "    score = cross_val_score(ada, X_train, y_train, cv=5)\n",
    "    avg_score.append(score.mean())\n",
    "\n",
    "max_index = np.argmax(avg_score)"
   ]
  },
  {
   "cell_type": "code",
   "execution_count": 40,
   "metadata": {},
   "outputs": [
    {
     "name": "stdout",
     "output_type": "stream",
     "text": [
      "Training score: 1.0\n",
      "Testing score: 0.52\n"
     ]
    }
   ],
   "source": [
    "ada = AdaBoostClassifier(n_estimators=estimators[max_index], random_state=0)\n",
    "ada.fit(X_train, y_train)\n",
    "print('Training score:',ada.score(X_train, y_train))\n",
    "print('Testing score:', ada.score(X_test, y_test))"
   ]
  },
  {
   "cell_type": "code",
   "execution_count": 41,
   "metadata": {},
   "outputs": [
    {
     "data": {
      "image/png": "[encoded data removed]",
      "text/plain": [
       "<Figure size 432x288 with 1 Axes>"
      ]
     },
     "metadata": {
      "needs_background": "light"
     },
     "output_type": "display_data"
    }
   ],
   "source": [
    "ada_importance = ada.feature_importances_\n",
    "ada_importances = pd.Series(ada_importance, index=X.columns)\n",
    "\n",
    "fig, ax = plt.subplots()\n",
    "ada_importances.plot.barh(ax=ax)\n",
    "ax.set_title(\"Feature importances\")\n",
    "ax.set_ylabel(\"Mean decrease in impurity\")\n",
    "fig.tight_layout()"
   ]
  },
  {
   "cell_type": "code",
   "execution_count": null,
   "metadata": {},
   "outputs": [],
   "source": []
  }
 ],
 "metadata": {
  "kernelspec": {
   "display_name": "Python 3.8.2 ('base')",
   "language": "python",
   "name": "python3"
  },
  "language_info": {
   "codemirror_mode": {
    "name": "ipython",
    "version": 3
   },
   "file_extension": ".py",
   "mimetype": "text/x-python",
   "name": "python",
   "nbconvert_exporter": "python",
   "pygments_lexer": "ipython3",
   "version": "3.8.2"
  },
  "orig_nbformat": 4,
  "vscode": {
   "interpreter": {
    "hash": "40d3a090f54c6569ab1632332b64b2c03c39dcf918b08424e98f38b5ae0af88f"
   }
  }
 },
 "nbformat": 4,
 "nbformat_minor": 2
}
