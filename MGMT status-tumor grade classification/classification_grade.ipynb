{
 "cells": [
  {
   "cell_type": "markdown",
   "metadata": {},
   "source": [
    "### Classification tumor grade"
   ]
  },
  {
   "cell_type": "code",
   "execution_count": 1,
   "metadata": {},
   "outputs": [],
   "source": [
    "import pandas as pd\n",
    "from sklearn.preprocessing import StandardScaler\n",
    "from collections import Counter\n",
    "from imblearn.over_sampling import SMOTE\n",
    "from sklearn.model_selection import train_test_split\n",
    "from sklearn.multiclass import OneVsRestClassifier\n",
    "from sklearn.neighbors import KNeighborsClassifier\n",
    "from sklearn.tree import DecisionTreeClassifier\n",
    "from sklearn.ensemble import RandomForestClassifier\n",
    "from sklearn.metrics import classification_report\n",
    "from sklearn.metrics import confusion_matrix\n",
    "import seaborn as sns\n",
    "import matplotlib.pyplot as plt\n"
   ]
  },
  {
   "cell_type": "code",
   "execution_count": 2,
   "metadata": {},
   "outputs": [],
   "source": [
    "df = pd.read_csv('meta_tumor_data.csv', index_col=0)"
   ]
  },
  {
   "cell_type": "markdown",
   "metadata": {},
   "source": [
    "---\n",
    "### Standardized numeric columns"
   ]
  },
  {
   "cell_type": "code",
   "execution_count": 3,
   "metadata": {},
   "outputs": [],
   "source": [
    "tumor_df = df[['right_percentage', 'front_percentage', 'up_percentage',\n",
    "       'tumor_1_percent', 'tumor_2_percent', 'tumor_4_percent', 'tumor_size','Age at MRI']]\n",
    "scaler = StandardScaler()\n",
    "standardized_tumor = scaler.fit_transform(tumor_df)"
   ]
  },
  {
   "cell_type": "code",
   "execution_count": 4,
   "metadata": {},
   "outputs": [],
   "source": [
    "df['standardized_right_percentage'] = standardized_tumor[:,0]\n",
    "df['standardized_front_percentage'] = standardized_tumor[:,1]\n",
    "df['standardized_up_percentage'] = standardized_tumor[:,2]\n",
    "df['standardized_1_percentage'] = standardized_tumor[:,3]\n",
    "df['standardized_2_percentage'] = standardized_tumor[:,4]\n",
    "df['standardized_4_percentage'] = standardized_tumor[:,5]\n",
    "df['standardized_tumor_percentage'] = standardized_tumor[:,6]\n",
    "df['standardized_age'] = standardized_tumor[:,7]"
   ]
  },
  {
   "cell_type": "code",
   "execution_count": 5,
   "metadata": {},
   "outputs": [
    {
     "data": {
      "text/plain": [
       "Index(['ID', 'Grade', 'Age at MRI', 'MGMT index', '1-dead 0-alive', 'OS',\n",
       "       'Sex_F', 'grade_2', 'grade_3', 'grade_4',\n",
       "       'pathologic diagnosis_Astrocytoma', 'pathologic diagnosis_Glioblastoma',\n",
       "       'pathologic diagnosis_Oligodendroglioma', 'MGMT status_indeterminate',\n",
       "       'MGMT status_negative', 'MGMT status_positive', 'MGMT status_nan',\n",
       "       '1p/19q_co-deletion', '1p/19q_intact', '1p/19q_relative co-deletion',\n",
       "       '1p/19q_nan', 'IDH_IDH1 p.Arg132His', 'IDH_IDH1 p.R132C',\n",
       "       'IDH_IDH1 p.R132G', 'IDH_IDH1 p.R132H', 'IDH_IDH1 p.R132S',\n",
       "       'IDH_IDH2 p.Arg172Trp', 'IDH_IDH2 p.R172K', 'IDH_mutated (NOS)',\n",
       "       'IDH_wildtype', 'id', 'tumor_1', 'tumor_2', 'tumor_4', 'brain',\n",
       "       'right_percentage', 'front_percentage', 'up_percentage',\n",
       "       'tumor_1_percent', 'tumor_2_percent', 'tumor_4_percent', 'tumor_size',\n",
       "       'standardized_right_percentage', 'standardized_front_percentage',\n",
       "       'standardized_up_percentage', 'standardized_1_percentage',\n",
       "       'standardized_2_percentage', 'standardized_4_percentage',\n",
       "       'standardized_tumor_percentage', 'standardized_age'],\n",
       "      dtype='object')"
      ]
     },
     "execution_count": 5,
     "metadata": {},
     "output_type": "execute_result"
    }
   ],
   "source": [
    "df.columns"
   ]
  },
  {
   "cell_type": "code",
   "execution_count": 41,
   "metadata": {},
   "outputs": [],
   "source": [
    "X = df[['standardized_right_percentage', 'standardized_front_percentage',\n",
    "       'standardized_up_percentage', 'standardized_1_percentage',\n",
    "       'standardized_2_percentage', 'standardized_4_percentage', 'standardized_tumor_percentage']]\n",
    "y = df['Grade']"
   ]
  },
  {
   "cell_type": "code",
   "execution_count": 42,
   "metadata": {},
   "outputs": [
    {
     "data": {
      "text/plain": [
       "Counter({4: 402, 3: 43, 2: 56})"
      ]
     },
     "execution_count": 42,
     "metadata": {},
     "output_type": "execute_result"
    }
   ],
   "source": [
    "Counter(y)"
   ]
  },
  {
   "cell_type": "markdown",
   "metadata": {},
   "source": [
    "---\n",
    "#### imblanced data for tumor grade --> oversampling by SMOTE"
   ]
  },
  {
   "cell_type": "code",
   "execution_count": 43,
   "metadata": {},
   "outputs": [],
   "source": [
    "X_train, X_test, y_train, y_test = train_test_split(X, y, test_size=0.2, random_state=596)"
   ]
  },
  {
   "cell_type": "code",
   "execution_count": 44,
   "metadata": {},
   "outputs": [
    {
     "data": {
      "text/plain": [
       "Counter({4: 81, 3: 8, 2: 12})"
      ]
     },
     "execution_count": 44,
     "metadata": {},
     "output_type": "execute_result"
    }
   ],
   "source": [
    "Counter(y_test)"
   ]
  },
  {
   "cell_type": "code",
   "execution_count": 45,
   "metadata": {},
   "outputs": [
    {
     "data": {
      "text/plain": [
       "Counter({4: 321, 3: 35, 2: 44})"
      ]
     },
     "execution_count": 45,
     "metadata": {},
     "output_type": "execute_result"
    }
   ],
   "source": [
    "Counter(y_train)"
   ]
  },
  {
   "cell_type": "code",
   "execution_count": 46,
   "metadata": {},
   "outputs": [],
   "source": [
    "oversample = SMOTE(random_state=88)\n",
    "X_train, y_train = oversample.fit_resample(X_train,y_train)"
   ]
  },
  {
   "cell_type": "code",
   "execution_count": 47,
   "metadata": {},
   "outputs": [
    {
     "data": {
      "text/plain": [
       "Counter({4: 321, 3: 321, 2: 321})"
      ]
     },
     "execution_count": 47,
     "metadata": {},
     "output_type": "execute_result"
    }
   ],
   "source": [
    "Counter(y_train)"
   ]
  },
  {
   "cell_type": "markdown",
   "metadata": {},
   "source": [
    "---\n",
    "#### KNN"
   ]
  },
  {
   "cell_type": "code",
   "execution_count": 48,
   "metadata": {},
   "outputs": [
    {
     "name": "stdout",
     "output_type": "stream",
     "text": [
      "Train score: 0.9065420560747663\n",
      "Test score: 0.7128712871287128\n"
     ]
    }
   ],
   "source": [
    "clf = OneVsRestClassifier(KNeighborsClassifier(n_neighbors=5)).fit(X_train, y_train)\n",
    "print(\"Train score:\",clf.score(X_train, y_train))\n",
    "print(\"Test score:\", clf.score(X_test, y_test))"
   ]
  },
  {
   "cell_type": "code",
   "execution_count": 49,
   "metadata": {},
   "outputs": [
    {
     "name": "stdout",
     "output_type": "stream",
     "text": [
      "              precision    recall  f1-score   support\n",
      "\n",
      "           2       0.39      0.58      0.47        12\n",
      "           3       0.24      0.62      0.34         8\n",
      "           4       0.97      0.74      0.84        81\n",
      "\n",
      "    accuracy                           0.71       101\n",
      "   macro avg       0.53      0.65      0.55       101\n",
      "weighted avg       0.84      0.71      0.76       101\n",
      "\n"
     ]
    }
   ],
   "source": [
    "print(classification_report(y_test, clf.predict(X_test)))"
   ]
  },
  {
   "cell_type": "code",
   "execution_count": 50,
   "metadata": {},
   "outputs": [
    {
     "data": {
      "text/plain": [
       "[Text(0, 0.5, 'Grade2'), Text(0, 1.5, 'Grade3'), Text(0, 2.5, 'Grade4')]"
      ]
     },
     "execution_count": 50,
     "metadata": {},
     "output_type": "execute_result"
    },
    {
     "data": {
      "image/png": "[encoded data removed]",
      "text/plain": [
       "<Figure size 432x288 with 2 Axes>"
      ]
     },
     "metadata": {
      "needs_background": "light"
     },
     "output_type": "display_data"
    }
   ],
   "source": [
    "ax = plt.subplot()\n",
    "sns.heatmap(confusion_matrix(y_test, clf.predict(X_test)), \n",
    "            annot = True, ax=ax,\n",
    "            cmap='Blues')\n",
    "\n",
    "ax.set_xlabel('Predicted labels');ax.set_ylabel('True labels'); \n",
    "ax.set_title('Confusion Matrix for KNN Classifier'); \n",
    "ax.xaxis.set_ticklabels(['Grade2', 'Grade3', 'Grade4']); ax.yaxis.set_ticklabels(['Grade2', 'Grade3', 'Grade4'])"
   ]
  },
  {
   "cell_type": "markdown",
   "metadata": {},
   "source": [
    "---\n",
    "#### Decision Tree"
   ]
  },
  {
   "cell_type": "code",
   "execution_count": 51,
   "metadata": {},
   "outputs": [
    {
     "name": "stdout",
     "output_type": "stream",
     "text": [
      "Train score: 0.8525441329179647\n",
      "Test score: 0.8217821782178217\n"
     ]
    }
   ],
   "source": [
    "clf = OneVsRestClassifier(DecisionTreeClassifier(max_depth = 3, random_state=1)).fit(X_train, y_train)\n",
    "print(\"Train score:\",clf.score(X_train, y_train))\n",
    "print(\"Test score:\", clf.score(X_test, y_test))\n"
   ]
  },
  {
   "cell_type": "code",
   "execution_count": 52,
   "metadata": {},
   "outputs": [
    {
     "name": "stdout",
     "output_type": "stream",
     "text": [
      "              precision    recall  f1-score   support\n",
      "\n",
      "           2       0.64      0.75      0.69        12\n",
      "           3       0.21      0.38      0.27         8\n",
      "           4       0.97      0.88      0.92        81\n",
      "\n",
      "    accuracy                           0.82       101\n",
      "   macro avg       0.61      0.67      0.63       101\n",
      "weighted avg       0.87      0.82      0.84       101\n",
      "\n"
     ]
    }
   ],
   "source": [
    "print(classification_report(y_test, clf.predict(X_test)))"
   ]
  },
  {
   "cell_type": "code",
   "execution_count": 53,
   "metadata": {},
   "outputs": [
    {
     "data": {
      "text/plain": [
       "[Text(0, 0.5, 'Grade2'), Text(0, 1.5, 'Grade3'), Text(0, 2.5, 'Grade4')]"
      ]
     },
     "execution_count": 53,
     "metadata": {},
     "output_type": "execute_result"
    },
    {
     "data": {
      "image/png": "[encoded data removed]",
      "text/plain": [
       "<Figure size 432x288 with 2 Axes>"
      ]
     },
     "metadata": {
      "needs_background": "light"
     },
     "output_type": "display_data"
    }
   ],
   "source": [
    "ax = plt.subplot()\n",
    "sns.heatmap(confusion_matrix(y_test, clf.predict(X_test)), \n",
    "            annot = True, ax=ax,\n",
    "            cmap='Blues')\n",
    "\n",
    "ax.set_xlabel('Predicted labels');ax.set_ylabel('True labels'); \n",
    "ax.set_title('Confusion Matrix for Decision Tree Classifier'); \n",
    "ax.xaxis.set_ticklabels(['Grade2', 'Grade3', 'Grade4']); ax.yaxis.set_ticklabels(['Grade2', 'Grade3', 'Grade4'])"
   ]
  },
  {
   "cell_type": "markdown",
   "metadata": {},
   "source": [
    "----\n",
    "#### Random forest"
   ]
  },
  {
   "cell_type": "code",
   "execution_count": 54,
   "metadata": {},
   "outputs": [
    {
     "name": "stdout",
     "output_type": "stream",
     "text": [
      "Train score: 1.0\n",
      "Test score: 0.8613861386138614\n"
     ]
    }
   ],
   "source": [
    "clf = OneVsRestClassifier(RandomForestClassifier(n_estimators=100, random_state=1)).fit(X_train, y_train)\n",
    "print(\"Train score:\",clf.score(X_train, y_train))\n",
    "print(\"Test score:\", clf.score(X_test, y_test))"
   ]
  },
  {
   "cell_type": "code",
   "execution_count": 55,
   "metadata": {},
   "outputs": [
    {
     "name": "stdout",
     "output_type": "stream",
     "text": [
      "              precision    recall  f1-score   support\n",
      "\n",
      "           2       0.64      0.58      0.61        12\n",
      "           3       0.27      0.38      0.32         8\n",
      "           4       0.97      0.95      0.96        81\n",
      "\n",
      "    accuracy                           0.86       101\n",
      "   macro avg       0.63      0.64      0.63       101\n",
      "weighted avg       0.88      0.86      0.87       101\n",
      "\n"
     ]
    }
   ],
   "source": [
    "print(classification_report(y_test, clf.predict(X_test)))"
   ]
  },
  {
   "cell_type": "code",
   "execution_count": 56,
   "metadata": {},
   "outputs": [
    {
     "data": {
      "text/plain": [
       "[Text(0, 0.5, 'Grade2'), Text(0, 1.5, 'Grade3'), Text(0, 2.5, 'Grade4')]"
      ]
     },
     "execution_count": 56,
     "metadata": {},
     "output_type": "execute_result"
    },
    {
     "data": {
      "image/png": "[encoded data removed]",
      "text/plain": [
       "<Figure size 432x288 with 2 Axes>"
      ]
     },
     "metadata": {
      "needs_background": "light"
     },
     "output_type": "display_data"
    }
   ],
   "source": [
    "ax = plt.subplot()\n",
    "sns.heatmap(confusion_matrix(y_test, clf.predict(X_test)), \n",
    "            annot = True, ax=ax,\n",
    "            cmap='Blues')\n",
    "\n",
    "ax.set_xlabel('Predicted labels');ax.set_ylabel('True labels'); \n",
    "ax.set_title('Confusion Matrix for Random Forest Classifier'); \n",
    "ax.xaxis.set_ticklabels(['Grade2', 'Grade3', 'Grade4']); ax.yaxis.set_ticklabels(['Grade2', 'Grade3', 'Grade4'])"
   ]
  },
  {
   "cell_type": "code",
   "execution_count": null,
   "metadata": {},
   "outputs": [],
   "source": []
  }
 ],
 "metadata": {
  "kernelspec": {
   "display_name": "Python 3.8.2 ('base')",
   "language": "python",
   "name": "python3"
  },
  "language_info": {
   "codemirror_mode": {
    "name": "ipython",
    "version": 3
   },
   "file_extension": ".py",
   "mimetype": "text/x-python",
   "name": "python",
   "nbconvert_exporter": "python",
   "pygments_lexer": "ipython3",
   "version": "3.8.2"
  },
  "orig_nbformat": 4,
  "vscode": {
   "interpreter": {
    "hash": "40d3a090f54c6569ab1632332b64b2c03c39dcf918b08424e98f38b5ae0af88f"
   }
  }
 },
 "nbformat": 4,
 "nbformat_minor": 2
}
