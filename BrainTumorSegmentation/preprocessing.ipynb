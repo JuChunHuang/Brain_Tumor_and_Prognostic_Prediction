{
 "cells": [
  {
   "cell_type": "code",
   "execution_count": null,
   "id": "6b20b23f",
   "metadata": {},
   "outputs": [],
   "source": [
    "import os\n",
    "import glob\n",
    "import cv2\n",
    "import nibabel as nib\n",
    "import numpy as np\n",
    "import matplotlib.pyplot as plt\n",
    "from tqdm.notebook import tqdm"
   ]
  },
  {
   "cell_type": "code",
   "execution_count": null,
   "id": "0b3f5599",
   "metadata": {},
   "outputs": [],
   "source": [
    "file_path = \"UCSF-PDGM-nifti\"\n",
    "file_list = glob.glob(os.path.join(file_path, \"*\"))\n",
    "for i in file_list:\n",
    "    img_list = glob.glob(os.path.join(i, \"*\"))\n",
    "#     os.remove(img_list[3])\n",
    "img_list"
   ]
  },
  {
   "cell_type": "markdown",
   "id": "e12d3128",
   "metadata": {},
   "source": [
    "# Preprocessing"
   ]
  },
  {
   "cell_type": "code",
   "execution_count": null,
   "id": "53776c55",
   "metadata": {},
   "outputs": [],
   "source": [
    "def normalize(full_volume):\n",
    "    \"\"\"\n",
    "    Z-Normalization of the whole subject\n",
    "    \"\"\"\n",
    "    mu = full_volume.mean()\n",
    "    std = np.std(full_volume)\n",
    "    normalized = (full_volume - mu) / std\n",
    "    return normalized\n",
    "\n",
    "def standardize(normalized_data):\n",
    "    \"\"\"\n",
    "    Standardize the normalized data into the 0-1 range\n",
    "    \"\"\"\n",
    "    standardized_data = (normalized_data - normalized_data.min()) / (normalized_data.max() - normalized_data.min())\n",
    "    return standardized_data"
   ]
  },
  {
   "cell_type": "code",
   "execution_count": null,
   "id": "c5608bce",
   "metadata": {},
   "outputs": [],
   "source": [
    "def preprocessing(file_path):\n",
    "    file_list = glob.glob(os.path.join(file_path, \"*\"))\n",
    "    save_path = (\"preprocessed\")\n",
    "    \n",
    "    for counter, path in enumerate(tqdm(file_list)):\n",
    "        patient_id = path[30:44]\n",
    "        data_path = path + '/' + patient_id + '_T1.nii.gz'\n",
    "        label_path = path + '/' + patient_id + '_tumor_segmentation.nii.gz'\n",
    "\n",
    "        data = nib.load(data_path)\n",
    "        label = nib.load(label_path)\n",
    "        mri = data.get_fdata()\n",
    "        mask = label.get_fdata().round()\n",
    "        \n",
    "        normalized_mri = normalize(mri)\n",
    "        standardized_mri = standardize(normalized_mri)\n",
    "        \n",
    "        if counter < 480:\n",
    "            current_path = os.path.join(save_path, \"train\", patient_id)\n",
    "        else:\n",
    "            current_path = os.path.join(save_path, \"test\", patient_id)\n",
    "        \n",
    "        # Loop over the slices in the full volume and store the images and labels in the data/mask directory\n",
    "        for i in range(standardized_mri.shape[-1]):\n",
    "            slice_mri = standardized_mri[:,:,i]\n",
    "            slice_mask = mask[:,:,i]\n",
    "            \n",
    "            slice_mri_path = os.path.join(current_path, \"data\")\n",
    "            slice_mask_path = os.path.join(current_path, \"mask\")\n",
    "            if not os.path.exists(slice_mri_path):\n",
    "                os.makedirs(slice_mri_path)\n",
    "            if not os.path.exists(slice_mask_path):\n",
    "                os.makedirs(slice_mask_path)\n",
    "                \n",
    "            np.save(os.path.join(slice_mri_path, str(i)), slice_mri)\n",
    "            np.save(os.path.join(slice_mask_path, str(i)), slice_mask)"
   ]
  },
  {
   "cell_type": "code",
   "execution_count": null,
   "id": "0fbc9327",
   "metadata": {},
   "outputs": [],
   "source": [
    "file_path = \"UCSF-PDGM-nifti/\"\n",
    "preprocessing(file_path)"
   ]
  },
  {
   "cell_type": "markdown",
   "id": "fb22a8b4",
   "metadata": {},
   "source": [
    "# Validate proprocessed data"
   ]
  },
  {
   "cell_type": "code",
   "execution_count": null,
   "id": "1988e4e7",
   "metadata": {},
   "outputs": [],
   "source": [
    "path = \"preprocessed/train/UCSF-PDGM-0004\"\n",
    "file = \"115.npy\"\n",
    "slice_mri = np.load(path + \"/data/\" + file)\n",
    "slice_mask = np.load(path + \"/mask/\" + file)"
   ]
  },
  {
   "cell_type": "code",
   "execution_count": null,
   "id": "3b8458ca",
   "metadata": {},
   "outputs": [],
   "source": [
    "slice_mask"
   ]
  },
  {
   "cell_type": "code",
   "execution_count": null,
   "id": "49cf9755",
   "metadata": {},
   "outputs": [],
   "source": [
    "plt.figure()\n",
    "plt.imshow(slice_mri, cmap=\"bone\")\n",
    "mask_ = np.ma.masked_where(slice_mask==0, slice_mask)\n",
    "plt.imshow(mask_, cmap=\"autumn\")"
   ]
  }
 ],
 "metadata": {
  "kernelspec": {
   "display_name": "Python 3 (ipykernel)",
   "language": "python",
   "name": "python3"
  },
  "language_info": {
   "codemirror_mode": {
    "name": "ipython",
    "version": 3
   },
   "file_extension": ".py",
   "mimetype": "text/x-python",
   "name": "python",
   "nbconvert_exporter": "python",
   "pygments_lexer": "ipython3",
   "version": "3.8.5 (default, Sep  3 2020, 21:29:08) [MSC v.1916 64 bit (AMD64)]"
  },
  "vscode": {
   "interpreter": {
    "hash": "f08154012ddadd8e950e6e9e035c7a7b32c136e7647e9b7c77e02eb723a8bedb"
   }
  }
 },
 "nbformat": 4,
 "nbformat_minor": 5
}
